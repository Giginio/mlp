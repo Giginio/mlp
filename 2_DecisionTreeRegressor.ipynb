{
 "cells": [
  {
   "cell_type": "code",
   "execution_count": 1,
   "metadata": {},
   "outputs": [],
   "source": [
    "import pandas as pd\n",
    "import numpy as np\n",
    "\n",
    "import matplotlib.pyplot as plt\n",
    "import seaborn as sns\n",
    "\n",
    "import re\n",
    "#für interactive violinplots (alternative zu seaborn)\n",
    "import plotly.express as px #conda install plotly\n",
    "# ValueError: Mime type rendering requires nbformat>=4.2.0 but it is not installed\n",
    "    # Method 1: pip install ipykernel\n",
    "    # Method 2: pip install --upgrade nbformat\n",
    "        # Method 2 worked for me\n",
    "\n",
    "# Enable inline plotting in Jupyter Notebook\n",
    "%matplotlib inline\n",
    "\n",
    "import mysql.connector #pip install mysql-connector-python"
   ]
  },
  {
   "cell_type": "markdown",
   "metadata": {},
   "source": [
    "# Table of contents\n",
    "\n",
    "1. [Introduction](#introduction)\n",
    "2. [Import and preprocessing](#import)\n",
    "3. [Explorative Data Analysis](#eda)\n",
    "4. [Geolocation Analysis](#loc)\n",
    "\n",
    "\n",
    "## Introduction <a name=\"introduction\"></a>\n",
    "This ipynb file does this and that."
   ]
  },
  {
   "cell_type": "markdown",
   "metadata": {},
   "source": [
    "## Import and preprocessing <a name=\"import\"></a>"
   ]
  },
  {
   "cell_type": "code",
   "execution_count": 2,
   "metadata": {},
   "outputs": [
    {
     "name": "stdout",
     "output_type": "stream",
     "text": [
      "Successfully connected to the database\n"
     ]
    }
   ],
   "source": [
    "\n",
    "\n",
    "# Replace these with your connection parameters\n",
    "config = {\n",
    "    'host': '127.0.0.1',\n",
    "    'port':3306,\n",
    "    'user': 'root',\n",
    "    'password': 'GabaKDube731',\n",
    "    'database': 'mlp'\n",
    "}\n",
    "\n",
    "# Connect to the MySQL Database\n",
    "try:\n",
    "    conn = mysql.connector.connect(**config)\n",
    "    if conn.is_connected():\n",
    "        print('Successfully connected to the database')\n",
    "except mysql.connector.Error as e:\n",
    "    print('Error:', e)"
   ]
  },
  {
   "cell_type": "code",
   "execution_count": 3,
   "metadata": {},
   "outputs": [
    {
     "name": "stderr",
     "output_type": "stream",
     "text": [
      "C:\\Users\\gigim\\AppData\\Local\\Temp\\ipykernel_23348\\1421185529.py:6: UserWarning: pandas only supports SQLAlchemy connectable (engine/connection) or database string URI or sqlite3 DBAPI2 connection. Other DBAPI2 objects are not tested. Please consider using SQLAlchemy.\n",
      "  return pd.read_sql(query, connection)\n"
     ]
    }
   ],
   "source": [
    "# function to read and create a DataFrame\n",
    "def read_table_to_dataframe(connection, table_name):\n",
    "    # example usage: df_temp = read_table_to_dataframe(conn, 'dta')\n",
    "    query = f\"SELECT * FROM {table_name}\"\n",
    "    try:\n",
    "        return pd.read_sql(query, connection)\n",
    "    except Error as e:\n",
    "        print(f\"The error '{e}' occurred\")\n",
    "        return None\n",
    "    \n",
    "df = read_table_to_dataframe(conn, 'dta')"
   ]
  },
  {
   "cell_type": "code",
   "execution_count": 4,
   "metadata": {},
   "outputs": [],
   "source": [
    "df.to_clipboard()"
   ]
  },
  {
   "cell_type": "code",
   "execution_count": 5,
   "metadata": {},
   "outputs": [],
   "source": [
    "# Filter out None values from 'rooms' attribute\n",
    "descriptions = [ 'modern', 'erstvermietung', 'zentral', 'see', 'neu', 'stöckig', 'traum', 'bijou', 'neubau', 'balkon', 'charmant', 'erstbezug']\n",
    "\n",
    "# Create new attributes for each unique value\n",
    "for item in descriptions:\n",
    "    df[item] = df['description'].apply(lambda x: 1 if item in (x or '').lower() else 0)\n",
    "\n",
    "#df = df.drop(columns=['description'])\n",
    "# test this to add 'keine_description' if nothing is found\n",
    "# Add 'keine_description' if no descriptions are found\n",
    "df['keine_description'] = df[descriptions].sum(axis=1).apply(lambda x: 1 if x == 0 else 0)\n",
    "\n",
    "# Append new Value to list for Violinplots\n",
    "descriptions.append('keine_description')"
   ]
  },
  {
   "cell_type": "code",
   "execution_count": 6,
   "metadata": {},
   "outputs": [],
   "source": [
    "# Filter out None values from 'rooms' attribute\n",
    "filtered_rooms = [room for room in df['rooms'] if room is not None]\n",
    "\n",
    "# Extract unique values\n",
    "unique_rooms = list(set(filtered_rooms))\n",
    "\n",
    "# Sort unique values\n",
    "unique_rooms.sort()\n",
    "\n",
    "# Create new attributes for each unique value\n",
    "for room_type in unique_rooms:\n",
    "    df[room_type] = df['rooms'].apply(lambda x: 1 if x == room_type else 0)\n",
    "\n",
    "# Remove the word 'Zimmer' from the 'rooms' column and convert to numeric\n",
    "    # Value will be usefull for EDA\n",
    "df['rooms'] = df['rooms'].str.replace(' Zimmer', '').astype(float)\n",
    "\n",
    "# Filter out rows where the sum of these specific columns is zero (might have to be moved up)\n",
    "df = df[df[unique_rooms].sum(axis=1) > 0]\n"
   ]
  },
  {
   "cell_type": "code",
   "execution_count": 7,
   "metadata": {},
   "outputs": [],
   "source": [
    "# one Hot encode wbauj\n",
    "# Filter out None values from 'rooms' attribute\n",
    "wbauj_list = [wbauj for wbauj in df['wbauj'] if wbauj is not None]\n",
    "\n",
    "# Extract unique values\n",
    "wbauj_list = list(set(wbauj_list))\n",
    "wbauj_list\n",
    "\n",
    "# Create new attributes for each unique value\n",
    "for item in wbauj_list:\n",
    "    df[item] = df['wbauj'].apply(lambda x: 1 if x == item else 0)\n",
    "\n",
    "\n",
    "# Convert columns as string\n",
    "df.columns = ['y' + str(col) if isinstance(col, int) else col for col in df.columns]"
   ]
  },
  {
   "cell_type": "code",
   "execution_count": 8,
   "metadata": {},
   "outputs": [],
   "source": [
    "df.to_clipboard()"
   ]
  },
  {
   "cell_type": "code",
   "execution_count": 9,
   "metadata": {},
   "outputs": [],
   "source": [
    "# df = df.drop(columns=['latitude', 'longitude'])\n",
    "# Keep this for now"
   ]
  },
  {
   "cell_type": "markdown",
   "metadata": {},
   "source": [
    "## Explorative Data Analysis <a name=\"eda\"></a>"
   ]
  },
  {
   "cell_type": "code",
   "execution_count": 10,
   "metadata": {},
   "outputs": [],
   "source": [
    "df[:5].to_clipboard()\n"
   ]
  },
  {
   "cell_type": "code",
   "execution_count": 11,
   "metadata": {},
   "outputs": [
    {
     "data": {
      "text/plain": [
       "Index(['price', 'address', 'description', 'rooms', 'size', 'latitude',\n",
       "       'longitude', 'distance_hospital', 'lr_day', 'lr_night', 'distance_ov',\n",
       "       'wbauj', 'modern', 'erstvermietung', 'zentral', 'see', 'neu', 'stöckig',\n",
       "       'traum', 'bijou', 'neubau', 'balkon', 'charmant', 'erstbezug',\n",
       "       'keine_description', '1 Zimmer', '1.5 Zimmer', '2 Zimmer', '2.5 Zimmer',\n",
       "       '3 Zimmer', '3.5 Zimmer', '4 Zimmer', '4.5 Zimmer', '5 Zimmer',\n",
       "       '5.5 Zimmer', '6 Zimmer', '6.5 Zimmer', '7 Zimmer', '7.5 Zimmer', 'y0',\n",
       "       'y1999', 'y2000', 'y2001', 'y2003', 'y2004', 'y2005', 'y2006', 'y2007',\n",
       "       'y2008', 'y2009', 'y2010', 'y2011', 'y2012', 'y2013', 'y2014', 'y2015',\n",
       "       'y2016', 'y2017', 'y2018', 'y2019', 'y2020', 'y2021', 'y2022', 'y2023',\n",
       "       'y2024'],\n",
       "      dtype='object')"
      ]
     },
     "execution_count": 11,
     "metadata": {},
     "output_type": "execute_result"
    }
   ],
   "source": [
    "df.columns"
   ]
  },
  {
   "cell_type": "code",
   "execution_count": 12,
   "metadata": {},
   "outputs": [
    {
     "data": {
      "text/html": [
       "<div>\n",
       "<style scoped>\n",
       "    .dataframe tbody tr th:only-of-type {\n",
       "        vertical-align: middle;\n",
       "    }\n",
       "\n",
       "    .dataframe tbody tr th {\n",
       "        vertical-align: top;\n",
       "    }\n",
       "\n",
       "    .dataframe thead th {\n",
       "        text-align: right;\n",
       "    }\n",
       "</style>\n",
       "<table border=\"1\" class=\"dataframe\">\n",
       "  <thead>\n",
       "    <tr style=\"text-align: right;\">\n",
       "      <th></th>\n",
       "      <th>price</th>\n",
       "      <th>rooms</th>\n",
       "      <th>distance_hospital</th>\n",
       "      <th>lr_day</th>\n",
       "      <th>lr_night</th>\n",
       "      <th>distance_ov</th>\n",
       "      <th>wbauj</th>\n",
       "    </tr>\n",
       "  </thead>\n",
       "  <tbody>\n",
       "    <tr>\n",
       "      <th>count</th>\n",
       "      <td>757.000000</td>\n",
       "      <td>757.000000</td>\n",
       "      <td>757.000000</td>\n",
       "      <td>757.000000</td>\n",
       "      <td>757.000000</td>\n",
       "      <td>757.000000</td>\n",
       "      <td>757.000000</td>\n",
       "    </tr>\n",
       "    <tr>\n",
       "      <th>mean</th>\n",
       "      <td>3185.027741</td>\n",
       "      <td>2.729855</td>\n",
       "      <td>1.151133</td>\n",
       "      <td>47.236856</td>\n",
       "      <td>39.237120</td>\n",
       "      <td>0.140562</td>\n",
       "      <td>1667.871863</td>\n",
       "    </tr>\n",
       "    <tr>\n",
       "      <th>std</th>\n",
       "      <td>1430.368345</td>\n",
       "      <td>1.241375</td>\n",
       "      <td>0.816590</td>\n",
       "      <td>9.039382</td>\n",
       "      <td>9.476521</td>\n",
       "      <td>0.070928</td>\n",
       "      <td>749.385629</td>\n",
       "    </tr>\n",
       "    <tr>\n",
       "      <th>min</th>\n",
       "      <td>375.000000</td>\n",
       "      <td>1.000000</td>\n",
       "      <td>0.026021</td>\n",
       "      <td>9.300000</td>\n",
       "      <td>0.000000</td>\n",
       "      <td>0.016292</td>\n",
       "      <td>0.000000</td>\n",
       "    </tr>\n",
       "    <tr>\n",
       "      <th>25%</th>\n",
       "      <td>2200.000000</td>\n",
       "      <td>2.000000</td>\n",
       "      <td>0.566880</td>\n",
       "      <td>40.500000</td>\n",
       "      <td>32.300000</td>\n",
       "      <td>0.091067</td>\n",
       "      <td>1999.000000</td>\n",
       "    </tr>\n",
       "    <tr>\n",
       "      <th>50%</th>\n",
       "      <td>2890.000000</td>\n",
       "      <td>2.500000</td>\n",
       "      <td>0.953037</td>\n",
       "      <td>46.300000</td>\n",
       "      <td>38.100000</td>\n",
       "      <td>0.131931</td>\n",
       "      <td>1999.000000</td>\n",
       "    </tr>\n",
       "    <tr>\n",
       "      <th>75%</th>\n",
       "      <td>3800.000000</td>\n",
       "      <td>3.500000</td>\n",
       "      <td>1.510547</td>\n",
       "      <td>54.000000</td>\n",
       "      <td>45.300000</td>\n",
       "      <td>0.179911</td>\n",
       "      <td>1999.000000</td>\n",
       "    </tr>\n",
       "    <tr>\n",
       "      <th>max</th>\n",
       "      <td>12653.000000</td>\n",
       "      <td>7.500000</td>\n",
       "      <td>3.806936</td>\n",
       "      <td>70.200000</td>\n",
       "      <td>61.600000</td>\n",
       "      <td>0.530692</td>\n",
       "      <td>2024.000000</td>\n",
       "    </tr>\n",
       "  </tbody>\n",
       "</table>\n",
       "</div>"
      ],
      "text/plain": [
       "              price       rooms  distance_hospital      lr_day    lr_night  \\\n",
       "count    757.000000  757.000000         757.000000  757.000000  757.000000   \n",
       "mean    3185.027741    2.729855           1.151133   47.236856   39.237120   \n",
       "std     1430.368345    1.241375           0.816590    9.039382    9.476521   \n",
       "min      375.000000    1.000000           0.026021    9.300000    0.000000   \n",
       "25%     2200.000000    2.000000           0.566880   40.500000   32.300000   \n",
       "50%     2890.000000    2.500000           0.953037   46.300000   38.100000   \n",
       "75%     3800.000000    3.500000           1.510547   54.000000   45.300000   \n",
       "max    12653.000000    7.500000           3.806936   70.200000   61.600000   \n",
       "\n",
       "       distance_ov        wbauj  \n",
       "count   757.000000   757.000000  \n",
       "mean      0.140562  1667.871863  \n",
       "std       0.070928   749.385629  \n",
       "min       0.016292     0.000000  \n",
       "25%       0.091067  1999.000000  \n",
       "50%       0.131931  1999.000000  \n",
       "75%       0.179911  1999.000000  \n",
       "max       0.530692  2024.000000  "
      ]
     },
     "metadata": {},
     "output_type": "display_data"
    },
    {
     "data": {
      "text/html": [
       "<div>\n",
       "<style scoped>\n",
       "    .dataframe tbody tr th:only-of-type {\n",
       "        vertical-align: middle;\n",
       "    }\n",
       "\n",
       "    .dataframe tbody tr th {\n",
       "        vertical-align: top;\n",
       "    }\n",
       "\n",
       "    .dataframe thead th {\n",
       "        text-align: right;\n",
       "    }\n",
       "</style>\n",
       "<table border=\"1\" class=\"dataframe\">\n",
       "  <thead>\n",
       "    <tr style=\"text-align: right;\">\n",
       "      <th></th>\n",
       "      <th>modern</th>\n",
       "      <th>erstvermietung</th>\n",
       "      <th>zentral</th>\n",
       "      <th>see</th>\n",
       "      <th>neu</th>\n",
       "      <th>stöckig</th>\n",
       "      <th>traum</th>\n",
       "      <th>bijou</th>\n",
       "      <th>neubau</th>\n",
       "      <th>balkon</th>\n",
       "      <th>charmant</th>\n",
       "      <th>erstbezug</th>\n",
       "    </tr>\n",
       "  </thead>\n",
       "  <tbody>\n",
       "    <tr>\n",
       "      <th>count</th>\n",
       "      <td>757.000000</td>\n",
       "      <td>757.000000</td>\n",
       "      <td>757.000000</td>\n",
       "      <td>757.000000</td>\n",
       "      <td>757.000000</td>\n",
       "      <td>757.000000</td>\n",
       "      <td>757.000000</td>\n",
       "      <td>757.000000</td>\n",
       "      <td>757.000000</td>\n",
       "      <td>757.000000</td>\n",
       "      <td>757.000000</td>\n",
       "      <td>757.000000</td>\n",
       "    </tr>\n",
       "    <tr>\n",
       "      <th>mean</th>\n",
       "      <td>0.113606</td>\n",
       "      <td>0.054161</td>\n",
       "      <td>0.071334</td>\n",
       "      <td>0.062087</td>\n",
       "      <td>0.073976</td>\n",
       "      <td>0.002642</td>\n",
       "      <td>0.034346</td>\n",
       "      <td>0.014531</td>\n",
       "      <td>0.023778</td>\n",
       "      <td>0.023778</td>\n",
       "      <td>0.023778</td>\n",
       "      <td>0.010568</td>\n",
       "    </tr>\n",
       "    <tr>\n",
       "      <th>std</th>\n",
       "      <td>0.317542</td>\n",
       "      <td>0.226485</td>\n",
       "      <td>0.257552</td>\n",
       "      <td>0.241473</td>\n",
       "      <td>0.261905</td>\n",
       "      <td>0.051366</td>\n",
       "      <td>0.182237</td>\n",
       "      <td>0.119745</td>\n",
       "      <td>0.152458</td>\n",
       "      <td>0.152458</td>\n",
       "      <td>0.152458</td>\n",
       "      <td>0.102324</td>\n",
       "    </tr>\n",
       "    <tr>\n",
       "      <th>min</th>\n",
       "      <td>0.000000</td>\n",
       "      <td>0.000000</td>\n",
       "      <td>0.000000</td>\n",
       "      <td>0.000000</td>\n",
       "      <td>0.000000</td>\n",
       "      <td>0.000000</td>\n",
       "      <td>0.000000</td>\n",
       "      <td>0.000000</td>\n",
       "      <td>0.000000</td>\n",
       "      <td>0.000000</td>\n",
       "      <td>0.000000</td>\n",
       "      <td>0.000000</td>\n",
       "    </tr>\n",
       "    <tr>\n",
       "      <th>25%</th>\n",
       "      <td>0.000000</td>\n",
       "      <td>0.000000</td>\n",
       "      <td>0.000000</td>\n",
       "      <td>0.000000</td>\n",
       "      <td>0.000000</td>\n",
       "      <td>0.000000</td>\n",
       "      <td>0.000000</td>\n",
       "      <td>0.000000</td>\n",
       "      <td>0.000000</td>\n",
       "      <td>0.000000</td>\n",
       "      <td>0.000000</td>\n",
       "      <td>0.000000</td>\n",
       "    </tr>\n",
       "    <tr>\n",
       "      <th>50%</th>\n",
       "      <td>0.000000</td>\n",
       "      <td>0.000000</td>\n",
       "      <td>0.000000</td>\n",
       "      <td>0.000000</td>\n",
       "      <td>0.000000</td>\n",
       "      <td>0.000000</td>\n",
       "      <td>0.000000</td>\n",
       "      <td>0.000000</td>\n",
       "      <td>0.000000</td>\n",
       "      <td>0.000000</td>\n",
       "      <td>0.000000</td>\n",
       "      <td>0.000000</td>\n",
       "    </tr>\n",
       "    <tr>\n",
       "      <th>75%</th>\n",
       "      <td>0.000000</td>\n",
       "      <td>0.000000</td>\n",
       "      <td>0.000000</td>\n",
       "      <td>0.000000</td>\n",
       "      <td>0.000000</td>\n",
       "      <td>0.000000</td>\n",
       "      <td>0.000000</td>\n",
       "      <td>0.000000</td>\n",
       "      <td>0.000000</td>\n",
       "      <td>0.000000</td>\n",
       "      <td>0.000000</td>\n",
       "      <td>0.000000</td>\n",
       "    </tr>\n",
       "    <tr>\n",
       "      <th>max</th>\n",
       "      <td>1.000000</td>\n",
       "      <td>1.000000</td>\n",
       "      <td>1.000000</td>\n",
       "      <td>1.000000</td>\n",
       "      <td>1.000000</td>\n",
       "      <td>1.000000</td>\n",
       "      <td>1.000000</td>\n",
       "      <td>1.000000</td>\n",
       "      <td>1.000000</td>\n",
       "      <td>1.000000</td>\n",
       "      <td>1.000000</td>\n",
       "      <td>1.000000</td>\n",
       "    </tr>\n",
       "  </tbody>\n",
       "</table>\n",
       "</div>"
      ],
      "text/plain": [
       "           modern  erstvermietung     zentral         see         neu  \\\n",
       "count  757.000000      757.000000  757.000000  757.000000  757.000000   \n",
       "mean     0.113606        0.054161    0.071334    0.062087    0.073976   \n",
       "std      0.317542        0.226485    0.257552    0.241473    0.261905   \n",
       "min      0.000000        0.000000    0.000000    0.000000    0.000000   \n",
       "25%      0.000000        0.000000    0.000000    0.000000    0.000000   \n",
       "50%      0.000000        0.000000    0.000000    0.000000    0.000000   \n",
       "75%      0.000000        0.000000    0.000000    0.000000    0.000000   \n",
       "max      1.000000        1.000000    1.000000    1.000000    1.000000   \n",
       "\n",
       "          stöckig       traum       bijou      neubau      balkon    charmant  \\\n",
       "count  757.000000  757.000000  757.000000  757.000000  757.000000  757.000000   \n",
       "mean     0.002642    0.034346    0.014531    0.023778    0.023778    0.023778   \n",
       "std      0.051366    0.182237    0.119745    0.152458    0.152458    0.152458   \n",
       "min      0.000000    0.000000    0.000000    0.000000    0.000000    0.000000   \n",
       "25%      0.000000    0.000000    0.000000    0.000000    0.000000    0.000000   \n",
       "50%      0.000000    0.000000    0.000000    0.000000    0.000000    0.000000   \n",
       "75%      0.000000    0.000000    0.000000    0.000000    0.000000    0.000000   \n",
       "max      1.000000    1.000000    1.000000    1.000000    1.000000    1.000000   \n",
       "\n",
       "        erstbezug  \n",
       "count  757.000000  \n",
       "mean     0.010568  \n",
       "std      0.102324  \n",
       "min      0.000000  \n",
       "25%      0.000000  \n",
       "50%      0.000000  \n",
       "75%      0.000000  \n",
       "max      1.000000  "
      ]
     },
     "metadata": {},
     "output_type": "display_data"
    },
    {
     "data": {
      "text/html": [
       "<div>\n",
       "<style scoped>\n",
       "    .dataframe tbody tr th:only-of-type {\n",
       "        vertical-align: middle;\n",
       "    }\n",
       "\n",
       "    .dataframe tbody tr th {\n",
       "        vertical-align: top;\n",
       "    }\n",
       "\n",
       "    .dataframe thead th {\n",
       "        text-align: right;\n",
       "    }\n",
       "</style>\n",
       "<table border=\"1\" class=\"dataframe\">\n",
       "  <thead>\n",
       "    <tr style=\"text-align: right;\">\n",
       "      <th></th>\n",
       "      <th>1 Zimmer</th>\n",
       "      <th>1.5 Zimmer</th>\n",
       "      <th>2 Zimmer</th>\n",
       "      <th>2.5 Zimmer</th>\n",
       "      <th>3 Zimmer</th>\n",
       "      <th>3.5 Zimmer</th>\n",
       "      <th>4 Zimmer</th>\n",
       "      <th>4.5 Zimmer</th>\n",
       "      <th>5 Zimmer</th>\n",
       "      <th>5.5 Zimmer</th>\n",
       "      <th>6 Zimmer</th>\n",
       "      <th>6.5 Zimmer</th>\n",
       "      <th>7 Zimmer</th>\n",
       "      <th>7.5 Zimmer</th>\n",
       "    </tr>\n",
       "  </thead>\n",
       "  <tbody>\n",
       "    <tr>\n",
       "      <th>count</th>\n",
       "      <td>757.000000</td>\n",
       "      <td>757.000000</td>\n",
       "      <td>757.000000</td>\n",
       "      <td>757.000000</td>\n",
       "      <td>757.00000</td>\n",
       "      <td>757.000000</td>\n",
       "      <td>757.000000</td>\n",
       "      <td>757.000000</td>\n",
       "      <td>757.000000</td>\n",
       "      <td>757.000000</td>\n",
       "      <td>757.000000</td>\n",
       "      <td>757.000000</td>\n",
       "      <td>757.000000</td>\n",
       "      <td>757.000000</td>\n",
       "    </tr>\n",
       "    <tr>\n",
       "      <th>mean</th>\n",
       "      <td>0.174373</td>\n",
       "      <td>0.068692</td>\n",
       "      <td>0.101717</td>\n",
       "      <td>0.199472</td>\n",
       "      <td>0.09247</td>\n",
       "      <td>0.191546</td>\n",
       "      <td>0.038309</td>\n",
       "      <td>0.093791</td>\n",
       "      <td>0.006605</td>\n",
       "      <td>0.019815</td>\n",
       "      <td>0.006605</td>\n",
       "      <td>0.002642</td>\n",
       "      <td>0.002642</td>\n",
       "      <td>0.001321</td>\n",
       "    </tr>\n",
       "    <tr>\n",
       "      <th>std</th>\n",
       "      <td>0.379680</td>\n",
       "      <td>0.253097</td>\n",
       "      <td>0.302476</td>\n",
       "      <td>0.399867</td>\n",
       "      <td>0.28988</td>\n",
       "      <td>0.393777</td>\n",
       "      <td>0.192068</td>\n",
       "      <td>0.291731</td>\n",
       "      <td>0.081056</td>\n",
       "      <td>0.139456</td>\n",
       "      <td>0.081056</td>\n",
       "      <td>0.051366</td>\n",
       "      <td>0.051366</td>\n",
       "      <td>0.036346</td>\n",
       "    </tr>\n",
       "    <tr>\n",
       "      <th>min</th>\n",
       "      <td>0.000000</td>\n",
       "      <td>0.000000</td>\n",
       "      <td>0.000000</td>\n",
       "      <td>0.000000</td>\n",
       "      <td>0.00000</td>\n",
       "      <td>0.000000</td>\n",
       "      <td>0.000000</td>\n",
       "      <td>0.000000</td>\n",
       "      <td>0.000000</td>\n",
       "      <td>0.000000</td>\n",
       "      <td>0.000000</td>\n",
       "      <td>0.000000</td>\n",
       "      <td>0.000000</td>\n",
       "      <td>0.000000</td>\n",
       "    </tr>\n",
       "    <tr>\n",
       "      <th>25%</th>\n",
       "      <td>0.000000</td>\n",
       "      <td>0.000000</td>\n",
       "      <td>0.000000</td>\n",
       "      <td>0.000000</td>\n",
       "      <td>0.00000</td>\n",
       "      <td>0.000000</td>\n",
       "      <td>0.000000</td>\n",
       "      <td>0.000000</td>\n",
       "      <td>0.000000</td>\n",
       "      <td>0.000000</td>\n",
       "      <td>0.000000</td>\n",
       "      <td>0.000000</td>\n",
       "      <td>0.000000</td>\n",
       "      <td>0.000000</td>\n",
       "    </tr>\n",
       "    <tr>\n",
       "      <th>50%</th>\n",
       "      <td>0.000000</td>\n",
       "      <td>0.000000</td>\n",
       "      <td>0.000000</td>\n",
       "      <td>0.000000</td>\n",
       "      <td>0.00000</td>\n",
       "      <td>0.000000</td>\n",
       "      <td>0.000000</td>\n",
       "      <td>0.000000</td>\n",
       "      <td>0.000000</td>\n",
       "      <td>0.000000</td>\n",
       "      <td>0.000000</td>\n",
       "      <td>0.000000</td>\n",
       "      <td>0.000000</td>\n",
       "      <td>0.000000</td>\n",
       "    </tr>\n",
       "    <tr>\n",
       "      <th>75%</th>\n",
       "      <td>0.000000</td>\n",
       "      <td>0.000000</td>\n",
       "      <td>0.000000</td>\n",
       "      <td>0.000000</td>\n",
       "      <td>0.00000</td>\n",
       "      <td>0.000000</td>\n",
       "      <td>0.000000</td>\n",
       "      <td>0.000000</td>\n",
       "      <td>0.000000</td>\n",
       "      <td>0.000000</td>\n",
       "      <td>0.000000</td>\n",
       "      <td>0.000000</td>\n",
       "      <td>0.000000</td>\n",
       "      <td>0.000000</td>\n",
       "    </tr>\n",
       "    <tr>\n",
       "      <th>max</th>\n",
       "      <td>1.000000</td>\n",
       "      <td>1.000000</td>\n",
       "      <td>1.000000</td>\n",
       "      <td>1.000000</td>\n",
       "      <td>1.00000</td>\n",
       "      <td>1.000000</td>\n",
       "      <td>1.000000</td>\n",
       "      <td>1.000000</td>\n",
       "      <td>1.000000</td>\n",
       "      <td>1.000000</td>\n",
       "      <td>1.000000</td>\n",
       "      <td>1.000000</td>\n",
       "      <td>1.000000</td>\n",
       "      <td>1.000000</td>\n",
       "    </tr>\n",
       "  </tbody>\n",
       "</table>\n",
       "</div>"
      ],
      "text/plain": [
       "         1 Zimmer  1.5 Zimmer    2 Zimmer  2.5 Zimmer   3 Zimmer  3.5 Zimmer  \\\n",
       "count  757.000000  757.000000  757.000000  757.000000  757.00000  757.000000   \n",
       "mean     0.174373    0.068692    0.101717    0.199472    0.09247    0.191546   \n",
       "std      0.379680    0.253097    0.302476    0.399867    0.28988    0.393777   \n",
       "min      0.000000    0.000000    0.000000    0.000000    0.00000    0.000000   \n",
       "25%      0.000000    0.000000    0.000000    0.000000    0.00000    0.000000   \n",
       "50%      0.000000    0.000000    0.000000    0.000000    0.00000    0.000000   \n",
       "75%      0.000000    0.000000    0.000000    0.000000    0.00000    0.000000   \n",
       "max      1.000000    1.000000    1.000000    1.000000    1.00000    1.000000   \n",
       "\n",
       "         4 Zimmer  4.5 Zimmer    5 Zimmer  5.5 Zimmer    6 Zimmer  6.5 Zimmer  \\\n",
       "count  757.000000  757.000000  757.000000  757.000000  757.000000  757.000000   \n",
       "mean     0.038309    0.093791    0.006605    0.019815    0.006605    0.002642   \n",
       "std      0.192068    0.291731    0.081056    0.139456    0.081056    0.051366   \n",
       "min      0.000000    0.000000    0.000000    0.000000    0.000000    0.000000   \n",
       "25%      0.000000    0.000000    0.000000    0.000000    0.000000    0.000000   \n",
       "50%      0.000000    0.000000    0.000000    0.000000    0.000000    0.000000   \n",
       "75%      0.000000    0.000000    0.000000    0.000000    0.000000    0.000000   \n",
       "max      1.000000    1.000000    1.000000    1.000000    1.000000    1.000000   \n",
       "\n",
       "         7 Zimmer  7.5 Zimmer  \n",
       "count  757.000000  757.000000  \n",
       "mean     0.002642    0.001321  \n",
       "std      0.051366    0.036346  \n",
       "min      0.000000    0.000000  \n",
       "25%      0.000000    0.000000  \n",
       "50%      0.000000    0.000000  \n",
       "75%      0.000000    0.000000  \n",
       "max      1.000000    1.000000  "
      ]
     },
     "metadata": {},
     "output_type": "display_data"
    }
   ],
   "source": [
    "# Generate descriptive statistics\n",
    "display(df[['price', 'address', 'rooms', 'size', 'distance_hospital', 'lr_day', 'lr_night', 'distance_ov', 'wbauj']].describe())\n",
    "display(df[['modern', 'erstvermietung', 'zentral', 'see', 'neu', 'stöckig', 'traum', 'bijou', 'neubau', 'balkon', 'charmant', 'erstbezug']].describe())\n",
    "display(df[['1 Zimmer', '1.5 Zimmer', '2 Zimmer', '2.5 Zimmer', '3 Zimmer', '3.5 Zimmer', '4 Zimmer', '4.5 Zimmer', '5 Zimmer', '5.5 Zimmer', '6 Zimmer', '6.5 Zimmer', '7 Zimmer', '7.5 Zimmer']].describe())"
   ]
  },
  {
   "cell_type": "code",
   "execution_count": 13,
   "metadata": {},
   "outputs": [],
   "source": [
    "df.to_clipboard()\n"
   ]
  },
  {
   "cell_type": "code",
   "execution_count": 14,
   "metadata": {},
   "outputs": [
    {
     "data": {
      "application/vnd.plotly.v1+json": {
       "config": {
        "plotlyServerURL": "https://plot.ly"
       },
       "data": [
        {
         "alignmentgroup": "True",
         "box": {
          "visible": true
         },
         "customdata": [
          [
           "modern"
          ],
          [
           "modern"
          ],
          [
           "modern"
          ],
          [
           "modern"
          ],
          [
           "modern"
          ],
          [
           "modern"
          ],
          [
           "modern"
          ],
          [
           "modern"
          ],
          [
           "modern"
          ],
          [
           "modern"
          ],
          [
           "modern"
          ],
          [
           "modern"
          ],
          [
           "modern"
          ],
          [
           "modern"
          ],
          [
           "modern"
          ],
          [
           "modern"
          ],
          [
           "modern"
          ],
          [
           "modern"
          ],
          [
           "modern"
          ],
          [
           "modern"
          ],
          [
           "modern"
          ],
          [
           "modern"
          ],
          [
           "modern"
          ],
          [
           "modern"
          ],
          [
           "modern"
          ],
          [
           "modern"
          ],
          [
           "modern"
          ],
          [
           "modern"
          ],
          [
           "modern"
          ],
          [
           "modern"
          ],
          [
           "modern"
          ],
          [
           "modern"
          ],
          [
           "modern"
          ],
          [
           "modern"
          ],
          [
           "modern"
          ],
          [
           "modern"
          ],
          [
           "modern"
          ],
          [
           "modern"
          ],
          [
           "modern"
          ],
          [
           "modern"
          ],
          [
           "modern"
          ],
          [
           "modern"
          ],
          [
           "modern"
          ],
          [
           "modern"
          ],
          [
           "modern"
          ],
          [
           "modern"
          ],
          [
           "modern"
          ],
          [
           "modern"
          ],
          [
           "modern"
          ],
          [
           "modern"
          ],
          [
           "modern"
          ],
          [
           "modern"
          ],
          [
           "modern"
          ],
          [
           "modern"
          ],
          [
           "modern"
          ],
          [
           "modern"
          ],
          [
           "modern"
          ],
          [
           "modern"
          ],
          [
           "modern"
          ],
          [
           "modern"
          ],
          [
           "modern"
          ],
          [
           "modern"
          ],
          [
           "modern"
          ],
          [
           "modern"
          ],
          [
           "modern"
          ],
          [
           "modern"
          ],
          [
           "modern"
          ],
          [
           "modern"
          ],
          [
           "modern"
          ],
          [
           "modern"
          ],
          [
           "modern"
          ],
          [
           "modern"
          ],
          [
           "modern"
          ],
          [
           "modern"
          ],
          [
           "modern"
          ],
          [
           "modern"
          ],
          [
           "modern"
          ],
          [
           "modern"
          ],
          [
           "modern"
          ],
          [
           "modern"
          ],
          [
           "modern"
          ],
          [
           "modern"
          ],
          [
           "modern"
          ],
          [
           "modern"
          ],
          [
           "modern"
          ],
          [
           "modern"
          ]
         ],
         "hovertemplate": "description=%{customdata[0]}<br>rooms=%{x}<br>price=%{y}<extra></extra>",
         "legendgroup": "modern",
         "marker": {
          "color": "#636efa"
         },
         "name": "modern",
         "offsetgroup": "modern",
         "orientation": "v",
         "points": "all",
         "scalegroup": "True",
         "showlegend": true,
         "type": "violin",
         "x": [
          4.5,
          4.5,
          4.5,
          2.5,
          2.5,
          3.5,
          3.5,
          1.5,
          3.5,
          3.5,
          1,
          3.5,
          3,
          3.5,
          3.5,
          3.5,
          2.5,
          2.5,
          4.5,
          5.5,
          2.5,
          1,
          2.5,
          3.5,
          2.5,
          2,
          3,
          1.5,
          2.5,
          3.5,
          2.5,
          3.5,
          4.5,
          5.5,
          2.5,
          3.5,
          3.5,
          3.5,
          2.5,
          5.5,
          4.5,
          2.5,
          2.5,
          2.5,
          2.5,
          3.5,
          2.5,
          2.5,
          3.5,
          3.5,
          3.5,
          3.5,
          2,
          3.5,
          2.5,
          2.5,
          2.5,
          3.5,
          4.5,
          2.5,
          2.5,
          3,
          3.5,
          2.5,
          4.5,
          2,
          2.5,
          1.5,
          2,
          1,
          1,
          4.5,
          2.5,
          1.5,
          3.5,
          4.5,
          2.5,
          3.5,
          5,
          2,
          3.5,
          1,
          3.5,
          4.5,
          1.5,
          1.5
         ],
         "x0": " ",
         "xaxis": "x",
         "y": [
          4032,
          4227,
          4262,
          3710,
          3240,
          3940,
          3529,
          2675,
          3971,
          3500,
          2760,
          4500,
          3345,
          3280,
          5080,
          3700,
          2593,
          3562,
          3400,
          5990,
          2595,
          4990,
          2150,
          3845,
          3385,
          2985,
          3490,
          2030,
          2381,
          2443,
          4280,
          4840,
          4765,
          3870,
          2700,
          3055,
          3590,
          2324,
          2481,
          7250,
          6950,
          2460,
          3710,
          2990,
          2890,
          3261,
          2700,
          3490,
          2630,
          3300,
          4079,
          4079,
          3190,
          4130,
          2600,
          2900,
          2150,
          2920,
          5380,
          3385,
          2590,
          2580,
          2800,
          2170,
          4000,
          2750,
          2096,
          1897,
          2700,
          2400,
          2100,
          3250,
          2690,
          1390,
          3490,
          4250,
          3206,
          3871,
          3750,
          1950,
          2730,
          1288,
          2200,
          2200,
          1200,
          1850
         ],
         "y0": " ",
         "yaxis": "y"
        },
        {
         "alignmentgroup": "True",
         "box": {
          "visible": true
         },
         "customdata": [
          [
           "erstvermietung"
          ],
          [
           "erstvermietung"
          ],
          [
           "erstvermietung"
          ],
          [
           "erstvermietung"
          ],
          [
           "erstvermietung"
          ],
          [
           "erstvermietung"
          ],
          [
           "erstvermietung"
          ],
          [
           "erstvermietung"
          ],
          [
           "erstvermietung"
          ],
          [
           "erstvermietung"
          ],
          [
           "erstvermietung"
          ],
          [
           "erstvermietung"
          ],
          [
           "erstvermietung"
          ],
          [
           "erstvermietung"
          ],
          [
           "erstvermietung"
          ],
          [
           "erstvermietung"
          ],
          [
           "erstvermietung"
          ],
          [
           "erstvermietung"
          ],
          [
           "erstvermietung"
          ],
          [
           "erstvermietung"
          ],
          [
           "erstvermietung"
          ],
          [
           "erstvermietung"
          ],
          [
           "erstvermietung"
          ],
          [
           "erstvermietung"
          ],
          [
           "erstvermietung"
          ],
          [
           "erstvermietung"
          ],
          [
           "erstvermietung"
          ],
          [
           "erstvermietung"
          ],
          [
           "erstvermietung"
          ],
          [
           "erstvermietung"
          ],
          [
           "erstvermietung"
          ],
          [
           "erstvermietung"
          ],
          [
           "erstvermietung"
          ],
          [
           "erstvermietung"
          ],
          [
           "erstvermietung"
          ],
          [
           "erstvermietung"
          ],
          [
           "erstvermietung"
          ],
          [
           "erstvermietung"
          ],
          [
           "erstvermietung"
          ],
          [
           "erstvermietung"
          ],
          [
           "erstvermietung"
          ]
         ],
         "hovertemplate": "description=%{customdata[0]}<br>rooms=%{x}<br>price=%{y}<extra></extra>",
         "legendgroup": "erstvermietung",
         "marker": {
          "color": "#EF553B"
         },
         "name": "erstvermietung",
         "offsetgroup": "erstvermietung",
         "orientation": "v",
         "points": "all",
         "scalegroup": "True",
         "showlegend": true,
         "type": "violin",
         "x": [
          4.5,
          5.5,
          3.5,
          4.5,
          4.5,
          3.5,
          2.5,
          3.5,
          3.5,
          3.5,
          3.5,
          2.5,
          2,
          2.5,
          3.5,
          4.5,
          1.5,
          2.5,
          3.5,
          4.5,
          3.5,
          3.5,
          2.5,
          6,
          3.5,
          4.5,
          1,
          2,
          2.5,
          1.5,
          3.5,
          2.5,
          2.5,
          3.5,
          3.5,
          4.5,
          4.5,
          4.5,
          4.5,
          3.5,
          1
         ],
         "x0": " ",
         "xaxis": "x",
         "y": [
          4090,
          4720,
          3850,
          4670,
          5990,
          4990,
          2590,
          3860,
          4380,
          3963,
          3310,
          3160,
          2985,
          2340,
          5470,
          4920,
          1875,
          2690,
          3190,
          5125,
          4080,
          3410,
          3280,
          6830,
          3140,
          3390,
          2000,
          2700,
          2314,
          2470,
          3790,
          2750,
          2720,
          4130,
          3850,
          4090,
          4250,
          4140,
          3990,
          3900,
          2200
         ],
         "y0": " ",
         "yaxis": "y"
        },
        {
         "alignmentgroup": "True",
         "box": {
          "visible": true
         },
         "customdata": [
          [
           "zentral"
          ],
          [
           "zentral"
          ],
          [
           "zentral"
          ],
          [
           "zentral"
          ],
          [
           "zentral"
          ],
          [
           "zentral"
          ],
          [
           "zentral"
          ],
          [
           "zentral"
          ],
          [
           "zentral"
          ],
          [
           "zentral"
          ],
          [
           "zentral"
          ],
          [
           "zentral"
          ],
          [
           "zentral"
          ],
          [
           "zentral"
          ],
          [
           "zentral"
          ],
          [
           "zentral"
          ],
          [
           "zentral"
          ],
          [
           "zentral"
          ],
          [
           "zentral"
          ],
          [
           "zentral"
          ],
          [
           "zentral"
          ],
          [
           "zentral"
          ],
          [
           "zentral"
          ],
          [
           "zentral"
          ],
          [
           "zentral"
          ],
          [
           "zentral"
          ],
          [
           "zentral"
          ],
          [
           "zentral"
          ],
          [
           "zentral"
          ],
          [
           "zentral"
          ],
          [
           "zentral"
          ],
          [
           "zentral"
          ],
          [
           "zentral"
          ],
          [
           "zentral"
          ],
          [
           "zentral"
          ],
          [
           "zentral"
          ],
          [
           "zentral"
          ],
          [
           "zentral"
          ],
          [
           "zentral"
          ],
          [
           "zentral"
          ],
          [
           "zentral"
          ],
          [
           "zentral"
          ],
          [
           "zentral"
          ],
          [
           "zentral"
          ],
          [
           "zentral"
          ],
          [
           "zentral"
          ],
          [
           "zentral"
          ],
          [
           "zentral"
          ],
          [
           "zentral"
          ],
          [
           "zentral"
          ],
          [
           "zentral"
          ],
          [
           "zentral"
          ],
          [
           "zentral"
          ],
          [
           "zentral"
          ]
         ],
         "hovertemplate": "description=%{customdata[0]}<br>rooms=%{x}<br>price=%{y}<extra></extra>",
         "legendgroup": "zentral",
         "marker": {
          "color": "#00cc96"
         },
         "name": "zentral",
         "offsetgroup": "zentral",
         "orientation": "v",
         "points": "all",
         "scalegroup": "True",
         "showlegend": true,
         "type": "violin",
         "x": [
          1.5,
          2,
          3.5,
          2,
          3.5,
          4,
          4.5,
          1.5,
          1.5,
          3,
          2.5,
          1,
          3.5,
          2.5,
          3.5,
          2,
          3,
          3.5,
          2.5,
          3.5,
          3.5,
          2,
          2,
          4,
          2,
          2.5,
          2.5,
          2.5,
          3.5,
          2.5,
          4.5,
          1.5,
          3,
          2,
          1.5,
          2,
          3.5,
          1,
          1,
          4.5,
          3,
          4.5,
          4,
          3.5,
          3.5,
          2,
          3.5,
          3.5,
          1.5,
          3.5,
          4,
          2,
          1.5,
          2
         ],
         "x0": " ",
         "xaxis": "x",
         "y": [
          1720,
          1755,
          2175,
          2172,
          3280,
          1954,
          2485,
          2150,
          1740,
          2690,
          1992,
          1730,
          3845,
          2271,
          2912,
          1842,
          2610,
          2590,
          4455,
          3055,
          2760,
          2200,
          1543,
          2990,
          1830,
          2900,
          2730,
          2730,
          3750,
          2650,
          3550,
          1525,
          2850,
          2380,
          1865,
          2600,
          1910,
          2030,
          1450,
          4000,
          2250,
          3748,
          2100,
          3850,
          2870,
          1855,
          4450,
          3520,
          1239,
          2730,
          2580,
          2490,
          1273,
          2100
         ],
         "y0": " ",
         "yaxis": "y"
        },
        {
         "alignmentgroup": "True",
         "box": {
          "visible": true
         },
         "customdata": [
          [
           "see"
          ],
          [
           "see"
          ],
          [
           "see"
          ],
          [
           "see"
          ],
          [
           "see"
          ],
          [
           "see"
          ],
          [
           "see"
          ],
          [
           "see"
          ],
          [
           "see"
          ],
          [
           "see"
          ],
          [
           "see"
          ],
          [
           "see"
          ],
          [
           "see"
          ],
          [
           "see"
          ],
          [
           "see"
          ],
          [
           "see"
          ],
          [
           "see"
          ],
          [
           "see"
          ],
          [
           "see"
          ],
          [
           "see"
          ],
          [
           "see"
          ],
          [
           "see"
          ],
          [
           "see"
          ],
          [
           "see"
          ],
          [
           "see"
          ],
          [
           "see"
          ],
          [
           "see"
          ],
          [
           "see"
          ],
          [
           "see"
          ],
          [
           "see"
          ],
          [
           "see"
          ],
          [
           "see"
          ],
          [
           "see"
          ],
          [
           "see"
          ],
          [
           "see"
          ],
          [
           "see"
          ],
          [
           "see"
          ],
          [
           "see"
          ],
          [
           "see"
          ],
          [
           "see"
          ],
          [
           "see"
          ],
          [
           "see"
          ],
          [
           "see"
          ],
          [
           "see"
          ],
          [
           "see"
          ],
          [
           "see"
          ],
          [
           "see"
          ]
         ],
         "hovertemplate": "description=%{customdata[0]}<br>rooms=%{x}<br>price=%{y}<extra></extra>",
         "legendgroup": "see",
         "marker": {
          "color": "#ab63fa"
         },
         "name": "see",
         "offsetgroup": "see",
         "orientation": "v",
         "points": "all",
         "scalegroup": "True",
         "showlegend": true,
         "type": "violin",
         "x": [
          5.5,
          1.5,
          2.5,
          2,
          2,
          3.5,
          5,
          4,
          6,
          3.5,
          2.5,
          5.5,
          3.5,
          3.5,
          2,
          2,
          2,
          2,
          4.5,
          1.5,
          4.5,
          2,
          2.5,
          4.5,
          2,
          2.5,
          3,
          3,
          2.5,
          2.5,
          6.5,
          3,
          2,
          1,
          1.5,
          2.5,
          3.5,
          6.5,
          3.5,
          3,
          5.5,
          1.5,
          2.5,
          2.5,
          2.5,
          4.5,
          1
         ],
         "x0": " ",
         "xaxis": "x",
         "y": [
          6117,
          2920,
          2590,
          2330,
          3140,
          4500,
          6700,
          4985,
          6400,
          5195,
          3562,
          5990,
          4683,
          4510,
          1375,
          1550,
          1680,
          2985,
          2685,
          2320,
          5125,
          2200,
          2490,
          4660,
          2252,
          4150,
          2850,
          3340,
          4805,
          3616,
          6250,
          2250,
          2408,
          1890,
          1590,
          6490,
          7490,
          9900,
          8990,
          6900,
          7500,
          1976,
          3570,
          3206,
          3975,
          6900,
          1790
         ],
         "y0": " ",
         "yaxis": "y"
        },
        {
         "alignmentgroup": "True",
         "box": {
          "visible": true
         },
         "customdata": [
          [
           "neu"
          ],
          [
           "neu"
          ],
          [
           "neu"
          ],
          [
           "neu"
          ],
          [
           "neu"
          ],
          [
           "neu"
          ],
          [
           "neu"
          ],
          [
           "neu"
          ],
          [
           "neu"
          ],
          [
           "neu"
          ],
          [
           "neu"
          ],
          [
           "neu"
          ],
          [
           "neu"
          ],
          [
           "neu"
          ],
          [
           "neu"
          ],
          [
           "neu"
          ],
          [
           "neu"
          ],
          [
           "neu"
          ],
          [
           "neu"
          ],
          [
           "neu"
          ],
          [
           "neu"
          ],
          [
           "neu"
          ],
          [
           "neu"
          ],
          [
           "neu"
          ],
          [
           "neu"
          ],
          [
           "neu"
          ],
          [
           "neu"
          ],
          [
           "neu"
          ],
          [
           "neu"
          ],
          [
           "neu"
          ],
          [
           "neu"
          ],
          [
           "neu"
          ],
          [
           "neu"
          ],
          [
           "neu"
          ],
          [
           "neu"
          ],
          [
           "neu"
          ],
          [
           "neu"
          ],
          [
           "neu"
          ],
          [
           "neu"
          ],
          [
           "neu"
          ],
          [
           "neu"
          ],
          [
           "neu"
          ],
          [
           "neu"
          ],
          [
           "neu"
          ],
          [
           "neu"
          ],
          [
           "neu"
          ],
          [
           "neu"
          ],
          [
           "neu"
          ],
          [
           "neu"
          ],
          [
           "neu"
          ],
          [
           "neu"
          ],
          [
           "neu"
          ],
          [
           "neu"
          ],
          [
           "neu"
          ],
          [
           "neu"
          ],
          [
           "neu"
          ]
         ],
         "hovertemplate": "description=%{customdata[0]}<br>rooms=%{x}<br>price=%{y}<extra></extra>",
         "legendgroup": "neu",
         "marker": {
          "color": "#FFA15A"
         },
         "name": "neu",
         "offsetgroup": "neu",
         "orientation": "v",
         "points": "all",
         "scalegroup": "True",
         "showlegend": true,
         "type": "violin",
         "x": [
          2.5,
          5.5,
          3.5,
          2.5,
          4.5,
          3.5,
          1,
          4.5,
          3.5,
          4.5,
          2.5,
          3,
          2,
          3.5,
          2.5,
          2,
          2.5,
          3.5,
          2,
          4.5,
          1,
          2.5,
          4.5,
          3,
          2,
          2.5,
          2.5,
          3.5,
          2.5,
          3.5,
          2.5,
          1,
          3.5,
          1,
          5.5,
          1,
          2,
          2.5,
          3,
          3.5,
          1.5,
          3.5,
          3.5,
          3.5,
          4.5,
          1,
          2.5,
          1,
          4.5,
          4.5,
          4.5,
          3.5,
          4,
          1,
          4.5,
          3.5
         ],
         "x0": " ",
         "xaxis": "x",
         "y": [
          3220,
          6117,
          3529,
          2380,
          3082,
          3590,
          1610,
          4625,
          3670,
          4270,
          2610,
          2995,
          2380,
          2360,
          2890,
          2985,
          3600,
          3350,
          2285,
          2685,
          2850,
          2990,
          3947,
          3990,
          2570,
          2481,
          2780,
          3750,
          2650,
          2120,
          2630,
          1970,
          3405,
          2485,
          5500,
          2000,
          2700,
          2950,
          4810,
          2250,
          1745,
          3850,
          4450,
          3520,
          4125,
          1690,
          3990,
          720,
          4250,
          4140,
          3990,
          3900,
          5000,
          2200,
          3525,
          2200
         ],
         "y0": " ",
         "yaxis": "y"
        },
        {
         "alignmentgroup": "True",
         "box": {
          "visible": true
         },
         "customdata": [
          [
           "stöckig"
          ],
          [
           "stöckig"
          ]
         ],
         "hovertemplate": "description=%{customdata[0]}<br>rooms=%{x}<br>price=%{y}<extra></extra>",
         "legendgroup": "stöckig",
         "marker": {
          "color": "#19d3f3"
         },
         "name": "stöckig",
         "offsetgroup": "stöckig",
         "orientation": "v",
         "points": "all",
         "scalegroup": "True",
         "showlegend": true,
         "type": "violin",
         "x": [
          2.5,
          5.5
         ],
         "x0": " ",
         "xaxis": "x",
         "y": [
          2782,
          7980
         ],
         "y0": " ",
         "yaxis": "y"
        },
        {
         "alignmentgroup": "True",
         "box": {
          "visible": true
         },
         "customdata": [
          [
           "traum"
          ],
          [
           "traum"
          ],
          [
           "traum"
          ],
          [
           "traum"
          ],
          [
           "traum"
          ],
          [
           "traum"
          ],
          [
           "traum"
          ],
          [
           "traum"
          ],
          [
           "traum"
          ],
          [
           "traum"
          ],
          [
           "traum"
          ],
          [
           "traum"
          ],
          [
           "traum"
          ],
          [
           "traum"
          ],
          [
           "traum"
          ],
          [
           "traum"
          ],
          [
           "traum"
          ],
          [
           "traum"
          ],
          [
           "traum"
          ],
          [
           "traum"
          ],
          [
           "traum"
          ],
          [
           "traum"
          ],
          [
           "traum"
          ],
          [
           "traum"
          ],
          [
           "traum"
          ],
          [
           "traum"
          ]
         ],
         "hovertemplate": "description=%{customdata[0]}<br>rooms=%{x}<br>price=%{y}<extra></extra>",
         "legendgroup": "traum",
         "marker": {
          "color": "#FF6692"
         },
         "name": "traum",
         "offsetgroup": "traum",
         "orientation": "v",
         "points": "all",
         "scalegroup": "True",
         "showlegend": true,
         "type": "violin",
         "x": [
          2.5,
          3.5,
          3.5,
          2.5,
          4.5,
          2,
          3,
          5.5,
          4.5,
          3.5,
          3.5,
          2.5,
          5.5,
          2.5,
          2.5,
          2.5,
          3.5,
          2.5,
          2.5,
          3.5,
          4.5,
          3.5,
          5.5,
          3.5,
          3.5,
          3.5
         ],
         "x0": " ",
         "xaxis": "x",
         "y": [
          3220,
          6490,
          3174,
          3200,
          3495,
          2380,
          2990,
          5900,
          4490,
          4490,
          3055,
          3705,
          4300,
          3370,
          3450,
          4150,
          3180,
          2900,
          2703,
          6150,
          6090,
          5970,
          7980,
          5693,
          4130,
          2912
         ],
         "y0": " ",
         "yaxis": "y"
        },
        {
         "alignmentgroup": "True",
         "box": {
          "visible": true
         },
         "customdata": [
          [
           "bijou"
          ],
          [
           "bijou"
          ],
          [
           "bijou"
          ],
          [
           "bijou"
          ],
          [
           "bijou"
          ],
          [
           "bijou"
          ],
          [
           "bijou"
          ],
          [
           "bijou"
          ],
          [
           "bijou"
          ],
          [
           "bijou"
          ],
          [
           "bijou"
          ]
         ],
         "hovertemplate": "description=%{customdata[0]}<br>rooms=%{x}<br>price=%{y}<extra></extra>",
         "legendgroup": "bijou",
         "marker": {
          "color": "#B6E880"
         },
         "name": "bijou",
         "offsetgroup": "bijou",
         "orientation": "v",
         "points": "all",
         "scalegroup": "True",
         "showlegend": true,
         "type": "violin",
         "x": [
          4,
          3,
          4.5,
          2,
          3.5,
          4.5,
          3.5,
          3.5,
          4.5,
          3,
          6
         ],
         "x0": " ",
         "xaxis": "x",
         "y": [
          4390,
          3150,
          5242,
          2854,
          3619,
          6645,
          4079,
          4079,
          3177,
          4000,
          5334
         ],
         "y0": " ",
         "yaxis": "y"
        },
        {
         "alignmentgroup": "True",
         "box": {
          "visible": true
         },
         "customdata": [
          [
           "neubau"
          ],
          [
           "neubau"
          ],
          [
           "neubau"
          ],
          [
           "neubau"
          ],
          [
           "neubau"
          ],
          [
           "neubau"
          ],
          [
           "neubau"
          ],
          [
           "neubau"
          ],
          [
           "neubau"
          ],
          [
           "neubau"
          ],
          [
           "neubau"
          ],
          [
           "neubau"
          ],
          [
           "neubau"
          ],
          [
           "neubau"
          ],
          [
           "neubau"
          ],
          [
           "neubau"
          ],
          [
           "neubau"
          ],
          [
           "neubau"
          ]
         ],
         "hovertemplate": "description=%{customdata[0]}<br>rooms=%{x}<br>price=%{y}<extra></extra>",
         "legendgroup": "neubau",
         "marker": {
          "color": "#FF97FF"
         },
         "name": "neubau",
         "offsetgroup": "neubau",
         "orientation": "v",
         "points": "all",
         "scalegroup": "True",
         "showlegend": true,
         "type": "violin",
         "x": [
          2.5,
          2,
          2.5,
          2.5,
          2.5,
          3.5,
          2.5,
          3.5,
          1,
          3.5,
          3.5,
          3.5,
          4.5,
          2.5,
          4.5,
          4.5,
          4.5,
          3.5
         ],
         "x0": " ",
         "xaxis": "x",
         "y": [
          2890,
          2985,
          2990,
          2481,
          2780,
          3750,
          2650,
          3405,
          2485,
          3850,
          4450,
          3520,
          4125,
          3990,
          4250,
          4140,
          3990,
          3900
         ],
         "y0": " ",
         "yaxis": "y"
        },
        {
         "alignmentgroup": "True",
         "box": {
          "visible": true
         },
         "customdata": [
          [
           "balkon"
          ],
          [
           "balkon"
          ],
          [
           "balkon"
          ],
          [
           "balkon"
          ],
          [
           "balkon"
          ],
          [
           "balkon"
          ],
          [
           "balkon"
          ],
          [
           "balkon"
          ],
          [
           "balkon"
          ],
          [
           "balkon"
          ],
          [
           "balkon"
          ],
          [
           "balkon"
          ],
          [
           "balkon"
          ],
          [
           "balkon"
          ],
          [
           "balkon"
          ],
          [
           "balkon"
          ],
          [
           "balkon"
          ],
          [
           "balkon"
          ]
         ],
         "hovertemplate": "description=%{customdata[0]}<br>rooms=%{x}<br>price=%{y}<extra></extra>",
         "legendgroup": "balkon",
         "marker": {
          "color": "#FECB52"
         },
         "name": "balkon",
         "offsetgroup": "balkon",
         "orientation": "v",
         "points": "all",
         "scalegroup": "True",
         "showlegend": true,
         "type": "violin",
         "x": [
          2.5,
          2.5,
          2,
          2,
          1,
          3,
          2,
          3.5,
          2.5,
          2,
          3,
          1.5,
          4,
          1,
          3.5,
          3,
          3.5,
          1.5
         ],
         "x0": " ",
         "xaxis": "x",
         "y": [
          1775,
          2580,
          2985,
          1842,
          1630,
          1895,
          2570,
          3750,
          2650,
          1650,
          2500,
          1940,
          2250,
          2100,
          3850,
          2560,
          4450,
          2050
         ],
         "y0": " ",
         "yaxis": "y"
        },
        {
         "alignmentgroup": "True",
         "box": {
          "visible": true
         },
         "customdata": [
          [
           "charmant"
          ],
          [
           "charmant"
          ],
          [
           "charmant"
          ],
          [
           "charmant"
          ],
          [
           "charmant"
          ],
          [
           "charmant"
          ],
          [
           "charmant"
          ],
          [
           "charmant"
          ],
          [
           "charmant"
          ],
          [
           "charmant"
          ],
          [
           "charmant"
          ],
          [
           "charmant"
          ],
          [
           "charmant"
          ],
          [
           "charmant"
          ],
          [
           "charmant"
          ],
          [
           "charmant"
          ],
          [
           "charmant"
          ],
          [
           "charmant"
          ]
         ],
         "hovertemplate": "description=%{customdata[0]}<br>rooms=%{x}<br>price=%{y}<extra></extra>",
         "legendgroup": "charmant",
         "marker": {
          "color": "#636efa"
         },
         "name": "charmant",
         "offsetgroup": "charmant",
         "orientation": "v",
         "points": "all",
         "scalegroup": "True",
         "showlegend": true,
         "type": "violin",
         "x": [
          2.5,
          2.5,
          2.5,
          2,
          4.5,
          4,
          4.5,
          2,
          2.5,
          2.5,
          1.5,
          4,
          2,
          3,
          2.5,
          1.5,
          3,
          7
         ],
         "x0": " ",
         "xaxis": "x",
         "y": [
          3050,
          2990,
          4202,
          2500,
          4510,
          3461,
          2740,
          1830,
          2290,
          2250,
          1950,
          2145,
          2790,
          3800,
          2480,
          2490,
          2097,
          6253
         ],
         "y0": " ",
         "yaxis": "y"
        },
        {
         "alignmentgroup": "True",
         "box": {
          "visible": true
         },
         "customdata": [
          [
           "erstbezug"
          ],
          [
           "erstbezug"
          ],
          [
           "erstbezug"
          ],
          [
           "erstbezug"
          ],
          [
           "erstbezug"
          ],
          [
           "erstbezug"
          ],
          [
           "erstbezug"
          ],
          [
           "erstbezug"
          ]
         ],
         "hovertemplate": "description=%{customdata[0]}<br>rooms=%{x}<br>price=%{y}<extra></extra>",
         "legendgroup": "erstbezug",
         "marker": {
          "color": "#EF553B"
         },
         "name": "erstbezug",
         "offsetgroup": "erstbezug",
         "orientation": "v",
         "points": "all",
         "scalegroup": "True",
         "showlegend": true,
         "type": "violin",
         "x": [
          2,
          4.5,
          2,
          3.5,
          2.5,
          1.5,
          2,
          2
         ],
         "x0": " ",
         "xaxis": "x",
         "y": [
          2285,
          7500,
          2570,
          6150,
          2725,
          2120,
          2430,
          2320
         ],
         "y0": " ",
         "yaxis": "y"
        },
        {
         "alignmentgroup": "True",
         "box": {
          "visible": true
         },
         "customdata": [
          [
           "keine_description"
          ],
          [
           "keine_description"
          ],
          [
           "keine_description"
          ],
          [
           "keine_description"
          ],
          [
           "keine_description"
          ],
          [
           "keine_description"
          ],
          [
           "keine_description"
          ],
          [
           "keine_description"
          ],
          [
           "keine_description"
          ],
          [
           "keine_description"
          ],
          [
           "keine_description"
          ],
          [
           "keine_description"
          ],
          [
           "keine_description"
          ],
          [
           "keine_description"
          ],
          [
           "keine_description"
          ],
          [
           "keine_description"
          ],
          [
           "keine_description"
          ],
          [
           "keine_description"
          ],
          [
           "keine_description"
          ],
          [
           "keine_description"
          ],
          [
           "keine_description"
          ],
          [
           "keine_description"
          ],
          [
           "keine_description"
          ],
          [
           "keine_description"
          ],
          [
           "keine_description"
          ],
          [
           "keine_description"
          ],
          [
           "keine_description"
          ],
          [
           "keine_description"
          ],
          [
           "keine_description"
          ],
          [
           "keine_description"
          ],
          [
           "keine_description"
          ],
          [
           "keine_description"
          ],
          [
           "keine_description"
          ],
          [
           "keine_description"
          ],
          [
           "keine_description"
          ],
          [
           "keine_description"
          ],
          [
           "keine_description"
          ],
          [
           "keine_description"
          ],
          [
           "keine_description"
          ],
          [
           "keine_description"
          ],
          [
           "keine_description"
          ],
          [
           "keine_description"
          ],
          [
           "keine_description"
          ],
          [
           "keine_description"
          ],
          [
           "keine_description"
          ],
          [
           "keine_description"
          ],
          [
           "keine_description"
          ],
          [
           "keine_description"
          ],
          [
           "keine_description"
          ],
          [
           "keine_description"
          ],
          [
           "keine_description"
          ],
          [
           "keine_description"
          ],
          [
           "keine_description"
          ],
          [
           "keine_description"
          ],
          [
           "keine_description"
          ],
          [
           "keine_description"
          ],
          [
           "keine_description"
          ],
          [
           "keine_description"
          ],
          [
           "keine_description"
          ],
          [
           "keine_description"
          ],
          [
           "keine_description"
          ],
          [
           "keine_description"
          ],
          [
           "keine_description"
          ],
          [
           "keine_description"
          ],
          [
           "keine_description"
          ],
          [
           "keine_description"
          ],
          [
           "keine_description"
          ],
          [
           "keine_description"
          ],
          [
           "keine_description"
          ],
          [
           "keine_description"
          ],
          [
           "keine_description"
          ],
          [
           "keine_description"
          ],
          [
           "keine_description"
          ],
          [
           "keine_description"
          ],
          [
           "keine_description"
          ],
          [
           "keine_description"
          ],
          [
           "keine_description"
          ],
          [
           "keine_description"
          ],
          [
           "keine_description"
          ],
          [
           "keine_description"
          ],
          [
           "keine_description"
          ],
          [
           "keine_description"
          ],
          [
           "keine_description"
          ],
          [
           "keine_description"
          ],
          [
           "keine_description"
          ],
          [
           "keine_description"
          ],
          [
           "keine_description"
          ],
          [
           "keine_description"
          ],
          [
           "keine_description"
          ],
          [
           "keine_description"
          ],
          [
           "keine_description"
          ],
          [
           "keine_description"
          ],
          [
           "keine_description"
          ],
          [
           "keine_description"
          ],
          [
           "keine_description"
          ],
          [
           "keine_description"
          ],
          [
           "keine_description"
          ],
          [
           "keine_description"
          ],
          [
           "keine_description"
          ],
          [
           "keine_description"
          ],
          [
           "keine_description"
          ],
          [
           "keine_description"
          ],
          [
           "keine_description"
          ],
          [
           "keine_description"
          ],
          [
           "keine_description"
          ],
          [
           "keine_description"
          ],
          [
           "keine_description"
          ],
          [
           "keine_description"
          ],
          [
           "keine_description"
          ],
          [
           "keine_description"
          ],
          [
           "keine_description"
          ],
          [
           "keine_description"
          ],
          [
           "keine_description"
          ],
          [
           "keine_description"
          ],
          [
           "keine_description"
          ],
          [
           "keine_description"
          ],
          [
           "keine_description"
          ],
          [
           "keine_description"
          ],
          [
           "keine_description"
          ],
          [
           "keine_description"
          ],
          [
           "keine_description"
          ],
          [
           "keine_description"
          ],
          [
           "keine_description"
          ],
          [
           "keine_description"
          ],
          [
           "keine_description"
          ],
          [
           "keine_description"
          ],
          [
           "keine_description"
          ],
          [
           "keine_description"
          ],
          [
           "keine_description"
          ],
          [
           "keine_description"
          ],
          [
           "keine_description"
          ],
          [
           "keine_description"
          ],
          [
           "keine_description"
          ],
          [
           "keine_description"
          ],
          [
           "keine_description"
          ],
          [
           "keine_description"
          ],
          [
           "keine_description"
          ],
          [
           "keine_description"
          ],
          [
           "keine_description"
          ],
          [
           "keine_description"
          ],
          [
           "keine_description"
          ],
          [
           "keine_description"
          ],
          [
           "keine_description"
          ],
          [
           "keine_description"
          ],
          [
           "keine_description"
          ],
          [
           "keine_description"
          ],
          [
           "keine_description"
          ],
          [
           "keine_description"
          ],
          [
           "keine_description"
          ],
          [
           "keine_description"
          ],
          [
           "keine_description"
          ],
          [
           "keine_description"
          ],
          [
           "keine_description"
          ],
          [
           "keine_description"
          ],
          [
           "keine_description"
          ],
          [
           "keine_description"
          ],
          [
           "keine_description"
          ],
          [
           "keine_description"
          ],
          [
           "keine_description"
          ],
          [
           "keine_description"
          ],
          [
           "keine_description"
          ],
          [
           "keine_description"
          ],
          [
           "keine_description"
          ],
          [
           "keine_description"
          ],
          [
           "keine_description"
          ],
          [
           "keine_description"
          ],
          [
           "keine_description"
          ],
          [
           "keine_description"
          ],
          [
           "keine_description"
          ],
          [
           "keine_description"
          ],
          [
           "keine_description"
          ],
          [
           "keine_description"
          ],
          [
           "keine_description"
          ],
          [
           "keine_description"
          ],
          [
           "keine_description"
          ],
          [
           "keine_description"
          ],
          [
           "keine_description"
          ],
          [
           "keine_description"
          ],
          [
           "keine_description"
          ],
          [
           "keine_description"
          ],
          [
           "keine_description"
          ],
          [
           "keine_description"
          ],
          [
           "keine_description"
          ],
          [
           "keine_description"
          ],
          [
           "keine_description"
          ],
          [
           "keine_description"
          ],
          [
           "keine_description"
          ],
          [
           "keine_description"
          ],
          [
           "keine_description"
          ],
          [
           "keine_description"
          ],
          [
           "keine_description"
          ],
          [
           "keine_description"
          ],
          [
           "keine_description"
          ],
          [
           "keine_description"
          ],
          [
           "keine_description"
          ],
          [
           "keine_description"
          ],
          [
           "keine_description"
          ],
          [
           "keine_description"
          ],
          [
           "keine_description"
          ],
          [
           "keine_description"
          ],
          [
           "keine_description"
          ],
          [
           "keine_description"
          ],
          [
           "keine_description"
          ],
          [
           "keine_description"
          ],
          [
           "keine_description"
          ],
          [
           "keine_description"
          ],
          [
           "keine_description"
          ],
          [
           "keine_description"
          ],
          [
           "keine_description"
          ],
          [
           "keine_description"
          ],
          [
           "keine_description"
          ],
          [
           "keine_description"
          ],
          [
           "keine_description"
          ],
          [
           "keine_description"
          ],
          [
           "keine_description"
          ],
          [
           "keine_description"
          ],
          [
           "keine_description"
          ],
          [
           "keine_description"
          ],
          [
           "keine_description"
          ],
          [
           "keine_description"
          ],
          [
           "keine_description"
          ],
          [
           "keine_description"
          ],
          [
           "keine_description"
          ],
          [
           "keine_description"
          ],
          [
           "keine_description"
          ],
          [
           "keine_description"
          ],
          [
           "keine_description"
          ],
          [
           "keine_description"
          ],
          [
           "keine_description"
          ],
          [
           "keine_description"
          ],
          [
           "keine_description"
          ],
          [
           "keine_description"
          ],
          [
           "keine_description"
          ],
          [
           "keine_description"
          ],
          [
           "keine_description"
          ],
          [
           "keine_description"
          ],
          [
           "keine_description"
          ],
          [
           "keine_description"
          ],
          [
           "keine_description"
          ],
          [
           "keine_description"
          ],
          [
           "keine_description"
          ],
          [
           "keine_description"
          ],
          [
           "keine_description"
          ],
          [
           "keine_description"
          ],
          [
           "keine_description"
          ],
          [
           "keine_description"
          ],
          [
           "keine_description"
          ],
          [
           "keine_description"
          ],
          [
           "keine_description"
          ],
          [
           "keine_description"
          ],
          [
           "keine_description"
          ],
          [
           "keine_description"
          ],
          [
           "keine_description"
          ],
          [
           "keine_description"
          ],
          [
           "keine_description"
          ],
          [
           "keine_description"
          ],
          [
           "keine_description"
          ],
          [
           "keine_description"
          ],
          [
           "keine_description"
          ],
          [
           "keine_description"
          ],
          [
           "keine_description"
          ],
          [
           "keine_description"
          ],
          [
           "keine_description"
          ],
          [
           "keine_description"
          ],
          [
           "keine_description"
          ],
          [
           "keine_description"
          ],
          [
           "keine_description"
          ],
          [
           "keine_description"
          ],
          [
           "keine_description"
          ],
          [
           "keine_description"
          ],
          [
           "keine_description"
          ],
          [
           "keine_description"
          ],
          [
           "keine_description"
          ],
          [
           "keine_description"
          ],
          [
           "keine_description"
          ],
          [
           "keine_description"
          ],
          [
           "keine_description"
          ],
          [
           "keine_description"
          ],
          [
           "keine_description"
          ],
          [
           "keine_description"
          ],
          [
           "keine_description"
          ],
          [
           "keine_description"
          ],
          [
           "keine_description"
          ],
          [
           "keine_description"
          ],
          [
           "keine_description"
          ],
          [
           "keine_description"
          ],
          [
           "keine_description"
          ],
          [
           "keine_description"
          ],
          [
           "keine_description"
          ],
          [
           "keine_description"
          ],
          [
           "keine_description"
          ],
          [
           "keine_description"
          ],
          [
           "keine_description"
          ],
          [
           "keine_description"
          ],
          [
           "keine_description"
          ],
          [
           "keine_description"
          ],
          [
           "keine_description"
          ],
          [
           "keine_description"
          ],
          [
           "keine_description"
          ],
          [
           "keine_description"
          ],
          [
           "keine_description"
          ],
          [
           "keine_description"
          ],
          [
           "keine_description"
          ],
          [
           "keine_description"
          ],
          [
           "keine_description"
          ],
          [
           "keine_description"
          ],
          [
           "keine_description"
          ],
          [
           "keine_description"
          ],
          [
           "keine_description"
          ],
          [
           "keine_description"
          ],
          [
           "keine_description"
          ],
          [
           "keine_description"
          ],
          [
           "keine_description"
          ],
          [
           "keine_description"
          ],
          [
           "keine_description"
          ],
          [
           "keine_description"
          ],
          [
           "keine_description"
          ],
          [
           "keine_description"
          ],
          [
           "keine_description"
          ],
          [
           "keine_description"
          ],
          [
           "keine_description"
          ],
          [
           "keine_description"
          ],
          [
           "keine_description"
          ],
          [
           "keine_description"
          ],
          [
           "keine_description"
          ],
          [
           "keine_description"
          ],
          [
           "keine_description"
          ],
          [
           "keine_description"
          ],
          [
           "keine_description"
          ],
          [
           "keine_description"
          ],
          [
           "keine_description"
          ],
          [
           "keine_description"
          ],
          [
           "keine_description"
          ],
          [
           "keine_description"
          ],
          [
           "keine_description"
          ],
          [
           "keine_description"
          ],
          [
           "keine_description"
          ],
          [
           "keine_description"
          ],
          [
           "keine_description"
          ],
          [
           "keine_description"
          ],
          [
           "keine_description"
          ],
          [
           "keine_description"
          ],
          [
           "keine_description"
          ],
          [
           "keine_description"
          ],
          [
           "keine_description"
          ],
          [
           "keine_description"
          ],
          [
           "keine_description"
          ],
          [
           "keine_description"
          ],
          [
           "keine_description"
          ],
          [
           "keine_description"
          ],
          [
           "keine_description"
          ],
          [
           "keine_description"
          ],
          [
           "keine_description"
          ],
          [
           "keine_description"
          ],
          [
           "keine_description"
          ],
          [
           "keine_description"
          ],
          [
           "keine_description"
          ],
          [
           "keine_description"
          ],
          [
           "keine_description"
          ],
          [
           "keine_description"
          ],
          [
           "keine_description"
          ],
          [
           "keine_description"
          ],
          [
           "keine_description"
          ],
          [
           "keine_description"
          ],
          [
           "keine_description"
          ],
          [
           "keine_description"
          ],
          [
           "keine_description"
          ],
          [
           "keine_description"
          ],
          [
           "keine_description"
          ],
          [
           "keine_description"
          ],
          [
           "keine_description"
          ],
          [
           "keine_description"
          ],
          [
           "keine_description"
          ],
          [
           "keine_description"
          ],
          [
           "keine_description"
          ],
          [
           "keine_description"
          ],
          [
           "keine_description"
          ],
          [
           "keine_description"
          ],
          [
           "keine_description"
          ],
          [
           "keine_description"
          ],
          [
           "keine_description"
          ],
          [
           "keine_description"
          ],
          [
           "keine_description"
          ],
          [
           "keine_description"
          ],
          [
           "keine_description"
          ],
          [
           "keine_description"
          ],
          [
           "keine_description"
          ],
          [
           "keine_description"
          ],
          [
           "keine_description"
          ],
          [
           "keine_description"
          ],
          [
           "keine_description"
          ],
          [
           "keine_description"
          ],
          [
           "keine_description"
          ],
          [
           "keine_description"
          ],
          [
           "keine_description"
          ],
          [
           "keine_description"
          ],
          [
           "keine_description"
          ],
          [
           "keine_description"
          ],
          [
           "keine_description"
          ],
          [
           "keine_description"
          ],
          [
           "keine_description"
          ],
          [
           "keine_description"
          ],
          [
           "keine_description"
          ],
          [
           "keine_description"
          ],
          [
           "keine_description"
          ],
          [
           "keine_description"
          ],
          [
           "keine_description"
          ],
          [
           "keine_description"
          ],
          [
           "keine_description"
          ],
          [
           "keine_description"
          ],
          [
           "keine_description"
          ],
          [
           "keine_description"
          ],
          [
           "keine_description"
          ],
          [
           "keine_description"
          ],
          [
           "keine_description"
          ],
          [
           "keine_description"
          ],
          [
           "keine_description"
          ],
          [
           "keine_description"
          ],
          [
           "keine_description"
          ],
          [
           "keine_description"
          ],
          [
           "keine_description"
          ],
          [
           "keine_description"
          ],
          [
           "keine_description"
          ],
          [
           "keine_description"
          ],
          [
           "keine_description"
          ],
          [
           "keine_description"
          ],
          [
           "keine_description"
          ],
          [
           "keine_description"
          ],
          [
           "keine_description"
          ],
          [
           "keine_description"
          ],
          [
           "keine_description"
          ],
          [
           "keine_description"
          ],
          [
           "keine_description"
          ],
          [
           "keine_description"
          ],
          [
           "keine_description"
          ],
          [
           "keine_description"
          ],
          [
           "keine_description"
          ],
          [
           "keine_description"
          ],
          [
           "keine_description"
          ],
          [
           "keine_description"
          ],
          [
           "keine_description"
          ],
          [
           "keine_description"
          ],
          [
           "keine_description"
          ]
         ],
         "hovertemplate": "description=%{customdata[0]}<br>rooms=%{x}<br>price=%{y}<extra></extra>",
         "legendgroup": "keine_description",
         "marker": {
          "color": "#00cc96"
         },
         "name": "keine_description",
         "offsetgroup": "keine_description",
         "orientation": "v",
         "points": "all",
         "scalegroup": "True",
         "showlegend": true,
         "type": "violin",
         "x": [
          2.5,
          1.5,
          3.5,
          1,
          1.5,
          7.5,
          2,
          3.5,
          3,
          2,
          3.5,
          4,
          3,
          2,
          3.5,
          4,
          2,
          3.5,
          3.5,
          3.5,
          2.5,
          3,
          3.5,
          3.5,
          4.5,
          3,
          2,
          2.5,
          3.5,
          4.5,
          5.5,
          4,
          4.5,
          2.5,
          1.5,
          2.5,
          2.5,
          2.5,
          2,
          3.5,
          3.5,
          3,
          4.5,
          2.5,
          3,
          2.5,
          5,
          1.5,
          3,
          2.5,
          2.5,
          2.5,
          3,
          3,
          3.5,
          3,
          4,
          3,
          3.5,
          5,
          2.5,
          3,
          4,
          3.5,
          3,
          4.5,
          3.5,
          2,
          2,
          3,
          2,
          2.5,
          2,
          2,
          1,
          1,
          1,
          3.5,
          3,
          4.5,
          1,
          2,
          1,
          2.5,
          4.5,
          3,
          4,
          3.5,
          2,
          3,
          3,
          2,
          1,
          2,
          4.5,
          5.5,
          2,
          3,
          3.5,
          2,
          2.5,
          4.5,
          1,
          2.5,
          1,
          1.5,
          3.5,
          2.5,
          2,
          3,
          1,
          2,
          1,
          1,
          1,
          1,
          2,
          1,
          1,
          1,
          1,
          1,
          1,
          1,
          2,
          1,
          1,
          1,
          2,
          1,
          1,
          1,
          1,
          1,
          1,
          1,
          1,
          1,
          2.5,
          1,
          1,
          1,
          2.5,
          2.5,
          2.5,
          1,
          1,
          1,
          2.5,
          3.5,
          3.5,
          3.5,
          2.5,
          2.5,
          3.5,
          4.5,
          3.5,
          3.5,
          2,
          1.5,
          1,
          3.5,
          1,
          2.5,
          1,
          2,
          2.5,
          3,
          2.5,
          2.5,
          5,
          1,
          3,
          2.5,
          3.5,
          3.5,
          1,
          2.5,
          3,
          4.5,
          2.5,
          4.5,
          3,
          1,
          3.5,
          1,
          4.5,
          1.5,
          3.5,
          2.5,
          3.5,
          3.5,
          2,
          1,
          3.5,
          5.5,
          4,
          3,
          2,
          3,
          6,
          4.5,
          3,
          2.5,
          3,
          3.5,
          4,
          1.5,
          1.5,
          3.5,
          2.5,
          4,
          2.5,
          4.5,
          2.5,
          3,
          3,
          4,
          1.5,
          1.5,
          3.5,
          1,
          2.5,
          1.5,
          3.5,
          3.5,
          2.5,
          3,
          2.5,
          2,
          2.5,
          1.5,
          3.5,
          2.5,
          3.5,
          2.5,
          3,
          2.5,
          1,
          2.5,
          2.5,
          3.5,
          2.5,
          4,
          1,
          2.5,
          3.5,
          1,
          1.5,
          4,
          6,
          4,
          3.5,
          3.5,
          1,
          1,
          1,
          1,
          2.5,
          2.5,
          4.5,
          2.5,
          3.5,
          3.5,
          1,
          1,
          1,
          1,
          1,
          1,
          2,
          1,
          1,
          1,
          2,
          1,
          1,
          2,
          4,
          3,
          1,
          1.5,
          3.5,
          3,
          7,
          3,
          1,
          2,
          1,
          1,
          1,
          1,
          2,
          1,
          1,
          2,
          1,
          1,
          2,
          1,
          1,
          2,
          1,
          1,
          3.5,
          3,
          1,
          3.5,
          3.5,
          1,
          3.5,
          2.5,
          4.5,
          4.5,
          1,
          3,
          4.5,
          3.5,
          1,
          1,
          1,
          5.5,
          1,
          1,
          1,
          1,
          2,
          1,
          1.5,
          4,
          2.5,
          4.5,
          3.5,
          2.5,
          3.5,
          3.5,
          2.5,
          2.5,
          2.5,
          2,
          3.5,
          4,
          4,
          3,
          1,
          3.5,
          4,
          4,
          2.5,
          1.5,
          1,
          1.5,
          1,
          1,
          1,
          2.5,
          3.5,
          3,
          2.5,
          2,
          1,
          1,
          1,
          2,
          1,
          1,
          1,
          1.5,
          1.5,
          1.5,
          2,
          1.5,
          1,
          1,
          3.5,
          3,
          3.5,
          3,
          2,
          2,
          2.5,
          3,
          4.5,
          1,
          1.5,
          3.5,
          2.5,
          2.5,
          4.5,
          3.5,
          3.5,
          3.5,
          2.5,
          3.5,
          3.5,
          2.5,
          1,
          3,
          3.5,
          3,
          4.5,
          3,
          4.5,
          3.5,
          2.5,
          1,
          3.5,
          1,
          1,
          4.5,
          4.5,
          2.5,
          2,
          2.5,
          3,
          1.5,
          1,
          2.5,
          5.5,
          2.5,
          3.5,
          2.5,
          1.5,
          2.5,
          2.5,
          3,
          4.5,
          2.5,
          3.5,
          2.5,
          3.5,
          1.5,
          3,
          1,
          3,
          1.5,
          2.5,
          2,
          4.5,
          4.5,
          2.5,
          2.5,
          1
         ],
         "x0": " ",
         "xaxis": "x",
         "y": [
          2600,
          1921,
          4835,
          1380,
          2730,
          5695,
          2753,
          5850,
          2189,
          2105,
          2570,
          3907,
          2340,
          2480,
          2600,
          4029,
          2485,
          3930,
          2092,
          3300,
          2520,
          3568,
          3697,
          2340,
          5085,
          3150,
          1980,
          1990,
          3277,
          3818,
          6850,
          2620,
          4970,
          4990,
          1460,
          3601,
          5685,
          2159,
          1920,
          2690,
          4224,
          3175,
          6140,
          3073,
          2132,
          2738,
          1990,
          1330,
          3371,
          3210,
          4920,
          2030,
          3830,
          3390,
          2150,
          1682,
          2790,
          2360,
          3199,
          5805,
          4355,
          1884,
          2990,
          2500,
          1575,
          5300,
          2555,
          6700,
          4660,
          6680,
          2242,
          6068,
          3300,
          4827,
          3415,
          3519,
          3000,
          3380,
          1813,
          4390,
          1776,
          2024,
          1220,
          2990,
          3010,
          2490,
          3227,
          3985,
          2760,
          3390,
          1810,
          2090,
          2377,
          3934,
          3350,
          12653,
          2306,
          2690,
          4596,
          2590,
          2570,
          3190,
          1290,
          3100,
          1850,
          1890,
          3180,
          2535,
          3104,
          3415,
          4349,
          2170,
          2689,
          3000,
          3000,
          2585,
          6332,
          2896,
          3830,
          3104,
          4453,
          2585,
          2793,
          2170,
          4246,
          1962,
          3104,
          4246,
          5076,
          3104,
          3415,
          2377,
          2066,
          1962,
          3208,
          1962,
          2481,
          1990,
          2850,
          2481,
          5273,
          3519,
          5890,
          6790,
          1869,
          3990,
          1770,
          2792,
          2900,
          5600,
          3550,
          4500,
          2950,
          2890,
          3350,
          2300,
          4050,
          2250,
          2249,
          2650,
          3080,
          3400,
          1650,
          2880,
          1980,
          3100,
          2700,
          3400,
          2750,
          2390,
          5954,
          1250,
          1900,
          3187,
          3575,
          2912,
          1656,
          4700,
          1894,
          3020,
          3095,
          4363,
          2290,
          2450,
          2953,
          1950,
          5850,
          1710,
          3839,
          4095,
          5983,
          2380,
          3431,
          1650,
          3450,
          5300,
          2750,
          3506,
          2380,
          4220,
          6370,
          3950,
          1799,
          2475,
          2130,
          6575,
          2990,
          1900,
          1960,
          2000,
          2500,
          4043,
          3150,
          4226,
          3050,
          4020,
          2184,
          2544,
          1915,
          2010,
          3015,
          1500,
          2485,
          2480,
          2920,
          3000,
          1849,
          2200,
          2200,
          1631,
          2900,
          1735,
          3180,
          2241,
          3576,
          3831,
          2095,
          3562,
          2585,
          1590,
          2112,
          1900,
          1700,
          4440,
          1421,
          4286,
          2690,
          1280,
          1820,
          2890,
          2500,
          7990,
          3490,
          3430,
          3415,
          2793,
          4142,
          4142,
          1905,
          4870,
          11700,
          2950,
          5700,
          5550,
          3000,
          3207,
          2170,
          5273,
          3311,
          4142,
          4339,
          3208,
          4142,
          1962,
          3519,
          3104,
          2377,
          4453,
          2835,
          2895,
          1940,
          1740,
          2050,
          3270,
          8740,
          2836,
          2066,
          3104,
          3415,
          2170,
          3000,
          3208,
          2550,
          2273,
          3623,
          4349,
          2896,
          2030,
          1990,
          1890,
          1345,
          2590,
          1890,
          1590,
          5500,
          3150,
          1620,
          3090,
          2390,
          2100,
          3700,
          4890,
          9800,
          2950,
          1284,
          1750,
          4900,
          3700,
          2150,
          1950,
          2150,
          4010,
          3415,
          3716,
          3820,
          2273,
          3104,
          3311,
          1610,
          9450,
          4580,
          4080,
          2295,
          2467,
          2644,
          3300,
          3300,
          3400,
          3300,
          3300,
          3450,
          3950,
          1869,
          2182,
          2145,
          3200,
          2800,
          4250,
          1990,
          1840,
          3500,
          2200,
          1980,
          2100,
          1650,
          2980,
          3590,
          3200,
          3300,
          2750,
          2200,
          1980,
          2080,
          2750,
          2100,
          1980,
          2200,
          2150,
          2080,
          2200,
          2650,
          1890,
          2490,
          2100,
          2497,
          2260,
          3800,
          4470,
          2200,
          2500,
          2300,
          2831,
          3490,
          1596,
          1560,
          2560,
          2625,
          1987,
          3970,
          2950,
          3950,
          2228,
          2605,
          3294,
          4392,
          3385,
          3084,
          2129,
          2791,
          2007,
          3812,
          3665,
          3397,
          2313,
          3490,
          1440,
          4800,
          2377,
          2481,
          2084,
          2000,
          1400,
          2490,
          2885,
          2510,
          1995,
          375,
          2860,
          7490,
          2820,
          1700,
          2000,
          1400,
          1800,
          1890,
          1214,
          3000,
          1700,
          2500,
          1700,
          3950,
          1690,
          3220,
          1390,
          2335,
          1200,
          1990,
          1553,
          2400,
          3250,
          2800,
          1930,
          1790
         ],
         "y0": " ",
         "yaxis": "y"
        }
       ],
       "layout": {
        "legend": {
         "title": {
          "text": "description"
         },
         "tracegroupgap": 0
        },
        "margin": {
         "t": 60
        },
        "template": {
         "data": {
          "bar": [
           {
            "error_x": {
             "color": "#2a3f5f"
            },
            "error_y": {
             "color": "#2a3f5f"
            },
            "marker": {
             "line": {
              "color": "#E5ECF6",
              "width": 0.5
             },
             "pattern": {
              "fillmode": "overlay",
              "size": 10,
              "solidity": 0.2
             }
            },
            "type": "bar"
           }
          ],
          "barpolar": [
           {
            "marker": {
             "line": {
              "color": "#E5ECF6",
              "width": 0.5
             },
             "pattern": {
              "fillmode": "overlay",
              "size": 10,
              "solidity": 0.2
             }
            },
            "type": "barpolar"
           }
          ],
          "carpet": [
           {
            "aaxis": {
             "endlinecolor": "#2a3f5f",
             "gridcolor": "white",
             "linecolor": "white",
             "minorgridcolor": "white",
             "startlinecolor": "#2a3f5f"
            },
            "baxis": {
             "endlinecolor": "#2a3f5f",
             "gridcolor": "white",
             "linecolor": "white",
             "minorgridcolor": "white",
             "startlinecolor": "#2a3f5f"
            },
            "type": "carpet"
           }
          ],
          "choropleth": [
           {
            "colorbar": {
             "outlinewidth": 0,
             "ticks": ""
            },
            "type": "choropleth"
           }
          ],
          "contour": [
           {
            "colorbar": {
             "outlinewidth": 0,
             "ticks": ""
            },
            "colorscale": [
             [
              0,
              "#0d0887"
             ],
             [
              0.1111111111111111,
              "#46039f"
             ],
             [
              0.2222222222222222,
              "#7201a8"
             ],
             [
              0.3333333333333333,
              "#9c179e"
             ],
             [
              0.4444444444444444,
              "#bd3786"
             ],
             [
              0.5555555555555556,
              "#d8576b"
             ],
             [
              0.6666666666666666,
              "#ed7953"
             ],
             [
              0.7777777777777778,
              "#fb9f3a"
             ],
             [
              0.8888888888888888,
              "#fdca26"
             ],
             [
              1,
              "#f0f921"
             ]
            ],
            "type": "contour"
           }
          ],
          "contourcarpet": [
           {
            "colorbar": {
             "outlinewidth": 0,
             "ticks": ""
            },
            "type": "contourcarpet"
           }
          ],
          "heatmap": [
           {
            "colorbar": {
             "outlinewidth": 0,
             "ticks": ""
            },
            "colorscale": [
             [
              0,
              "#0d0887"
             ],
             [
              0.1111111111111111,
              "#46039f"
             ],
             [
              0.2222222222222222,
              "#7201a8"
             ],
             [
              0.3333333333333333,
              "#9c179e"
             ],
             [
              0.4444444444444444,
              "#bd3786"
             ],
             [
              0.5555555555555556,
              "#d8576b"
             ],
             [
              0.6666666666666666,
              "#ed7953"
             ],
             [
              0.7777777777777778,
              "#fb9f3a"
             ],
             [
              0.8888888888888888,
              "#fdca26"
             ],
             [
              1,
              "#f0f921"
             ]
            ],
            "type": "heatmap"
           }
          ],
          "heatmapgl": [
           {
            "colorbar": {
             "outlinewidth": 0,
             "ticks": ""
            },
            "colorscale": [
             [
              0,
              "#0d0887"
             ],
             [
              0.1111111111111111,
              "#46039f"
             ],
             [
              0.2222222222222222,
              "#7201a8"
             ],
             [
              0.3333333333333333,
              "#9c179e"
             ],
             [
              0.4444444444444444,
              "#bd3786"
             ],
             [
              0.5555555555555556,
              "#d8576b"
             ],
             [
              0.6666666666666666,
              "#ed7953"
             ],
             [
              0.7777777777777778,
              "#fb9f3a"
             ],
             [
              0.8888888888888888,
              "#fdca26"
             ],
             [
              1,
              "#f0f921"
             ]
            ],
            "type": "heatmapgl"
           }
          ],
          "histogram": [
           {
            "marker": {
             "pattern": {
              "fillmode": "overlay",
              "size": 10,
              "solidity": 0.2
             }
            },
            "type": "histogram"
           }
          ],
          "histogram2d": [
           {
            "colorbar": {
             "outlinewidth": 0,
             "ticks": ""
            },
            "colorscale": [
             [
              0,
              "#0d0887"
             ],
             [
              0.1111111111111111,
              "#46039f"
             ],
             [
              0.2222222222222222,
              "#7201a8"
             ],
             [
              0.3333333333333333,
              "#9c179e"
             ],
             [
              0.4444444444444444,
              "#bd3786"
             ],
             [
              0.5555555555555556,
              "#d8576b"
             ],
             [
              0.6666666666666666,
              "#ed7953"
             ],
             [
              0.7777777777777778,
              "#fb9f3a"
             ],
             [
              0.8888888888888888,
              "#fdca26"
             ],
             [
              1,
              "#f0f921"
             ]
            ],
            "type": "histogram2d"
           }
          ],
          "histogram2dcontour": [
           {
            "colorbar": {
             "outlinewidth": 0,
             "ticks": ""
            },
            "colorscale": [
             [
              0,
              "#0d0887"
             ],
             [
              0.1111111111111111,
              "#46039f"
             ],
             [
              0.2222222222222222,
              "#7201a8"
             ],
             [
              0.3333333333333333,
              "#9c179e"
             ],
             [
              0.4444444444444444,
              "#bd3786"
             ],
             [
              0.5555555555555556,
              "#d8576b"
             ],
             [
              0.6666666666666666,
              "#ed7953"
             ],
             [
              0.7777777777777778,
              "#fb9f3a"
             ],
             [
              0.8888888888888888,
              "#fdca26"
             ],
             [
              1,
              "#f0f921"
             ]
            ],
            "type": "histogram2dcontour"
           }
          ],
          "mesh3d": [
           {
            "colorbar": {
             "outlinewidth": 0,
             "ticks": ""
            },
            "type": "mesh3d"
           }
          ],
          "parcoords": [
           {
            "line": {
             "colorbar": {
              "outlinewidth": 0,
              "ticks": ""
             }
            },
            "type": "parcoords"
           }
          ],
          "pie": [
           {
            "automargin": true,
            "type": "pie"
           }
          ],
          "scatter": [
           {
            "fillpattern": {
             "fillmode": "overlay",
             "size": 10,
             "solidity": 0.2
            },
            "type": "scatter"
           }
          ],
          "scatter3d": [
           {
            "line": {
             "colorbar": {
              "outlinewidth": 0,
              "ticks": ""
             }
            },
            "marker": {
             "colorbar": {
              "outlinewidth": 0,
              "ticks": ""
             }
            },
            "type": "scatter3d"
           }
          ],
          "scattercarpet": [
           {
            "marker": {
             "colorbar": {
              "outlinewidth": 0,
              "ticks": ""
             }
            },
            "type": "scattercarpet"
           }
          ],
          "scattergeo": [
           {
            "marker": {
             "colorbar": {
              "outlinewidth": 0,
              "ticks": ""
             }
            },
            "type": "scattergeo"
           }
          ],
          "scattergl": [
           {
            "marker": {
             "colorbar": {
              "outlinewidth": 0,
              "ticks": ""
             }
            },
            "type": "scattergl"
           }
          ],
          "scattermapbox": [
           {
            "marker": {
             "colorbar": {
              "outlinewidth": 0,
              "ticks": ""
             }
            },
            "type": "scattermapbox"
           }
          ],
          "scatterpolar": [
           {
            "marker": {
             "colorbar": {
              "outlinewidth": 0,
              "ticks": ""
             }
            },
            "type": "scatterpolar"
           }
          ],
          "scatterpolargl": [
           {
            "marker": {
             "colorbar": {
              "outlinewidth": 0,
              "ticks": ""
             }
            },
            "type": "scatterpolargl"
           }
          ],
          "scatterternary": [
           {
            "marker": {
             "colorbar": {
              "outlinewidth": 0,
              "ticks": ""
             }
            },
            "type": "scatterternary"
           }
          ],
          "surface": [
           {
            "colorbar": {
             "outlinewidth": 0,
             "ticks": ""
            },
            "colorscale": [
             [
              0,
              "#0d0887"
             ],
             [
              0.1111111111111111,
              "#46039f"
             ],
             [
              0.2222222222222222,
              "#7201a8"
             ],
             [
              0.3333333333333333,
              "#9c179e"
             ],
             [
              0.4444444444444444,
              "#bd3786"
             ],
             [
              0.5555555555555556,
              "#d8576b"
             ],
             [
              0.6666666666666666,
              "#ed7953"
             ],
             [
              0.7777777777777778,
              "#fb9f3a"
             ],
             [
              0.8888888888888888,
              "#fdca26"
             ],
             [
              1,
              "#f0f921"
             ]
            ],
            "type": "surface"
           }
          ],
          "table": [
           {
            "cells": {
             "fill": {
              "color": "#EBF0F8"
             },
             "line": {
              "color": "white"
             }
            },
            "header": {
             "fill": {
              "color": "#C8D4E3"
             },
             "line": {
              "color": "white"
             }
            },
            "type": "table"
           }
          ]
         },
         "layout": {
          "annotationdefaults": {
           "arrowcolor": "#2a3f5f",
           "arrowhead": 0,
           "arrowwidth": 1
          },
          "autotypenumbers": "strict",
          "coloraxis": {
           "colorbar": {
            "outlinewidth": 0,
            "ticks": ""
           }
          },
          "colorscale": {
           "diverging": [
            [
             0,
             "#8e0152"
            ],
            [
             0.1,
             "#c51b7d"
            ],
            [
             0.2,
             "#de77ae"
            ],
            [
             0.3,
             "#f1b6da"
            ],
            [
             0.4,
             "#fde0ef"
            ],
            [
             0.5,
             "#f7f7f7"
            ],
            [
             0.6,
             "#e6f5d0"
            ],
            [
             0.7,
             "#b8e186"
            ],
            [
             0.8,
             "#7fbc41"
            ],
            [
             0.9,
             "#4d9221"
            ],
            [
             1,
             "#276419"
            ]
           ],
           "sequential": [
            [
             0,
             "#0d0887"
            ],
            [
             0.1111111111111111,
             "#46039f"
            ],
            [
             0.2222222222222222,
             "#7201a8"
            ],
            [
             0.3333333333333333,
             "#9c179e"
            ],
            [
             0.4444444444444444,
             "#bd3786"
            ],
            [
             0.5555555555555556,
             "#d8576b"
            ],
            [
             0.6666666666666666,
             "#ed7953"
            ],
            [
             0.7777777777777778,
             "#fb9f3a"
            ],
            [
             0.8888888888888888,
             "#fdca26"
            ],
            [
             1,
             "#f0f921"
            ]
           ],
           "sequentialminus": [
            [
             0,
             "#0d0887"
            ],
            [
             0.1111111111111111,
             "#46039f"
            ],
            [
             0.2222222222222222,
             "#7201a8"
            ],
            [
             0.3333333333333333,
             "#9c179e"
            ],
            [
             0.4444444444444444,
             "#bd3786"
            ],
            [
             0.5555555555555556,
             "#d8576b"
            ],
            [
             0.6666666666666666,
             "#ed7953"
            ],
            [
             0.7777777777777778,
             "#fb9f3a"
            ],
            [
             0.8888888888888888,
             "#fdca26"
            ],
            [
             1,
             "#f0f921"
            ]
           ]
          },
          "colorway": [
           "#636efa",
           "#EF553B",
           "#00cc96",
           "#ab63fa",
           "#FFA15A",
           "#19d3f3",
           "#FF6692",
           "#B6E880",
           "#FF97FF",
           "#FECB52"
          ],
          "font": {
           "color": "#2a3f5f"
          },
          "geo": {
           "bgcolor": "white",
           "lakecolor": "white",
           "landcolor": "#E5ECF6",
           "showlakes": true,
           "showland": true,
           "subunitcolor": "white"
          },
          "hoverlabel": {
           "align": "left"
          },
          "hovermode": "closest",
          "mapbox": {
           "style": "light"
          },
          "paper_bgcolor": "white",
          "plot_bgcolor": "#E5ECF6",
          "polar": {
           "angularaxis": {
            "gridcolor": "white",
            "linecolor": "white",
            "ticks": ""
           },
           "bgcolor": "#E5ECF6",
           "radialaxis": {
            "gridcolor": "white",
            "linecolor": "white",
            "ticks": ""
           }
          },
          "scene": {
           "xaxis": {
            "backgroundcolor": "#E5ECF6",
            "gridcolor": "white",
            "gridwidth": 2,
            "linecolor": "white",
            "showbackground": true,
            "ticks": "",
            "zerolinecolor": "white"
           },
           "yaxis": {
            "backgroundcolor": "#E5ECF6",
            "gridcolor": "white",
            "gridwidth": 2,
            "linecolor": "white",
            "showbackground": true,
            "ticks": "",
            "zerolinecolor": "white"
           },
           "zaxis": {
            "backgroundcolor": "#E5ECF6",
            "gridcolor": "white",
            "gridwidth": 2,
            "linecolor": "white",
            "showbackground": true,
            "ticks": "",
            "zerolinecolor": "white"
           }
          },
          "shapedefaults": {
           "line": {
            "color": "#2a3f5f"
           }
          },
          "ternary": {
           "aaxis": {
            "gridcolor": "white",
            "linecolor": "white",
            "ticks": ""
           },
           "baxis": {
            "gridcolor": "white",
            "linecolor": "white",
            "ticks": ""
           },
           "bgcolor": "#E5ECF6",
           "caxis": {
            "gridcolor": "white",
            "linecolor": "white",
            "ticks": ""
           }
          },
          "title": {
           "x": 0.05
          },
          "xaxis": {
           "automargin": true,
           "gridcolor": "white",
           "linecolor": "white",
           "ticks": "",
           "title": {
            "standoff": 15
           },
           "zerolinecolor": "white",
           "zerolinewidth": 2
          },
          "yaxis": {
           "automargin": true,
           "gridcolor": "white",
           "linecolor": "white",
           "ticks": "",
           "title": {
            "standoff": 15
           },
           "zerolinecolor": "white",
           "zerolinewidth": 2
          }
         }
        },
        "title": {
         "text": "Violin Plot of Price by Rooms and Description"
        },
        "violinmode": "group",
        "xaxis": {
         "anchor": "y",
         "domain": [
          0,
          1
         ],
         "title": {
          "text": "Rooms"
         }
        },
        "yaxis": {
         "anchor": "x",
         "domain": [
          0,
          1
         ],
         "title": {
          "text": "Price"
         }
        }
       }
      }
     },
     "metadata": {},
     "output_type": "display_data"
    }
   ],
   "source": [
    "# Melt the DataFrame to long format for Plotly\n",
    "melted_df = df.melt(id_vars=['price', 'rooms'], value_vars=descriptions, var_name='description', value_name='presence')\n",
    "\n",
    "# Filter to only include rows where the description is present\n",
    "filtered_df = melted_df[melted_df['presence'] == 1]\n",
    "\n",
    "# Create the violin plot using Plotly\n",
    "fig = px.violin(filtered_df, x='rooms', y='price', color='description', box=True, points='all', hover_data=['description'])\n",
    "fig.update_layout(title='Violin Plot of Price by Rooms and Description', xaxis_title='Rooms', yaxis_title='Price')\n",
    "fig.show()"
   ]
  },
  {
   "cell_type": "code",
   "execution_count": 15,
   "metadata": {},
   "outputs": [
    {
     "data": {
      "application/vnd.plotly.v1+json": {
       "config": {
        "plotlyServerURL": "https://plot.ly"
       },
       "data": [
        {
         "alignmentgroup": "True",
         "box": {
          "visible": true
         },
         "customdata": [
          [
           "y0"
          ],
          [
           "y0"
          ],
          [
           "y0"
          ],
          [
           "y0"
          ],
          [
           "y0"
          ],
          [
           "y0"
          ],
          [
           "y0"
          ],
          [
           "y0"
          ],
          [
           "y0"
          ],
          [
           "y0"
          ],
          [
           "y0"
          ],
          [
           "y0"
          ],
          [
           "y0"
          ],
          [
           "y0"
          ],
          [
           "y0"
          ],
          [
           "y0"
          ],
          [
           "y0"
          ],
          [
           "y0"
          ],
          [
           "y0"
          ],
          [
           "y0"
          ],
          [
           "y0"
          ],
          [
           "y0"
          ],
          [
           "y0"
          ],
          [
           "y0"
          ],
          [
           "y0"
          ],
          [
           "y0"
          ],
          [
           "y0"
          ],
          [
           "y0"
          ],
          [
           "y0"
          ],
          [
           "y0"
          ],
          [
           "y0"
          ],
          [
           "y0"
          ],
          [
           "y0"
          ],
          [
           "y0"
          ],
          [
           "y0"
          ],
          [
           "y0"
          ],
          [
           "y0"
          ],
          [
           "y0"
          ],
          [
           "y0"
          ],
          [
           "y0"
          ],
          [
           "y0"
          ],
          [
           "y0"
          ],
          [
           "y0"
          ],
          [
           "y0"
          ],
          [
           "y0"
          ],
          [
           "y0"
          ],
          [
           "y0"
          ],
          [
           "y0"
          ],
          [
           "y0"
          ],
          [
           "y0"
          ],
          [
           "y0"
          ],
          [
           "y0"
          ],
          [
           "y0"
          ],
          [
           "y0"
          ],
          [
           "y0"
          ],
          [
           "y0"
          ],
          [
           "y0"
          ],
          [
           "y0"
          ],
          [
           "y0"
          ],
          [
           "y0"
          ],
          [
           "y0"
          ],
          [
           "y0"
          ],
          [
           "y0"
          ],
          [
           "y0"
          ],
          [
           "y0"
          ],
          [
           "y0"
          ],
          [
           "y0"
          ],
          [
           "y0"
          ],
          [
           "y0"
          ],
          [
           "y0"
          ],
          [
           "y0"
          ],
          [
           "y0"
          ],
          [
           "y0"
          ],
          [
           "y0"
          ],
          [
           "y0"
          ],
          [
           "y0"
          ],
          [
           "y0"
          ],
          [
           "y0"
          ],
          [
           "y0"
          ],
          [
           "y0"
          ],
          [
           "y0"
          ],
          [
           "y0"
          ],
          [
           "y0"
          ],
          [
           "y0"
          ],
          [
           "y0"
          ],
          [
           "y0"
          ],
          [
           "y0"
          ],
          [
           "y0"
          ],
          [
           "y0"
          ],
          [
           "y0"
          ],
          [
           "y0"
          ],
          [
           "y0"
          ],
          [
           "y0"
          ],
          [
           "y0"
          ],
          [
           "y0"
          ],
          [
           "y0"
          ],
          [
           "y0"
          ],
          [
           "y0"
          ],
          [
           "y0"
          ],
          [
           "y0"
          ],
          [
           "y0"
          ],
          [
           "y0"
          ],
          [
           "y0"
          ],
          [
           "y0"
          ],
          [
           "y0"
          ],
          [
           "y0"
          ],
          [
           "y0"
          ],
          [
           "y0"
          ],
          [
           "y0"
          ],
          [
           "y0"
          ],
          [
           "y0"
          ],
          [
           "y0"
          ],
          [
           "y0"
          ],
          [
           "y0"
          ],
          [
           "y0"
          ],
          [
           "y0"
          ],
          [
           "y0"
          ],
          [
           "y0"
          ],
          [
           "y0"
          ],
          [
           "y0"
          ],
          [
           "y0"
          ],
          [
           "y0"
          ],
          [
           "y0"
          ],
          [
           "y0"
          ],
          [
           "y0"
          ],
          [
           "y0"
          ],
          [
           "y0"
          ]
         ],
         "hovertemplate": "Build year=%{customdata[0]}<br>rooms=%{x}<br>price=%{y}<extra></extra>",
         "legendgroup": "y0",
         "marker": {
          "color": "#636efa"
         },
         "name": "y0",
         "offsetgroup": "y0",
         "orientation": "v",
         "points": "all",
         "scalegroup": "True",
         "showlegend": true,
         "type": "violin",
         "x": [
          5.5,
          3.5,
          5,
          2.5,
          2,
          1,
          3.5,
          4.5,
          2.5,
          2.5,
          2,
          1,
          1,
          1,
          1,
          4,
          1,
          2,
          2.5,
          2,
          3,
          1,
          2,
          1,
          1,
          1,
          1,
          2,
          1,
          1,
          1,
          1,
          1,
          1,
          1,
          2,
          1,
          1,
          1,
          2,
          1,
          1,
          1,
          1,
          1,
          1,
          1,
          1,
          1,
          2.5,
          1,
          1,
          2,
          5.5,
          1,
          1.5,
          3.5,
          1,
          3.5,
          1.5,
          4.5,
          2,
          2.5,
          2.5,
          2.5,
          3.5,
          2.5,
          2,
          3.5,
          2.5,
          4.5,
          1,
          1,
          2.5,
          3.5,
          3.5,
          1,
          1,
          1,
          1,
          2,
          1,
          1,
          1,
          2,
          1,
          1,
          2,
          1,
          3,
          1,
          1,
          1,
          1,
          1,
          2,
          1,
          1,
          1,
          1,
          1,
          1,
          1,
          1,
          1,
          2,
          1,
          2.5,
          1,
          1,
          2.5,
          1,
          2.5,
          2.5,
          2.5,
          1.5,
          3.5,
          1,
          1,
          5,
          4.5,
          4.5,
          4.5,
          3.5,
          2,
          1,
          2.5
         ],
         "x0": " ",
         "xaxis": "x",
         "y": [
          6117,
          3940,
          1990,
          2030,
          2172,
          1610,
          3670,
          4270,
          2610,
          6068,
          4827,
          3415,
          3519,
          3000,
          1220,
          3227,
          2377,
          3934,
          3160,
          3104,
          3415,
          4349,
          2170,
          2689,
          3000,
          3000,
          2585,
          6332,
          2896,
          3830,
          3104,
          4453,
          2585,
          2793,
          2170,
          4246,
          1962,
          3104,
          4246,
          5076,
          3104,
          3415,
          2377,
          2066,
          1962,
          3208,
          1962,
          2481,
          1990,
          2850,
          5273,
          3519,
          2985,
          5900,
          2792,
          2650,
          3400,
          1980,
          4490,
          2030,
          7500,
          2570,
          2730,
          2730,
          2780,
          3261,
          3831,
          3190,
          1900,
          2600,
          3177,
          4142,
          4142,
          2950,
          5700,
          5550,
          2170,
          5273,
          3311,
          4142,
          4339,
          3208,
          4142,
          1962,
          3519,
          3104,
          2377,
          4453,
          1940,
          3270,
          3415,
          2170,
          3000,
          3208,
          3623,
          4349,
          2896,
          2100,
          2000,
          2150,
          1950,
          2150,
          3415,
          3716,
          3820,
          3104,
          3311,
          2314,
          3500,
          1650,
          2980,
          1980,
          2480,
          2690,
          2300,
          1560,
          2870,
          2377,
          2481,
          3750,
          4250,
          4140,
          3990,
          3900,
          1950,
          2200,
          2860
         ],
         "y0": " ",
         "yaxis": "y"
        },
        {
         "alignmentgroup": "True",
         "box": {
          "visible": true
         },
         "customdata": [
          [
           "y1999"
          ],
          [
           "y1999"
          ],
          [
           "y1999"
          ],
          [
           "y1999"
          ],
          [
           "y1999"
          ],
          [
           "y1999"
          ],
          [
           "y1999"
          ],
          [
           "y1999"
          ],
          [
           "y1999"
          ],
          [
           "y1999"
          ],
          [
           "y1999"
          ],
          [
           "y1999"
          ],
          [
           "y1999"
          ],
          [
           "y1999"
          ],
          [
           "y1999"
          ],
          [
           "y1999"
          ],
          [
           "y1999"
          ],
          [
           "y1999"
          ],
          [
           "y1999"
          ],
          [
           "y1999"
          ],
          [
           "y1999"
          ],
          [
           "y1999"
          ],
          [
           "y1999"
          ],
          [
           "y1999"
          ],
          [
           "y1999"
          ],
          [
           "y1999"
          ],
          [
           "y1999"
          ],
          [
           "y1999"
          ],
          [
           "y1999"
          ],
          [
           "y1999"
          ],
          [
           "y1999"
          ],
          [
           "y1999"
          ],
          [
           "y1999"
          ],
          [
           "y1999"
          ],
          [
           "y1999"
          ],
          [
           "y1999"
          ],
          [
           "y1999"
          ],
          [
           "y1999"
          ],
          [
           "y1999"
          ],
          [
           "y1999"
          ],
          [
           "y1999"
          ],
          [
           "y1999"
          ],
          [
           "y1999"
          ],
          [
           "y1999"
          ],
          [
           "y1999"
          ],
          [
           "y1999"
          ],
          [
           "y1999"
          ],
          [
           "y1999"
          ],
          [
           "y1999"
          ],
          [
           "y1999"
          ],
          [
           "y1999"
          ],
          [
           "y1999"
          ],
          [
           "y1999"
          ],
          [
           "y1999"
          ],
          [
           "y1999"
          ],
          [
           "y1999"
          ],
          [
           "y1999"
          ],
          [
           "y1999"
          ],
          [
           "y1999"
          ],
          [
           "y1999"
          ],
          [
           "y1999"
          ],
          [
           "y1999"
          ],
          [
           "y1999"
          ],
          [
           "y1999"
          ],
          [
           "y1999"
          ],
          [
           "y1999"
          ],
          [
           "y1999"
          ],
          [
           "y1999"
          ],
          [
           "y1999"
          ],
          [
           "y1999"
          ],
          [
           "y1999"
          ],
          [
           "y1999"
          ],
          [
           "y1999"
          ],
          [
           "y1999"
          ],
          [
           "y1999"
          ],
          [
           "y1999"
          ],
          [
           "y1999"
          ],
          [
           "y1999"
          ],
          [
           "y1999"
          ],
          [
           "y1999"
          ],
          [
           "y1999"
          ],
          [
           "y1999"
          ],
          [
           "y1999"
          ],
          [
           "y1999"
          ],
          [
           "y1999"
          ],
          [
           "y1999"
          ],
          [
           "y1999"
          ],
          [
           "y1999"
          ],
          [
           "y1999"
          ],
          [
           "y1999"
          ],
          [
           "y1999"
          ],
          [
           "y1999"
          ],
          [
           "y1999"
          ],
          [
           "y1999"
          ],
          [
           "y1999"
          ],
          [
           "y1999"
          ],
          [
           "y1999"
          ],
          [
           "y1999"
          ],
          [
           "y1999"
          ],
          [
           "y1999"
          ],
          [
           "y1999"
          ],
          [
           "y1999"
          ],
          [
           "y1999"
          ],
          [
           "y1999"
          ],
          [
           "y1999"
          ],
          [
           "y1999"
          ],
          [
           "y1999"
          ],
          [
           "y1999"
          ],
          [
           "y1999"
          ],
          [
           "y1999"
          ],
          [
           "y1999"
          ],
          [
           "y1999"
          ],
          [
           "y1999"
          ],
          [
           "y1999"
          ],
          [
           "y1999"
          ],
          [
           "y1999"
          ],
          [
           "y1999"
          ],
          [
           "y1999"
          ],
          [
           "y1999"
          ],
          [
           "y1999"
          ],
          [
           "y1999"
          ],
          [
           "y1999"
          ],
          [
           "y1999"
          ],
          [
           "y1999"
          ],
          [
           "y1999"
          ],
          [
           "y1999"
          ],
          [
           "y1999"
          ],
          [
           "y1999"
          ],
          [
           "y1999"
          ],
          [
           "y1999"
          ],
          [
           "y1999"
          ],
          [
           "y1999"
          ],
          [
           "y1999"
          ],
          [
           "y1999"
          ],
          [
           "y1999"
          ],
          [
           "y1999"
          ],
          [
           "y1999"
          ],
          [
           "y1999"
          ],
          [
           "y1999"
          ],
          [
           "y1999"
          ],
          [
           "y1999"
          ],
          [
           "y1999"
          ],
          [
           "y1999"
          ],
          [
           "y1999"
          ],
          [
           "y1999"
          ],
          [
           "y1999"
          ],
          [
           "y1999"
          ],
          [
           "y1999"
          ],
          [
           "y1999"
          ],
          [
           "y1999"
          ],
          [
           "y1999"
          ],
          [
           "y1999"
          ],
          [
           "y1999"
          ],
          [
           "y1999"
          ],
          [
           "y1999"
          ],
          [
           "y1999"
          ],
          [
           "y1999"
          ],
          [
           "y1999"
          ],
          [
           "y1999"
          ],
          [
           "y1999"
          ],
          [
           "y1999"
          ],
          [
           "y1999"
          ],
          [
           "y1999"
          ],
          [
           "y1999"
          ],
          [
           "y1999"
          ],
          [
           "y1999"
          ],
          [
           "y1999"
          ],
          [
           "y1999"
          ],
          [
           "y1999"
          ],
          [
           "y1999"
          ],
          [
           "y1999"
          ],
          [
           "y1999"
          ],
          [
           "y1999"
          ],
          [
           "y1999"
          ],
          [
           "y1999"
          ],
          [
           "y1999"
          ],
          [
           "y1999"
          ],
          [
           "y1999"
          ],
          [
           "y1999"
          ],
          [
           "y1999"
          ],
          [
           "y1999"
          ],
          [
           "y1999"
          ],
          [
           "y1999"
          ],
          [
           "y1999"
          ],
          [
           "y1999"
          ],
          [
           "y1999"
          ],
          [
           "y1999"
          ],
          [
           "y1999"
          ],
          [
           "y1999"
          ],
          [
           "y1999"
          ],
          [
           "y1999"
          ],
          [
           "y1999"
          ],
          [
           "y1999"
          ],
          [
           "y1999"
          ],
          [
           "y1999"
          ],
          [
           "y1999"
          ],
          [
           "y1999"
          ],
          [
           "y1999"
          ],
          [
           "y1999"
          ],
          [
           "y1999"
          ],
          [
           "y1999"
          ],
          [
           "y1999"
          ],
          [
           "y1999"
          ],
          [
           "y1999"
          ],
          [
           "y1999"
          ],
          [
           "y1999"
          ],
          [
           "y1999"
          ],
          [
           "y1999"
          ],
          [
           "y1999"
          ],
          [
           "y1999"
          ],
          [
           "y1999"
          ],
          [
           "y1999"
          ],
          [
           "y1999"
          ],
          [
           "y1999"
          ],
          [
           "y1999"
          ],
          [
           "y1999"
          ],
          [
           "y1999"
          ],
          [
           "y1999"
          ],
          [
           "y1999"
          ],
          [
           "y1999"
          ],
          [
           "y1999"
          ],
          [
           "y1999"
          ],
          [
           "y1999"
          ],
          [
           "y1999"
          ],
          [
           "y1999"
          ],
          [
           "y1999"
          ],
          [
           "y1999"
          ],
          [
           "y1999"
          ],
          [
           "y1999"
          ],
          [
           "y1999"
          ],
          [
           "y1999"
          ],
          [
           "y1999"
          ],
          [
           "y1999"
          ],
          [
           "y1999"
          ],
          [
           "y1999"
          ],
          [
           "y1999"
          ],
          [
           "y1999"
          ],
          [
           "y1999"
          ],
          [
           "y1999"
          ],
          [
           "y1999"
          ],
          [
           "y1999"
          ],
          [
           "y1999"
          ],
          [
           "y1999"
          ],
          [
           "y1999"
          ],
          [
           "y1999"
          ],
          [
           "y1999"
          ],
          [
           "y1999"
          ],
          [
           "y1999"
          ],
          [
           "y1999"
          ],
          [
           "y1999"
          ],
          [
           "y1999"
          ],
          [
           "y1999"
          ],
          [
           "y1999"
          ],
          [
           "y1999"
          ],
          [
           "y1999"
          ],
          [
           "y1999"
          ],
          [
           "y1999"
          ],
          [
           "y1999"
          ],
          [
           "y1999"
          ],
          [
           "y1999"
          ],
          [
           "y1999"
          ],
          [
           "y1999"
          ],
          [
           "y1999"
          ],
          [
           "y1999"
          ],
          [
           "y1999"
          ],
          [
           "y1999"
          ],
          [
           "y1999"
          ],
          [
           "y1999"
          ],
          [
           "y1999"
          ],
          [
           "y1999"
          ],
          [
           "y1999"
          ],
          [
           "y1999"
          ],
          [
           "y1999"
          ],
          [
           "y1999"
          ],
          [
           "y1999"
          ],
          [
           "y1999"
          ],
          [
           "y1999"
          ],
          [
           "y1999"
          ],
          [
           "y1999"
          ],
          [
           "y1999"
          ],
          [
           "y1999"
          ],
          [
           "y1999"
          ],
          [
           "y1999"
          ],
          [
           "y1999"
          ],
          [
           "y1999"
          ],
          [
           "y1999"
          ],
          [
           "y1999"
          ],
          [
           "y1999"
          ],
          [
           "y1999"
          ],
          [
           "y1999"
          ],
          [
           "y1999"
          ],
          [
           "y1999"
          ],
          [
           "y1999"
          ],
          [
           "y1999"
          ],
          [
           "y1999"
          ],
          [
           "y1999"
          ],
          [
           "y1999"
          ],
          [
           "y1999"
          ],
          [
           "y1999"
          ],
          [
           "y1999"
          ],
          [
           "y1999"
          ],
          [
           "y1999"
          ],
          [
           "y1999"
          ],
          [
           "y1999"
          ],
          [
           "y1999"
          ],
          [
           "y1999"
          ],
          [
           "y1999"
          ],
          [
           "y1999"
          ],
          [
           "y1999"
          ],
          [
           "y1999"
          ],
          [
           "y1999"
          ],
          [
           "y1999"
          ],
          [
           "y1999"
          ],
          [
           "y1999"
          ],
          [
           "y1999"
          ],
          [
           "y1999"
          ],
          [
           "y1999"
          ],
          [
           "y1999"
          ],
          [
           "y1999"
          ],
          [
           "y1999"
          ],
          [
           "y1999"
          ],
          [
           "y1999"
          ],
          [
           "y1999"
          ],
          [
           "y1999"
          ],
          [
           "y1999"
          ],
          [
           "y1999"
          ],
          [
           "y1999"
          ],
          [
           "y1999"
          ],
          [
           "y1999"
          ],
          [
           "y1999"
          ],
          [
           "y1999"
          ],
          [
           "y1999"
          ],
          [
           "y1999"
          ],
          [
           "y1999"
          ],
          [
           "y1999"
          ],
          [
           "y1999"
          ],
          [
           "y1999"
          ],
          [
           "y1999"
          ],
          [
           "y1999"
          ],
          [
           "y1999"
          ],
          [
           "y1999"
          ],
          [
           "y1999"
          ],
          [
           "y1999"
          ],
          [
           "y1999"
          ],
          [
           "y1999"
          ],
          [
           "y1999"
          ],
          [
           "y1999"
          ],
          [
           "y1999"
          ],
          [
           "y1999"
          ],
          [
           "y1999"
          ],
          [
           "y1999"
          ],
          [
           "y1999"
          ],
          [
           "y1999"
          ],
          [
           "y1999"
          ],
          [
           "y1999"
          ],
          [
           "y1999"
          ],
          [
           "y1999"
          ],
          [
           "y1999"
          ],
          [
           "y1999"
          ],
          [
           "y1999"
          ],
          [
           "y1999"
          ],
          [
           "y1999"
          ],
          [
           "y1999"
          ],
          [
           "y1999"
          ],
          [
           "y1999"
          ],
          [
           "y1999"
          ],
          [
           "y1999"
          ],
          [
           "y1999"
          ],
          [
           "y1999"
          ],
          [
           "y1999"
          ],
          [
           "y1999"
          ],
          [
           "y1999"
          ],
          [
           "y1999"
          ],
          [
           "y1999"
          ],
          [
           "y1999"
          ],
          [
           "y1999"
          ],
          [
           "y1999"
          ],
          [
           "y1999"
          ],
          [
           "y1999"
          ],
          [
           "y1999"
          ],
          [
           "y1999"
          ],
          [
           "y1999"
          ],
          [
           "y1999"
          ],
          [
           "y1999"
          ],
          [
           "y1999"
          ],
          [
           "y1999"
          ],
          [
           "y1999"
          ],
          [
           "y1999"
          ],
          [
           "y1999"
          ],
          [
           "y1999"
          ],
          [
           "y1999"
          ],
          [
           "y1999"
          ],
          [
           "y1999"
          ],
          [
           "y1999"
          ],
          [
           "y1999"
          ],
          [
           "y1999"
          ],
          [
           "y1999"
          ],
          [
           "y1999"
          ],
          [
           "y1999"
          ],
          [
           "y1999"
          ],
          [
           "y1999"
          ],
          [
           "y1999"
          ],
          [
           "y1999"
          ],
          [
           "y1999"
          ],
          [
           "y1999"
          ],
          [
           "y1999"
          ],
          [
           "y1999"
          ],
          [
           "y1999"
          ],
          [
           "y1999"
          ],
          [
           "y1999"
          ],
          [
           "y1999"
          ],
          [
           "y1999"
          ],
          [
           "y1999"
          ],
          [
           "y1999"
          ],
          [
           "y1999"
          ],
          [
           "y1999"
          ],
          [
           "y1999"
          ],
          [
           "y1999"
          ],
          [
           "y1999"
          ],
          [
           "y1999"
          ],
          [
           "y1999"
          ],
          [
           "y1999"
          ],
          [
           "y1999"
          ],
          [
           "y1999"
          ],
          [
           "y1999"
          ],
          [
           "y1999"
          ],
          [
           "y1999"
          ],
          [
           "y1999"
          ],
          [
           "y1999"
          ],
          [
           "y1999"
          ],
          [
           "y1999"
          ],
          [
           "y1999"
          ],
          [
           "y1999"
          ],
          [
           "y1999"
          ],
          [
           "y1999"
          ],
          [
           "y1999"
          ],
          [
           "y1999"
          ],
          [
           "y1999"
          ],
          [
           "y1999"
          ],
          [
           "y1999"
          ],
          [
           "y1999"
          ],
          [
           "y1999"
          ],
          [
           "y1999"
          ],
          [
           "y1999"
          ],
          [
           "y1999"
          ],
          [
           "y1999"
          ],
          [
           "y1999"
          ],
          [
           "y1999"
          ]
         ],
         "hovertemplate": "Build year=%{customdata[0]}<br>rooms=%{x}<br>price=%{y}<extra></extra>",
         "legendgroup": "y1999",
         "marker": {
          "color": "#EF553B"
         },
         "name": "y1999",
         "offsetgroup": "y1999",
         "orientation": "v",
         "points": "all",
         "scalegroup": "True",
         "showlegend": true,
         "type": "violin",
         "x": [
          2.5,
          4.5,
          2.5,
          2.5,
          5.5,
          3.5,
          4,
          2,
          7.5,
          3.5,
          2,
          2,
          3.5,
          4,
          3,
          2,
          3.5,
          2.5,
          3.5,
          4.5,
          3.5,
          1.5,
          3.5,
          3,
          3.5,
          3.5,
          4.5,
          3.5,
          3,
          3.5,
          3.5,
          2.5,
          2.5,
          2,
          3,
          2,
          4.5,
          4,
          1.5,
          1.5,
          2.5,
          2.5,
          2.5,
          2,
          3.5,
          3.5,
          2,
          3,
          3.5,
          5,
          4.5,
          3,
          1.5,
          2.5,
          3,
          3,
          3.5,
          2.5,
          3,
          4,
          3.5,
          3,
          6,
          3.5,
          3.5,
          5,
          2.5,
          3,
          4.5,
          4,
          3.5,
          2.5,
          3,
          3.5,
          3.5,
          3.5,
          4,
          4.5,
          4.5,
          2,
          4.5,
          5.5,
          3,
          4.5,
          1,
          2,
          3.5,
          4.5,
          1,
          2,
          3,
          3,
          1.5,
          1.5,
          2,
          4.5,
          3,
          2,
          3,
          2,
          2,
          2.5,
          2.5,
          4.5,
          1,
          2.5,
          3.5,
          2,
          3.5,
          1,
          3.5,
          2.5,
          2.5,
          1,
          3.5,
          2.5,
          2.5,
          2.5,
          2.5,
          2.5,
          2,
          1,
          2.5,
          3.5,
          3.5,
          3.5,
          4.5,
          3.5,
          2.5,
          2,
          4.5,
          3.5,
          4.5,
          2.5,
          3.5,
          3.5,
          2,
          3.5,
          4.5,
          2,
          2.5,
          2,
          2.5,
          2.5,
          3,
          3.5,
          5,
          1,
          3,
          3.5,
          2.5,
          3.5,
          1,
          2,
          3,
          4.5,
          2.5,
          2.5,
          1.5,
          2.5,
          3,
          1.5,
          1,
          1,
          4.5,
          3,
          3.5,
          3.5,
          3.5,
          1,
          4.5,
          3.5,
          2.5,
          3.5,
          3.5,
          4.5,
          1,
          3.5,
          3,
          3.5,
          3.5,
          4,
          2,
          2,
          3,
          6,
          4.5,
          3,
          4,
          4.5,
          2.5,
          2,
          3,
          3,
          4,
          4,
          4.5,
          5.5,
          3.5,
          2.5,
          2,
          2,
          4,
          2.5,
          2.5,
          4.5,
          3.5,
          2.5,
          3,
          3,
          4,
          2.5,
          1.5,
          3.5,
          2.5,
          3.5,
          3.5,
          2.5,
          4.5,
          6,
          2.5,
          3.5,
          1.5,
          2.5,
          2.5,
          3.5,
          3,
          2,
          3.5,
          2.5,
          3,
          2.5,
          2.5,
          2.5,
          2,
          3,
          2.5,
          2.5,
          2.5,
          3.5,
          1.5,
          3.5,
          1,
          3.5,
          3.5,
          3.5,
          2.5,
          2.5,
          2,
          1,
          2.5,
          4,
          2.5,
          2.5,
          4,
          1,
          1.5,
          3.5,
          6.5,
          3.5,
          1,
          1.5,
          4,
          6,
          3,
          3.5,
          4.5,
          2,
          1,
          1,
          2.5,
          5.5,
          3.5,
          1,
          1,
          2.5,
          1,
          4,
          3,
          1.5,
          3.5,
          2,
          2.5,
          7,
          3,
          1,
          2,
          1,
          1.5,
          1,
          2,
          4.5,
          1,
          2,
          3,
          1,
          4.5,
          3.5,
          3,
          3.5,
          1,
          3.5,
          3.5,
          2,
          2.5,
          5.5,
          4.5,
          1,
          3,
          3.5,
          1,
          3.5,
          4.5,
          6.5,
          3.5,
          5.5,
          1,
          1,
          1.5,
          2.5,
          4.5,
          1.5,
          3.5,
          2.5,
          2.5,
          3.5,
          2.5,
          3,
          3.5,
          3,
          3.5,
          3,
          3,
          2,
          4,
          3,
          2.5,
          4,
          1,
          3.5,
          3,
          2.5,
          1.5,
          4,
          4,
          2.5,
          1.5,
          1,
          3.5,
          2.5,
          2,
          1,
          2,
          1.5,
          1.5,
          1,
          1,
          3.5,
          3,
          1.5,
          2,
          2,
          2,
          2,
          5.5,
          1.5,
          1.5,
          3,
          4.5,
          3.5,
          1.5,
          1,
          3.5,
          2.5,
          4.5,
          2.5,
          4.5,
          4,
          3.5,
          3,
          3.5,
          3.5,
          3.5,
          2.5,
          3.5,
          3.5,
          2.5,
          2.5,
          3,
          2.5,
          3.5,
          4.5,
          2.5,
          3,
          3,
          2,
          4.5,
          3,
          4.5,
          3.5,
          2.5,
          3.5,
          3.5,
          4.5,
          1,
          1,
          1.5,
          3.5,
          2.5,
          1,
          4.5,
          4.5,
          4.5,
          7,
          2,
          1,
          2.5,
          3,
          1.5,
          3.5,
          4,
          4,
          1,
          1,
          5.5,
          2.5,
          2.5,
          1.5,
          2.5,
          2.5,
          3,
          6,
          1.5,
          3.5,
          1.5,
          2,
          3,
          1.5,
          1,
          3,
          1.5,
          2.5,
          2,
          4.5,
          2,
          4.5,
          2.5,
          3.5
         ],
         "x0": " ",
         "xaxis": "x",
         "y": [
          3220,
          4090,
          3710,
          3240,
          4720,
          3850,
          4390,
          1755,
          5695,
          2175,
          2753,
          2105,
          2570,
          3907,
          2340,
          2480,
          2600,
          3050,
          3529,
          4670,
          3930,
          2920,
          2092,
          3150,
          3300,
          6490,
          5990,
          4990,
          3568,
          3697,
          2340,
          2590,
          2380,
          2330,
          3150,
          1980,
          3818,
          2620,
          2675,
          1460,
          3601,
          5685,
          2159,
          1920,
          2690,
          3590,
          3140,
          3175,
          4500,
          6700,
          6140,
          2132,
          1330,
          4920,
          3830,
          3390,
          2150,
          1775,
          1682,
          2790,
          5080,
          2360,
          6400,
          5195,
          3199,
          5805,
          4355,
          1884,
          4625,
          2990,
          2500,
          3562,
          1575,
          3174,
          2555,
          3860,
          1954,
          5242,
          2485,
          2242,
          3495,
          5990,
          1813,
          4390,
          1776,
          2024,
          4510,
          3010,
          4990,
          2760,
          3390,
          1810,
          2150,
          1740,
          2090,
          3350,
          2690,
          2306,
          2690,
          1375,
          1550,
          1992,
          2570,
          3190,
          1290,
          2580,
          3963,
          1680,
          2360,
          1730,
          3310,
          2890,
          2535,
          2481,
          3845,
          3385,
          5890,
          6790,
          3600,
          1869,
          2854,
          1770,
          2900,
          5600,
          3550,
          4500,
          4490,
          3350,
          2950,
          2285,
          2685,
          3350,
          2300,
          4202,
          4050,
          2250,
          2249,
          5470,
          4920,
          2500,
          2271,
          3100,
          2700,
          2390,
          3490,
          3619,
          5954,
          1250,
          1900,
          2912,
          2381,
          2912,
          1656,
          1842,
          1894,
          3020,
          3095,
          2782,
          1875,
          2690,
          2290,
          2320,
          2450,
          1950,
          5850,
          2610,
          3839,
          3190,
          2590,
          1630,
          4510,
          2380,
          4455,
          4080,
          4840,
          4765,
          1650,
          3450,
          1895,
          3055,
          2760,
          2750,
          2380,
          2200,
          4220,
          6370,
          3950,
          1799,
          3461,
          2740,
          2490,
          1543,
          3990,
          2130,
          2990,
          2990,
          4660,
          4300,
          2000,
          2500,
          1830,
          2252,
          4043,
          3150,
          2900,
          6645,
          3590,
          3050,
          4020,
          2184,
          2544,
          2481,
          2010,
          3410,
          3280,
          3015,
          3750,
          2650,
          3550,
          6830,
          4150,
          3180,
          1525,
          2485,
          3710,
          2120,
          2850,
          2380,
          2920,
          1849,
          2200,
          2290,
          2250,
          2200,
          1631,
          3340,
          2700,
          3490,
          2241,
          3405,
          1950,
          3576,
          2485,
          2630,
          4079,
          4079,
          3562,
          4805,
          1650,
          2585,
          1590,
          2145,
          3616,
          1700,
          4440,
          1421,
          1865,
          3140,
          6250,
          2690,
          1280,
          1820,
          2890,
          2500,
          2250,
          3430,
          5380,
          2408,
          3415,
          2793,
          1905,
          5500,
          6150,
          3000,
          3207,
          3385,
          1890,
          2835,
          2895,
          1740,
          2050,
          2790,
          2590,
          8740,
          2836,
          2066,
          3104,
          2273,
          1590,
          1890,
          2600,
          3390,
          1345,
          2590,
          2580,
          1890,
          6090,
          5970,
          3150,
          1910,
          1620,
          2390,
          3700,
          2700,
          4890,
          7980,
          2950,
          1284,
          1750,
          2800,
          2030,
          5693,
          4900,
          9900,
          3700,
          4010,
          2273,
          1450,
          1610,
          4580,
          4080,
          2470,
          3790,
          2750,
          2720,
          2295,
          2467,
          2500,
          8990,
          6900,
          4130,
          2250,
          3800,
          2750,
          1869,
          2182,
          2725,
          2250,
          2145,
          3200,
          4000,
          2950,
          1897,
          2800,
          4250,
          1990,
          2200,
          1980,
          3590,
          3300,
          2750,
          2080,
          2750,
          2080,
          2200,
          2100,
          2100,
          2497,
          2260,
          2120,
          2430,
          2320,
          2200,
          2500,
          7500,
          1390,
          2490,
          2831,
          3490,
          3490,
          1976,
          1596,
          2560,
          2625,
          3748,
          1987,
          3970,
          2100,
          2950,
          4810,
          2250,
          3950,
          2228,
          2605,
          3294,
          3850,
          3570,
          3385,
          2097,
          3206,
          3850,
          4090,
          3975,
          2129,
          2007,
          1855,
          3812,
          3665,
          3397,
          3871,
          3490,
          4450,
          3520,
          4125,
          1690,
          1440,
          1239,
          4800,
          3990,
          720,
          2084,
          6900,
          2000,
          6253,
          2490,
          1790,
          2885,
          2510,
          1995,
          2730,
          2580,
          5000,
          1288,
          375,
          7490,
          2820,
          2000,
          1400,
          1800,
          1890,
          1214,
          5334,
          1200,
          3950,
          1690,
          2490,
          3220,
          1850,
          1390,
          2335,
          1273,
          1990,
          1553,
          2400,
          2100,
          3250,
          1930,
          2912
         ],
         "y0": " ",
         "yaxis": "y"
        },
        {
         "alignmentgroup": "True",
         "box": {
          "visible": true
         },
         "customdata": [
          [
           "y2000"
          ],
          [
           "y2000"
          ]
         ],
         "hovertemplate": "Build year=%{customdata[0]}<br>rooms=%{x}<br>price=%{y}<extra></extra>",
         "legendgroup": "y2000",
         "marker": {
          "color": "#00cc96"
         },
         "name": "y2000",
         "offsetgroup": "y2000",
         "orientation": "v",
         "points": "all",
         "scalegroup": "True",
         "showlegend": true,
         "type": "violin",
         "x": [
          1,
          2.5
         ],
         "x0": " ",
         "xaxis": "x",
         "y": [
          1850,
          2112
         ],
         "y0": " ",
         "yaxis": "y"
        },
        {
         "alignmentgroup": "True",
         "box": {
          "visible": true
         },
         "customdata": [
          [
           "y2001"
          ]
         ],
         "hovertemplate": "Build year=%{customdata[0]}<br>rooms=%{x}<br>price=%{y}<extra></extra>",
         "legendgroup": "y2001",
         "marker": {
          "color": "#ab63fa"
         },
         "name": "y2001",
         "offsetgroup": "y2001",
         "orientation": "v",
         "points": "all",
         "scalegroup": "True",
         "showlegend": true,
         "type": "violin",
         "x": [
          4.5
         ],
         "x0": " ",
         "xaxis": "x",
         "y": [
          3082
         ],
         "y0": " ",
         "yaxis": "y"
        },
        {
         "alignmentgroup": "True",
         "box": {
          "visible": true
         },
         "customdata": [
          [
           "y2003"
          ],
          [
           "y2003"
          ]
         ],
         "hovertemplate": "Build year=%{customdata[0]}<br>rooms=%{x}<br>price=%{y}<extra></extra>",
         "legendgroup": "y2003",
         "marker": {
          "color": "#FFA15A"
         },
         "name": "y2003",
         "offsetgroup": "y2003",
         "orientation": "v",
         "points": "all",
         "scalegroup": "True",
         "showlegend": true,
         "type": "violin",
         "x": [
          5.5,
          1
         ],
         "x0": " ",
         "xaxis": "x",
         "y": [
          5300,
          3084
         ],
         "y0": " ",
         "yaxis": "y"
        },
        {
         "alignmentgroup": "True",
         "box": {
          "visible": true
         },
         "customdata": [
          [
           "y2004"
          ],
          [
           "y2004"
          ]
         ],
         "hovertemplate": "Build year=%{customdata[0]}<br>rooms=%{x}<br>price=%{y}<extra></extra>",
         "legendgroup": "y2004",
         "marker": {
          "color": "#19d3f3"
         },
         "name": "y2004",
         "offsetgroup": "y2004",
         "orientation": "v",
         "points": "all",
         "scalegroup": "True",
         "showlegend": true,
         "type": "violin",
         "x": [
          5.5,
          3.5
         ],
         "x0": " ",
         "xaxis": "x",
         "y": [
          12653,
          2791
         ],
         "y0": " ",
         "yaxis": "y"
        },
        {
         "alignmentgroup": "True",
         "box": {
          "visible": true
         },
         "customdata": [
          [
           "y2005"
          ],
          [
           "y2005"
          ],
          [
           "y2005"
          ]
         ],
         "hovertemplate": "Build year=%{customdata[0]}<br>rooms=%{x}<br>price=%{y}<extra></extra>",
         "legendgroup": "y2005",
         "marker": {
          "color": "#FF6692"
         },
         "name": "y2005",
         "offsetgroup": "y2005",
         "orientation": "v",
         "points": "all",
         "scalegroup": "True",
         "showlegend": true,
         "type": "violin",
         "x": [
          3.5,
          3.5,
          1.5
         ],
         "x0": " ",
         "xaxis": "x",
         "y": [
          3380,
          3985,
          2050
         ],
         "y0": " ",
         "yaxis": "y"
        },
        {
         "alignmentgroup": "True",
         "box": {
          "visible": true
         },
         "customdata": [
          [
           "y2006"
          ],
          [
           "y2006"
          ],
          [
           "y2006"
          ],
          [
           "y2006"
          ],
          [
           "y2006"
          ],
          [
           "y2006"
          ],
          [
           "y2006"
          ]
         ],
         "hovertemplate": "Build year=%{customdata[0]}<br>rooms=%{x}<br>price=%{y}<extra></extra>",
         "legendgroup": "y2006",
         "marker": {
          "color": "#B6E880"
         },
         "name": "y2006",
         "offsetgroup": "y2006",
         "orientation": "v",
         "points": "all",
         "scalegroup": "True",
         "showlegend": true,
         "type": "violin",
         "x": [
          1,
          2,
          2,
          3,
          3.5,
          5.5,
          3.5
         ],
         "x0": " ",
         "xaxis": "x",
         "y": [
          2760,
          6700,
          4660,
          6680,
          3180,
          3870,
          3000
         ],
         "y0": " ",
         "yaxis": "y"
        },
        {
         "alignmentgroup": "True",
         "box": {
          "visible": true
         },
         "customdata": [
          [
           "y2007"
          ]
         ],
         "hovertemplate": "Build year=%{customdata[0]}<br>rooms=%{x}<br>price=%{y}<extra></extra>",
         "legendgroup": "y2007",
         "marker": {
          "color": "#FF97FF"
         },
         "name": "y2007",
         "offsetgroup": "y2007",
         "orientation": "v",
         "points": "all",
         "scalegroup": "True",
         "showlegend": true,
         "type": "violin",
         "x": [
          4.5
         ],
         "x0": " ",
         "xaxis": "x",
         "y": [
          3525
         ],
         "y0": " ",
         "yaxis": "y"
        },
        {
         "alignmentgroup": "True",
         "box": {
          "visible": true
         },
         "customdata": [
          [
           "y2008"
          ],
          [
           "y2008"
          ]
         ],
         "hovertemplate": "Build year=%{customdata[0]}<br>rooms=%{x}<br>price=%{y}<extra></extra>",
         "legendgroup": "y2008",
         "marker": {
          "color": "#FECB52"
         },
         "name": "y2008",
         "offsetgroup": "y2008",
         "orientation": "v",
         "points": "all",
         "scalegroup": "True",
         "showlegend": true,
         "type": "violin",
         "x": [
          4.5,
          3.5
         ],
         "x0": " ",
         "xaxis": "x",
         "y": [
          4363,
          3300
         ],
         "y0": " ",
         "yaxis": "y"
        },
        {
         "alignmentgroup": "True",
         "box": {
          "visible": true
         },
         "customdata": [
          [
           "y2009"
          ],
          [
           "y2009"
          ],
          [
           "y2009"
          ],
          [
           "y2009"
          ],
          [
           "y2009"
          ],
          [
           "y2009"
          ],
          [
           "y2009"
          ],
          [
           "y2009"
          ],
          [
           "y2009"
          ]
         ],
         "hovertemplate": "Build year=%{customdata[0]}<br>rooms=%{x}<br>price=%{y}<extra></extra>",
         "legendgroup": "y2009",
         "marker": {
          "color": "#636efa"
         },
         "name": "y2009",
         "offsetgroup": "y2009",
         "orientation": "v",
         "points": "all",
         "scalegroup": "True",
         "showlegend": true,
         "type": "violin",
         "x": [
          4.5,
          3,
          2.5,
          2.5,
          2.5,
          3,
          1,
          1,
          3.5
         ],
         "x0": " ",
         "xaxis": "x",
         "y": [
          3400,
          3400,
          2750,
          4286,
          2096,
          3200,
          2200,
          2100,
          1700
         ],
         "y0": " ",
         "yaxis": "y"
        },
        {
         "alignmentgroup": "True",
         "box": {
          "visible": true
         },
         "customdata": [
          [
           "y2010"
          ],
          [
           "y2010"
          ],
          [
           "y2010"
          ],
          [
           "y2010"
          ],
          [
           "y2010"
          ],
          [
           "y2010"
          ]
         ],
         "hovertemplate": "Build year=%{customdata[0]}<br>rooms=%{x}<br>price=%{y}<extra></extra>",
         "legendgroup": "y2010",
         "marker": {
          "color": "#EF553B"
         },
         "name": "y2010",
         "offsetgroup": "y2010",
         "orientation": "v",
         "points": "all",
         "scalegroup": "True",
         "showlegend": true,
         "type": "violin",
         "x": [
          3.5,
          1,
          3,
          2,
          4.5,
          4.5
         ],
         "x0": " ",
         "xaxis": "x",
         "y": [
          4835,
          1380,
          2490,
          1990,
          4000,
          2200
         ],
         "y0": " ",
         "yaxis": "y"
        },
        {
         "alignmentgroup": "True",
         "box": {
          "visible": true
         },
         "customdata": [
          [
           "y2011"
          ],
          [
           "y2011"
          ],
          [
           "y2011"
          ],
          [
           "y2011"
          ],
          [
           "y2011"
          ]
         ],
         "hovertemplate": "Build year=%{customdata[0]}<br>rooms=%{x}<br>price=%{y}<extra></extra>",
         "legendgroup": "y2011",
         "marker": {
          "color": "#00cc96"
         },
         "name": "y2011",
         "offsetgroup": "y2011",
         "orientation": "v",
         "points": "all",
         "scalegroup": "True",
         "showlegend": true,
         "type": "violin",
         "x": [
          3,
          3.5,
          3.5,
          3,
          3.5
         ],
         "x0": " ",
         "xaxis": "x",
         "y": [
          2189,
          3971,
          4683,
          2095,
          2644
         ],
         "y0": " ",
         "yaxis": "y"
        },
        {
         "alignmentgroup": "True",
         "box": {
          "visible": true
         },
         "customdata": [
          [
           "y2012"
          ],
          [
           "y2012"
          ],
          [
           "y2012"
          ],
          [
           "y2012"
          ]
         ],
         "hovertemplate": "Build year=%{customdata[0]}<br>rooms=%{x}<br>price=%{y}<extra></extra>",
         "legendgroup": "y2012",
         "marker": {
          "color": "#ab63fa"
         },
         "name": "y2012",
         "offsetgroup": "y2012",
         "orientation": "v",
         "points": "all",
         "scalegroup": "True",
         "showlegend": true,
         "type": "violin",
         "x": [
          2.5,
          3,
          3.5,
          2.5
         ],
         "x0": " ",
         "xaxis": "x",
         "y": [
          3210,
          2560,
          2313,
          2800
         ],
         "y0": " ",
         "yaxis": "y"
        },
        {
         "alignmentgroup": "True",
         "box": {
          "visible": true
         },
         "customdata": [
          [
           "y2013"
          ],
          [
           "y2013"
          ],
          [
           "y2013"
          ],
          [
           "y2013"
          ],
          [
           "y2013"
          ],
          [
           "y2013"
          ],
          [
           "y2013"
          ],
          [
           "y2013"
          ]
         ],
         "hovertemplate": "Build year=%{customdata[0]}<br>rooms=%{x}<br>price=%{y}<extra></extra>",
         "legendgroup": "y2013",
         "marker": {
          "color": "#FFA15A"
         },
         "name": "y2013",
         "offsetgroup": "y2013",
         "orientation": "v",
         "points": "all",
         "scalegroup": "True",
         "showlegend": true,
         "type": "violin",
         "x": [
          3.5,
          1,
          3.5,
          4.5,
          3.5,
          3.5,
          2.5,
          2.5
         ],
         "x0": " ",
         "xaxis": "x",
         "y": [
          5850,
          2850,
          2953,
          11700,
          7490,
          4392,
          1700,
          1700
         ],
         "y0": " ",
         "yaxis": "y"
        },
        {
         "alignmentgroup": "True",
         "box": {
          "visible": true
         },
         "customdata": [
          [
           "y2014"
          ],
          [
           "y2014"
          ],
          [
           "y2014"
          ],
          [
           "y2014"
          ],
          [
           "y2014"
          ],
          [
           "y2014"
          ],
          [
           "y2014"
          ],
          [
           "y2014"
          ],
          [
           "y2014"
          ],
          [
           "y2014"
          ],
          [
           "y2014"
          ]
         ],
         "hovertemplate": "Build year=%{customdata[0]}<br>rooms=%{x}<br>price=%{y}<extra></extra>",
         "legendgroup": "y2014",
         "marker": {
          "color": "#19d3f3"
         },
         "name": "y2014",
         "offsetgroup": "y2014",
         "orientation": "v",
         "points": "all",
         "scalegroup": "True",
         "showlegend": true,
         "type": "violin",
         "x": [
          1.5,
          4.5,
          4.5,
          2.5,
          4,
          2.5,
          1.5,
          1.5,
          3.5,
          1,
          3.5
         ],
         "x0": " ",
         "xaxis": "x",
         "y": [
          2730,
          5085,
          4970,
          3073,
          4985,
          3200,
          1890,
          1735,
          3180,
          1590,
          2500
         ],
         "y0": " ",
         "yaxis": "y"
        },
        {
         "alignmentgroup": "True",
         "box": {
          "visible": true
         },
         "customdata": [
          [
           "y2015"
          ],
          [
           "y2015"
          ],
          [
           "y2015"
          ],
          [
           "y2015"
          ],
          [
           "y2015"
          ],
          [
           "y2015"
          ],
          [
           "y2015"
          ],
          [
           "y2015"
          ],
          [
           "y2015"
          ],
          [
           "y2015"
          ],
          [
           "y2015"
          ]
         ],
         "hovertemplate": "Build year=%{customdata[0]}<br>rooms=%{x}<br>price=%{y}<extra></extra>",
         "legendgroup": "y2015",
         "marker": {
          "color": "#FF6692"
         },
         "name": "y2015",
         "offsetgroup": "y2015",
         "orientation": "v",
         "points": "all",
         "scalegroup": "True",
         "showlegend": true,
         "type": "violin",
         "x": [
          3.5,
          3.5,
          1.5,
          2.5,
          3.5,
          2.5,
          1.5,
          2.5,
          2.5,
          4,
          4.5
         ],
         "x0": " ",
         "xaxis": "x",
         "y": [
          4224,
          4596,
          1710,
          4280,
          6575,
          3705,
          1915,
          3370,
          3450,
          9450,
          3000
         ],
         "y0": " ",
         "yaxis": "y"
        },
        {
         "alignmentgroup": "True",
         "box": {
          "visible": true
         },
         "customdata": [
          [
           "y2016"
          ],
          [
           "y2016"
          ],
          [
           "y2016"
          ],
          [
           "y2016"
          ],
          [
           "y2016"
          ],
          [
           "y2016"
          ],
          [
           "y2016"
          ]
         ],
         "hovertemplate": "Build year=%{customdata[0]}<br>rooms=%{x}<br>price=%{y}<extra></extra>",
         "legendgroup": "y2016",
         "marker": {
          "color": "#B6E880"
         },
         "name": "y2016",
         "offsetgroup": "y2016",
         "orientation": "v",
         "points": "all",
         "scalegroup": "True",
         "showlegend": true,
         "type": "violin",
         "x": [
          2.5,
          1,
          3.5,
          3.5,
          1,
          1,
          3.5
         ],
         "x0": " ",
         "xaxis": "x",
         "y": [
          2595,
          3080,
          2324,
          3090,
          2100,
          2200,
          3800
         ],
         "y0": " ",
         "yaxis": "y"
        },
        {
         "alignmentgroup": "True",
         "box": {
          "visible": true
         },
         "customdata": [
          [
           "y2017"
          ],
          [
           "y2017"
          ],
          [
           "y2017"
          ],
          [
           "y2017"
          ],
          [
           "y2017"
          ],
          [
           "y2017"
          ],
          [
           "y2017"
          ]
         ],
         "hovertemplate": "Build year=%{customdata[0]}<br>rooms=%{x}<br>price=%{y}<extra></extra>",
         "legendgroup": "y2017",
         "marker": {
          "color": "#FF97FF"
         },
         "name": "y2017",
         "offsetgroup": "y2017",
         "orientation": "v",
         "points": "all",
         "scalegroup": "True",
         "showlegend": true,
         "type": "violin",
         "x": [
          2.5,
          2,
          3,
          2.5,
          2.5,
          1.5,
          3.5
         ],
         "x0": " ",
         "xaxis": "x",
         "y": [
          2738,
          3300,
          2995,
          2700,
          2170,
          1745,
          2200
         ],
         "y0": " ",
         "yaxis": "y"
        },
        {
         "alignmentgroup": "True",
         "box": {
          "visible": true
         },
         "customdata": [
          [
           "y2018"
          ],
          [
           "y2018"
          ],
          [
           "y2018"
          ],
          [
           "y2018"
          ],
          [
           "y2018"
          ],
          [
           "y2018"
          ],
          [
           "y2018"
          ]
         ],
         "hovertemplate": "Build year=%{customdata[0]}<br>rooms=%{x}<br>price=%{y}<extra></extra>",
         "legendgroup": "y2018",
         "marker": {
          "color": "#FECB52"
         },
         "name": "y2018",
         "offsetgroup": "y2018",
         "orientation": "v",
         "points": "all",
         "scalegroup": "True",
         "showlegend": true,
         "type": "violin",
         "x": [
          2.5,
          4.5,
          3.5,
          2.5,
          1,
          3.5,
          2
         ],
         "x0": " ",
         "xaxis": "x",
         "y": [
          1990,
          5300,
          2443,
          2460,
          1970,
          4130,
          2550
         ],
         "y0": " ",
         "yaxis": "y"
        },
        {
         "alignmentgroup": "True",
         "box": {
          "visible": true
         },
         "customdata": [
          [
           "y2019"
          ],
          [
           "y2019"
          ],
          [
           "y2019"
          ],
          [
           "y2019"
          ]
         ],
         "hovertemplate": "Build year=%{customdata[0]}<br>rooms=%{x}<br>price=%{y}<extra></extra>",
         "legendgroup": "y2019",
         "marker": {
          "color": "#636efa"
         },
         "name": "y2019",
         "offsetgroup": "y2019",
         "orientation": "v",
         "points": "all",
         "scalegroup": "True",
         "showlegend": true,
         "type": "violin",
         "x": [
          5.5,
          3,
          2,
          2.5
         ],
         "x0": " ",
         "xaxis": "x",
         "y": [
          6850,
          2990,
          2590,
          4700
         ],
         "y0": " ",
         "yaxis": "y"
        },
        {
         "alignmentgroup": "True",
         "box": {
          "visible": true
         },
         "customdata": [
          [
           "y2020"
          ],
          [
           "y2020"
          ],
          [
           "y2020"
          ],
          [
           "y2020"
          ],
          [
           "y2020"
          ],
          [
           "y2020"
          ],
          [
           "y2020"
          ],
          [
           "y2020"
          ],
          [
           "y2020"
          ],
          [
           "y2020"
          ],
          [
           "y2020"
          ],
          [
           "y2020"
          ]
         ],
         "hovertemplate": "Build year=%{customdata[0]}<br>rooms=%{x}<br>price=%{y}<extra></extra>",
         "legendgroup": "y2020",
         "marker": {
          "color": "#EF553B"
         },
         "name": "y2020",
         "offsetgroup": "y2020",
         "orientation": "v",
         "points": "all",
         "scalegroup": "True",
         "showlegend": true,
         "type": "violin",
         "x": [
          4.5,
          4.5,
          4.5,
          3.5,
          3.5,
          2.5,
          2.5,
          2.5,
          2.5,
          2.5,
          4,
          2.5
         ],
         "x0": " ",
         "xaxis": "x",
         "y": [
          4032,
          4227,
          4262,
          3500,
          3700,
          2593,
          2990,
          2340,
          2890,
          2890,
          7990,
          6490
         ],
         "y0": " ",
         "yaxis": "y"
        },
        {
         "alignmentgroup": "True",
         "box": {
          "visible": true
         },
         "customdata": [
          [
           "y2021"
          ],
          [
           "y2021"
          ],
          [
           "y2021"
          ],
          [
           "y2021"
          ],
          [
           "y2021"
          ],
          [
           "y2021"
          ],
          [
           "y2021"
          ],
          [
           "y2021"
          ],
          [
           "y2021"
          ],
          [
           "y2021"
          ],
          [
           "y2021"
          ],
          [
           "y2021"
          ],
          [
           "y2021"
          ],
          [
           "y2021"
          ]
         ],
         "hovertemplate": "Build year=%{customdata[0]}<br>rooms=%{x}<br>price=%{y}<extra></extra>",
         "legendgroup": "y2021",
         "marker": {
          "color": "#00cc96"
         },
         "name": "y2021",
         "offsetgroup": "y2021",
         "orientation": "v",
         "points": "all",
         "scalegroup": "True",
         "showlegend": true,
         "type": "violin",
         "x": [
          1.5,
          1.5,
          2.5,
          2.5,
          1,
          2.5,
          1.5,
          1.5,
          2.5,
          2.5,
          2.5,
          2.5,
          2.5,
          4.5
         ],
         "x0": " ",
         "xaxis": "x",
         "y": [
          1720,
          1921,
          2990,
          3100,
          3990,
          2990,
          1900,
          2480,
          2990,
          2900,
          2900,
          4870,
          2703,
          3250
         ],
         "y0": " ",
         "yaxis": "y"
        },
        {
         "alignmentgroup": "True",
         "box": {
          "visible": true
         },
         "customdata": [
          [
           "y2022"
          ],
          [
           "y2022"
          ],
          [
           "y2022"
          ],
          [
           "y2022"
          ],
          [
           "y2022"
          ],
          [
           "y2022"
          ],
          [
           "y2022"
          ],
          [
           "y2022"
          ],
          [
           "y2022"
          ],
          [
           "y2022"
          ],
          [
           "y2022"
          ],
          [
           "y2022"
          ],
          [
           "y2022"
          ],
          [
           "y2022"
          ],
          [
           "y2022"
          ],
          [
           "y2022"
          ],
          [
           "y2022"
          ],
          [
           "y2022"
          ],
          [
           "y2022"
          ]
         ],
         "hovertemplate": "Build year=%{customdata[0]}<br>rooms=%{x}<br>price=%{y}<extra></extra>",
         "legendgroup": "y2022",
         "marker": {
          "color": "#ab63fa"
         },
         "name": "y2022",
         "offsetgroup": "y2022",
         "orientation": "v",
         "points": "all",
         "scalegroup": "True",
         "showlegend": true,
         "type": "violin",
         "x": [
          4,
          2.5,
          3,
          3,
          3.5,
          2.5,
          2.5,
          3.5,
          2,
          3,
          4.5,
          1,
          2.5,
          3.5,
          3.5,
          4.5,
          3,
          4.5,
          2.5
         ],
         "x0": " ",
         "xaxis": "x",
         "y": [
          4029,
          4990,
          3371,
          3345,
          3280,
          2150,
          3187,
          5983,
          3431,
          3506,
          4226,
          1500,
          2150,
          2920,
          5500,
          9800,
          4470,
          4250,
          1400
         ],
         "y0": " ",
         "yaxis": "y"
        },
        {
         "alignmentgroup": "True",
         "box": {
          "visible": true
         },
         "customdata": [
          [
           "y2023"
          ],
          [
           "y2023"
          ],
          [
           "y2023"
          ],
          [
           "y2023"
          ],
          [
           "y2023"
          ],
          [
           "y2023"
          ],
          [
           "y2023"
          ],
          [
           "y2023"
          ],
          [
           "y2023"
          ],
          [
           "y2023"
          ],
          [
           "y2023"
          ],
          [
           "y2023"
          ],
          [
           "y2023"
          ],
          [
           "y2023"
          ],
          [
           "y2023"
          ],
          [
           "y2023"
          ],
          [
           "y2023"
          ],
          [
           "y2023"
          ],
          [
           "y2023"
          ],
          [
           "y2023"
          ],
          [
           "y2023"
          ],
          [
           "y2023"
          ],
          [
           "y2023"
          ],
          [
           "y2023"
          ],
          [
           "y2023"
          ],
          [
           "y2023"
          ],
          [
           "y2023"
          ],
          [
           "y2023"
          ],
          [
           "y2023"
          ],
          [
           "y2023"
          ],
          [
           "y2023"
          ],
          [
           "y2023"
          ]
         ],
         "hovertemplate": "Build year=%{customdata[0]}<br>rooms=%{x}<br>price=%{y}<extra></extra>",
         "legendgroup": "y2023",
         "marker": {
          "color": "#FFA15A"
         },
         "name": "y2023",
         "offsetgroup": "y2023",
         "orientation": "v",
         "points": "all",
         "scalegroup": "True",
         "showlegend": true,
         "type": "violin",
         "x": [
          2.5,
          2.5,
          3.5,
          1,
          2.5,
          3.5,
          2.5,
          4.5,
          2.5,
          1.5,
          2.5,
          3.5,
          1,
          3.5,
          1.5,
          2.5,
          2.5,
          2.5,
          2,
          3.5,
          4,
          1.5,
          2,
          1,
          1.5,
          2,
          1.5,
          1,
          1,
          1,
          1.5,
          1
         ],
         "x0": " ",
         "xaxis": "x",
         "y": [
          2600,
          2520,
          3277,
          1650,
          2880,
          3575,
          4095,
          3947,
          2475,
          1960,
          2630,
          3490,
          2030,
          3300,
          1940,
          3300,
          3400,
          3300,
          3300,
          3450,
          3950,
          1840,
          2700,
          1980,
          2150,
          2650,
          1890,
          2490,
          2400,
          2100,
          1200,
          1790
         ],
         "y0": " ",
         "yaxis": "y"
        },
        {
         "alignmentgroup": "True",
         "box": {
          "visible": true
         },
         "customdata": [
          [
           "y2024"
          ],
          [
           "y2024"
          ],
          [
           "y2024"
          ],
          [
           "y2024"
          ],
          [
           "y2024"
          ],
          [
           "y2024"
          ]
         ],
         "hovertemplate": "Build year=%{customdata[0]}<br>rooms=%{x}<br>price=%{y}<extra></extra>",
         "legendgroup": "y2024",
         "marker": {
          "color": "#19d3f3"
         },
         "name": "y2024",
         "offsetgroup": "y2024",
         "orientation": "v",
         "points": "all",
         "scalegroup": "True",
         "showlegend": true,
         "type": "violin",
         "x": [
          2,
          2,
          3.5,
          4.5,
          5.5,
          4.5
         ],
         "x0": " ",
         "xaxis": "x",
         "y": [
          2485,
          2380,
          4380,
          5125,
          7250,
          6950
         ],
         "y0": " ",
         "yaxis": "y"
        }
       ],
       "layout": {
        "legend": {
         "title": {
          "text": "Build year"
         },
         "tracegroupgap": 0
        },
        "margin": {
         "t": 60
        },
        "template": {
         "data": {
          "bar": [
           {
            "error_x": {
             "color": "#2a3f5f"
            },
            "error_y": {
             "color": "#2a3f5f"
            },
            "marker": {
             "line": {
              "color": "#E5ECF6",
              "width": 0.5
             },
             "pattern": {
              "fillmode": "overlay",
              "size": 10,
              "solidity": 0.2
             }
            },
            "type": "bar"
           }
          ],
          "barpolar": [
           {
            "marker": {
             "line": {
              "color": "#E5ECF6",
              "width": 0.5
             },
             "pattern": {
              "fillmode": "overlay",
              "size": 10,
              "solidity": 0.2
             }
            },
            "type": "barpolar"
           }
          ],
          "carpet": [
           {
            "aaxis": {
             "endlinecolor": "#2a3f5f",
             "gridcolor": "white",
             "linecolor": "white",
             "minorgridcolor": "white",
             "startlinecolor": "#2a3f5f"
            },
            "baxis": {
             "endlinecolor": "#2a3f5f",
             "gridcolor": "white",
             "linecolor": "white",
             "minorgridcolor": "white",
             "startlinecolor": "#2a3f5f"
            },
            "type": "carpet"
           }
          ],
          "choropleth": [
           {
            "colorbar": {
             "outlinewidth": 0,
             "ticks": ""
            },
            "type": "choropleth"
           }
          ],
          "contour": [
           {
            "colorbar": {
             "outlinewidth": 0,
             "ticks": ""
            },
            "colorscale": [
             [
              0,
              "#0d0887"
             ],
             [
              0.1111111111111111,
              "#46039f"
             ],
             [
              0.2222222222222222,
              "#7201a8"
             ],
             [
              0.3333333333333333,
              "#9c179e"
             ],
             [
              0.4444444444444444,
              "#bd3786"
             ],
             [
              0.5555555555555556,
              "#d8576b"
             ],
             [
              0.6666666666666666,
              "#ed7953"
             ],
             [
              0.7777777777777778,
              "#fb9f3a"
             ],
             [
              0.8888888888888888,
              "#fdca26"
             ],
             [
              1,
              "#f0f921"
             ]
            ],
            "type": "contour"
           }
          ],
          "contourcarpet": [
           {
            "colorbar": {
             "outlinewidth": 0,
             "ticks": ""
            },
            "type": "contourcarpet"
           }
          ],
          "heatmap": [
           {
            "colorbar": {
             "outlinewidth": 0,
             "ticks": ""
            },
            "colorscale": [
             [
              0,
              "#0d0887"
             ],
             [
              0.1111111111111111,
              "#46039f"
             ],
             [
              0.2222222222222222,
              "#7201a8"
             ],
             [
              0.3333333333333333,
              "#9c179e"
             ],
             [
              0.4444444444444444,
              "#bd3786"
             ],
             [
              0.5555555555555556,
              "#d8576b"
             ],
             [
              0.6666666666666666,
              "#ed7953"
             ],
             [
              0.7777777777777778,
              "#fb9f3a"
             ],
             [
              0.8888888888888888,
              "#fdca26"
             ],
             [
              1,
              "#f0f921"
             ]
            ],
            "type": "heatmap"
           }
          ],
          "heatmapgl": [
           {
            "colorbar": {
             "outlinewidth": 0,
             "ticks": ""
            },
            "colorscale": [
             [
              0,
              "#0d0887"
             ],
             [
              0.1111111111111111,
              "#46039f"
             ],
             [
              0.2222222222222222,
              "#7201a8"
             ],
             [
              0.3333333333333333,
              "#9c179e"
             ],
             [
              0.4444444444444444,
              "#bd3786"
             ],
             [
              0.5555555555555556,
              "#d8576b"
             ],
             [
              0.6666666666666666,
              "#ed7953"
             ],
             [
              0.7777777777777778,
              "#fb9f3a"
             ],
             [
              0.8888888888888888,
              "#fdca26"
             ],
             [
              1,
              "#f0f921"
             ]
            ],
            "type": "heatmapgl"
           }
          ],
          "histogram": [
           {
            "marker": {
             "pattern": {
              "fillmode": "overlay",
              "size": 10,
              "solidity": 0.2
             }
            },
            "type": "histogram"
           }
          ],
          "histogram2d": [
           {
            "colorbar": {
             "outlinewidth": 0,
             "ticks": ""
            },
            "colorscale": [
             [
              0,
              "#0d0887"
             ],
             [
              0.1111111111111111,
              "#46039f"
             ],
             [
              0.2222222222222222,
              "#7201a8"
             ],
             [
              0.3333333333333333,
              "#9c179e"
             ],
             [
              0.4444444444444444,
              "#bd3786"
             ],
             [
              0.5555555555555556,
              "#d8576b"
             ],
             [
              0.6666666666666666,
              "#ed7953"
             ],
             [
              0.7777777777777778,
              "#fb9f3a"
             ],
             [
              0.8888888888888888,
              "#fdca26"
             ],
             [
              1,
              "#f0f921"
             ]
            ],
            "type": "histogram2d"
           }
          ],
          "histogram2dcontour": [
           {
            "colorbar": {
             "outlinewidth": 0,
             "ticks": ""
            },
            "colorscale": [
             [
              0,
              "#0d0887"
             ],
             [
              0.1111111111111111,
              "#46039f"
             ],
             [
              0.2222222222222222,
              "#7201a8"
             ],
             [
              0.3333333333333333,
              "#9c179e"
             ],
             [
              0.4444444444444444,
              "#bd3786"
             ],
             [
              0.5555555555555556,
              "#d8576b"
             ],
             [
              0.6666666666666666,
              "#ed7953"
             ],
             [
              0.7777777777777778,
              "#fb9f3a"
             ],
             [
              0.8888888888888888,
              "#fdca26"
             ],
             [
              1,
              "#f0f921"
             ]
            ],
            "type": "histogram2dcontour"
           }
          ],
          "mesh3d": [
           {
            "colorbar": {
             "outlinewidth": 0,
             "ticks": ""
            },
            "type": "mesh3d"
           }
          ],
          "parcoords": [
           {
            "line": {
             "colorbar": {
              "outlinewidth": 0,
              "ticks": ""
             }
            },
            "type": "parcoords"
           }
          ],
          "pie": [
           {
            "automargin": true,
            "type": "pie"
           }
          ],
          "scatter": [
           {
            "fillpattern": {
             "fillmode": "overlay",
             "size": 10,
             "solidity": 0.2
            },
            "type": "scatter"
           }
          ],
          "scatter3d": [
           {
            "line": {
             "colorbar": {
              "outlinewidth": 0,
              "ticks": ""
             }
            },
            "marker": {
             "colorbar": {
              "outlinewidth": 0,
              "ticks": ""
             }
            },
            "type": "scatter3d"
           }
          ],
          "scattercarpet": [
           {
            "marker": {
             "colorbar": {
              "outlinewidth": 0,
              "ticks": ""
             }
            },
            "type": "scattercarpet"
           }
          ],
          "scattergeo": [
           {
            "marker": {
             "colorbar": {
              "outlinewidth": 0,
              "ticks": ""
             }
            },
            "type": "scattergeo"
           }
          ],
          "scattergl": [
           {
            "marker": {
             "colorbar": {
              "outlinewidth": 0,
              "ticks": ""
             }
            },
            "type": "scattergl"
           }
          ],
          "scattermapbox": [
           {
            "marker": {
             "colorbar": {
              "outlinewidth": 0,
              "ticks": ""
             }
            },
            "type": "scattermapbox"
           }
          ],
          "scatterpolar": [
           {
            "marker": {
             "colorbar": {
              "outlinewidth": 0,
              "ticks": ""
             }
            },
            "type": "scatterpolar"
           }
          ],
          "scatterpolargl": [
           {
            "marker": {
             "colorbar": {
              "outlinewidth": 0,
              "ticks": ""
             }
            },
            "type": "scatterpolargl"
           }
          ],
          "scatterternary": [
           {
            "marker": {
             "colorbar": {
              "outlinewidth": 0,
              "ticks": ""
             }
            },
            "type": "scatterternary"
           }
          ],
          "surface": [
           {
            "colorbar": {
             "outlinewidth": 0,
             "ticks": ""
            },
            "colorscale": [
             [
              0,
              "#0d0887"
             ],
             [
              0.1111111111111111,
              "#46039f"
             ],
             [
              0.2222222222222222,
              "#7201a8"
             ],
             [
              0.3333333333333333,
              "#9c179e"
             ],
             [
              0.4444444444444444,
              "#bd3786"
             ],
             [
              0.5555555555555556,
              "#d8576b"
             ],
             [
              0.6666666666666666,
              "#ed7953"
             ],
             [
              0.7777777777777778,
              "#fb9f3a"
             ],
             [
              0.8888888888888888,
              "#fdca26"
             ],
             [
              1,
              "#f0f921"
             ]
            ],
            "type": "surface"
           }
          ],
          "table": [
           {
            "cells": {
             "fill": {
              "color": "#EBF0F8"
             },
             "line": {
              "color": "white"
             }
            },
            "header": {
             "fill": {
              "color": "#C8D4E3"
             },
             "line": {
              "color": "white"
             }
            },
            "type": "table"
           }
          ]
         },
         "layout": {
          "annotationdefaults": {
           "arrowcolor": "#2a3f5f",
           "arrowhead": 0,
           "arrowwidth": 1
          },
          "autotypenumbers": "strict",
          "coloraxis": {
           "colorbar": {
            "outlinewidth": 0,
            "ticks": ""
           }
          },
          "colorscale": {
           "diverging": [
            [
             0,
             "#8e0152"
            ],
            [
             0.1,
             "#c51b7d"
            ],
            [
             0.2,
             "#de77ae"
            ],
            [
             0.3,
             "#f1b6da"
            ],
            [
             0.4,
             "#fde0ef"
            ],
            [
             0.5,
             "#f7f7f7"
            ],
            [
             0.6,
             "#e6f5d0"
            ],
            [
             0.7,
             "#b8e186"
            ],
            [
             0.8,
             "#7fbc41"
            ],
            [
             0.9,
             "#4d9221"
            ],
            [
             1,
             "#276419"
            ]
           ],
           "sequential": [
            [
             0,
             "#0d0887"
            ],
            [
             0.1111111111111111,
             "#46039f"
            ],
            [
             0.2222222222222222,
             "#7201a8"
            ],
            [
             0.3333333333333333,
             "#9c179e"
            ],
            [
             0.4444444444444444,
             "#bd3786"
            ],
            [
             0.5555555555555556,
             "#d8576b"
            ],
            [
             0.6666666666666666,
             "#ed7953"
            ],
            [
             0.7777777777777778,
             "#fb9f3a"
            ],
            [
             0.8888888888888888,
             "#fdca26"
            ],
            [
             1,
             "#f0f921"
            ]
           ],
           "sequentialminus": [
            [
             0,
             "#0d0887"
            ],
            [
             0.1111111111111111,
             "#46039f"
            ],
            [
             0.2222222222222222,
             "#7201a8"
            ],
            [
             0.3333333333333333,
             "#9c179e"
            ],
            [
             0.4444444444444444,
             "#bd3786"
            ],
            [
             0.5555555555555556,
             "#d8576b"
            ],
            [
             0.6666666666666666,
             "#ed7953"
            ],
            [
             0.7777777777777778,
             "#fb9f3a"
            ],
            [
             0.8888888888888888,
             "#fdca26"
            ],
            [
             1,
             "#f0f921"
            ]
           ]
          },
          "colorway": [
           "#636efa",
           "#EF553B",
           "#00cc96",
           "#ab63fa",
           "#FFA15A",
           "#19d3f3",
           "#FF6692",
           "#B6E880",
           "#FF97FF",
           "#FECB52"
          ],
          "font": {
           "color": "#2a3f5f"
          },
          "geo": {
           "bgcolor": "white",
           "lakecolor": "white",
           "landcolor": "#E5ECF6",
           "showlakes": true,
           "showland": true,
           "subunitcolor": "white"
          },
          "hoverlabel": {
           "align": "left"
          },
          "hovermode": "closest",
          "mapbox": {
           "style": "light"
          },
          "paper_bgcolor": "white",
          "plot_bgcolor": "#E5ECF6",
          "polar": {
           "angularaxis": {
            "gridcolor": "white",
            "linecolor": "white",
            "ticks": ""
           },
           "bgcolor": "#E5ECF6",
           "radialaxis": {
            "gridcolor": "white",
            "linecolor": "white",
            "ticks": ""
           }
          },
          "scene": {
           "xaxis": {
            "backgroundcolor": "#E5ECF6",
            "gridcolor": "white",
            "gridwidth": 2,
            "linecolor": "white",
            "showbackground": true,
            "ticks": "",
            "zerolinecolor": "white"
           },
           "yaxis": {
            "backgroundcolor": "#E5ECF6",
            "gridcolor": "white",
            "gridwidth": 2,
            "linecolor": "white",
            "showbackground": true,
            "ticks": "",
            "zerolinecolor": "white"
           },
           "zaxis": {
            "backgroundcolor": "#E5ECF6",
            "gridcolor": "white",
            "gridwidth": 2,
            "linecolor": "white",
            "showbackground": true,
            "ticks": "",
            "zerolinecolor": "white"
           }
          },
          "shapedefaults": {
           "line": {
            "color": "#2a3f5f"
           }
          },
          "ternary": {
           "aaxis": {
            "gridcolor": "white",
            "linecolor": "white",
            "ticks": ""
           },
           "baxis": {
            "gridcolor": "white",
            "linecolor": "white",
            "ticks": ""
           },
           "bgcolor": "#E5ECF6",
           "caxis": {
            "gridcolor": "white",
            "linecolor": "white",
            "ticks": ""
           }
          },
          "title": {
           "x": 0.05
          },
          "xaxis": {
           "automargin": true,
           "gridcolor": "white",
           "linecolor": "white",
           "ticks": "",
           "title": {
            "standoff": 15
           },
           "zerolinecolor": "white",
           "zerolinewidth": 2
          },
          "yaxis": {
           "automargin": true,
           "gridcolor": "white",
           "linecolor": "white",
           "ticks": "",
           "title": {
            "standoff": 15
           },
           "zerolinecolor": "white",
           "zerolinewidth": 2
          }
         }
        },
        "title": {
         "text": "Violin Plot of Price by Rooms and Build Year"
        },
        "violinmode": "group",
        "xaxis": {
         "anchor": "y",
         "domain": [
          0,
          1
         ],
         "title": {
          "text": "Rooms"
         }
        },
        "yaxis": {
         "anchor": "x",
         "domain": [
          0,
          1
         ],
         "title": {
          "text": "Price"
         }
        }
       }
      }
     },
     "metadata": {},
     "output_type": "display_data"
    }
   ],
   "source": [
    "# List of build years to be considered (assuming unique values from 'wbauj')\n",
    "wbauj_list = list(set(df['wbauj']))\n",
    "\n",
    "# Create new binary columns for each build year\n",
    "for year in wbauj_list:\n",
    "    df['y' + str(year)] = df['wbauj'].apply(lambda x: 1 if x == year else 0)\n",
    "\n",
    "# Update the wbauj_list to match the new column names\n",
    "wbauj_list_str = ['y' + str(year) for year in wbauj_list]\n",
    "\n",
    "# Melt the DataFrame to long format for Plotly\n",
    "melted_df = df.melt(id_vars=['price', 'rooms'], value_vars=wbauj_list_str, var_name='Build year', value_name='presence')\n",
    "\n",
    "# Filter to only include rows where the build year is present\n",
    "filtered_df = melted_df[melted_df['presence'] == 1]\n",
    "\n",
    "# Create the violin plot using Plotly\n",
    "fig = px.violin(filtered_df, x='rooms', y='price', color='Build year', box=True, points='all', hover_data=['Build year'])\n",
    "fig.update_layout(title='Violin Plot of Price by Rooms and Build Year', xaxis_title='Rooms', yaxis_title='Price')\n",
    "fig.show()"
   ]
  },
  {
   "cell_type": "code",
   "execution_count": 16,
   "metadata": {},
   "outputs": [
    {
     "data": {
      "application/vnd.plotly.v1+json": {
       "config": {
        "plotlyServerURL": "https://plot.ly"
       },
       "data": [
        {
         "alignmentgroup": "True",
         "box": {
          "visible": true
         },
         "hovertemplate": "Time of Day=%{x}<br>Sound Level=%{y}<extra></extra>",
         "legendgroup": "",
         "marker": {
          "color": "#636efa"
         },
         "name": "",
         "offsetgroup": "",
         "orientation": "v",
         "points": "all",
         "scalegroup": "True",
         "showlegend": false,
         "type": "violin",
         "x": [
          "lr_day",
          "lr_day",
          "lr_day",
          "lr_day",
          "lr_day",
          "lr_day",
          "lr_day",
          "lr_day",
          "lr_day",
          "lr_day",
          "lr_day",
          "lr_day",
          "lr_day",
          "lr_day",
          "lr_day",
          "lr_day",
          "lr_day",
          "lr_day",
          "lr_day",
          "lr_day",
          "lr_day",
          "lr_day",
          "lr_day",
          "lr_day",
          "lr_day",
          "lr_day",
          "lr_day",
          "lr_day",
          "lr_day",
          "lr_day",
          "lr_day",
          "lr_day",
          "lr_day",
          "lr_day",
          "lr_day",
          "lr_day",
          "lr_day",
          "lr_day",
          "lr_day",
          "lr_day",
          "lr_day",
          "lr_day",
          "lr_day",
          "lr_day",
          "lr_day",
          "lr_day",
          "lr_day",
          "lr_day",
          "lr_day",
          "lr_day",
          "lr_day",
          "lr_day",
          "lr_day",
          "lr_day",
          "lr_day",
          "lr_day",
          "lr_day",
          "lr_day",
          "lr_day",
          "lr_day",
          "lr_day",
          "lr_day",
          "lr_day",
          "lr_day",
          "lr_day",
          "lr_day",
          "lr_day",
          "lr_day",
          "lr_day",
          "lr_day",
          "lr_day",
          "lr_day",
          "lr_day",
          "lr_day",
          "lr_day",
          "lr_day",
          "lr_day",
          "lr_day",
          "lr_day",
          "lr_day",
          "lr_day",
          "lr_day",
          "lr_day",
          "lr_day",
          "lr_day",
          "lr_day",
          "lr_day",
          "lr_day",
          "lr_day",
          "lr_day",
          "lr_day",
          "lr_day",
          "lr_day",
          "lr_day",
          "lr_day",
          "lr_day",
          "lr_day",
          "lr_day",
          "lr_day",
          "lr_day",
          "lr_day",
          "lr_day",
          "lr_day",
          "lr_day",
          "lr_day",
          "lr_day",
          "lr_day",
          "lr_day",
          "lr_day",
          "lr_day",
          "lr_day",
          "lr_day",
          "lr_day",
          "lr_day",
          "lr_day",
          "lr_day",
          "lr_day",
          "lr_day",
          "lr_day",
          "lr_day",
          "lr_day",
          "lr_day",
          "lr_day",
          "lr_day",
          "lr_day",
          "lr_day",
          "lr_day",
          "lr_day",
          "lr_day",
          "lr_day",
          "lr_day",
          "lr_day",
          "lr_day",
          "lr_day",
          "lr_day",
          "lr_day",
          "lr_day",
          "lr_day",
          "lr_day",
          "lr_day",
          "lr_day",
          "lr_day",
          "lr_day",
          "lr_day",
          "lr_day",
          "lr_day",
          "lr_day",
          "lr_day",
          "lr_day",
          "lr_day",
          "lr_day",
          "lr_day",
          "lr_day",
          "lr_day",
          "lr_day",
          "lr_day",
          "lr_day",
          "lr_day",
          "lr_day",
          "lr_day",
          "lr_day",
          "lr_day",
          "lr_day",
          "lr_day",
          "lr_day",
          "lr_day",
          "lr_day",
          "lr_day",
          "lr_day",
          "lr_day",
          "lr_day",
          "lr_day",
          "lr_day",
          "lr_day",
          "lr_day",
          "lr_day",
          "lr_day",
          "lr_day",
          "lr_day",
          "lr_day",
          "lr_day",
          "lr_day",
          "lr_day",
          "lr_day",
          "lr_day",
          "lr_day",
          "lr_day",
          "lr_day",
          "lr_day",
          "lr_day",
          "lr_day",
          "lr_day",
          "lr_day",
          "lr_day",
          "lr_day",
          "lr_day",
          "lr_day",
          "lr_day",
          "lr_day",
          "lr_day",
          "lr_day",
          "lr_day",
          "lr_day",
          "lr_day",
          "lr_day",
          "lr_day",
          "lr_day",
          "lr_day",
          "lr_day",
          "lr_day",
          "lr_day",
          "lr_day",
          "lr_day",
          "lr_day",
          "lr_day",
          "lr_day",
          "lr_day",
          "lr_day",
          "lr_day",
          "lr_day",
          "lr_day",
          "lr_day",
          "lr_day",
          "lr_day",
          "lr_day",
          "lr_day",
          "lr_day",
          "lr_day",
          "lr_day",
          "lr_day",
          "lr_day",
          "lr_day",
          "lr_day",
          "lr_day",
          "lr_day",
          "lr_day",
          "lr_day",
          "lr_day",
          "lr_day",
          "lr_day",
          "lr_day",
          "lr_day",
          "lr_day",
          "lr_day",
          "lr_day",
          "lr_day",
          "lr_day",
          "lr_day",
          "lr_day",
          "lr_day",
          "lr_day",
          "lr_day",
          "lr_day",
          "lr_day",
          "lr_day",
          "lr_day",
          "lr_day",
          "lr_day",
          "lr_day",
          "lr_day",
          "lr_day",
          "lr_day",
          "lr_day",
          "lr_day",
          "lr_day",
          "lr_day",
          "lr_day",
          "lr_day",
          "lr_day",
          "lr_day",
          "lr_day",
          "lr_day",
          "lr_day",
          "lr_day",
          "lr_day",
          "lr_day",
          "lr_day",
          "lr_day",
          "lr_day",
          "lr_day",
          "lr_day",
          "lr_day",
          "lr_day",
          "lr_day",
          "lr_day",
          "lr_day",
          "lr_day",
          "lr_day",
          "lr_day",
          "lr_day",
          "lr_day",
          "lr_day",
          "lr_day",
          "lr_day",
          "lr_day",
          "lr_day",
          "lr_day",
          "lr_day",
          "lr_day",
          "lr_day",
          "lr_day",
          "lr_day",
          "lr_day",
          "lr_day",
          "lr_day",
          "lr_day",
          "lr_day",
          "lr_day",
          "lr_day",
          "lr_day",
          "lr_day",
          "lr_day",
          "lr_day",
          "lr_day",
          "lr_day",
          "lr_day",
          "lr_day",
          "lr_day",
          "lr_day",
          "lr_day",
          "lr_day",
          "lr_day",
          "lr_day",
          "lr_day",
          "lr_day",
          "lr_day",
          "lr_day",
          "lr_day",
          "lr_day",
          "lr_day",
          "lr_day",
          "lr_day",
          "lr_day",
          "lr_day",
          "lr_day",
          "lr_day",
          "lr_day",
          "lr_day",
          "lr_day",
          "lr_day",
          "lr_day",
          "lr_day",
          "lr_day",
          "lr_day",
          "lr_day",
          "lr_day",
          "lr_day",
          "lr_day",
          "lr_day",
          "lr_day",
          "lr_day",
          "lr_day",
          "lr_day",
          "lr_day",
          "lr_day",
          "lr_day",
          "lr_day",
          "lr_day",
          "lr_day",
          "lr_day",
          "lr_day",
          "lr_day",
          "lr_day",
          "lr_day",
          "lr_day",
          "lr_day",
          "lr_day",
          "lr_day",
          "lr_day",
          "lr_day",
          "lr_day",
          "lr_day",
          "lr_day",
          "lr_day",
          "lr_day",
          "lr_day",
          "lr_day",
          "lr_day",
          "lr_day",
          "lr_day",
          "lr_day",
          "lr_day",
          "lr_day",
          "lr_day",
          "lr_day",
          "lr_day",
          "lr_day",
          "lr_day",
          "lr_day",
          "lr_day",
          "lr_day",
          "lr_day",
          "lr_day",
          "lr_day",
          "lr_day",
          "lr_day",
          "lr_day",
          "lr_day",
          "lr_day",
          "lr_day",
          "lr_day",
          "lr_day",
          "lr_day",
          "lr_day",
          "lr_day",
          "lr_day",
          "lr_day",
          "lr_day",
          "lr_day",
          "lr_day",
          "lr_day",
          "lr_day",
          "lr_day",
          "lr_day",
          "lr_day",
          "lr_day",
          "lr_day",
          "lr_day",
          "lr_day",
          "lr_day",
          "lr_day",
          "lr_day",
          "lr_day",
          "lr_day",
          "lr_day",
          "lr_day",
          "lr_day",
          "lr_day",
          "lr_day",
          "lr_day",
          "lr_day",
          "lr_day",
          "lr_day",
          "lr_day",
          "lr_day",
          "lr_day",
          "lr_day",
          "lr_day",
          "lr_day",
          "lr_day",
          "lr_day",
          "lr_day",
          "lr_day",
          "lr_day",
          "lr_day",
          "lr_day",
          "lr_day",
          "lr_day",
          "lr_day",
          "lr_day",
          "lr_day",
          "lr_day",
          "lr_day",
          "lr_day",
          "lr_day",
          "lr_day",
          "lr_day",
          "lr_day",
          "lr_day",
          "lr_day",
          "lr_day",
          "lr_day",
          "lr_day",
          "lr_day",
          "lr_day",
          "lr_day",
          "lr_day",
          "lr_day",
          "lr_day",
          "lr_day",
          "lr_day",
          "lr_day",
          "lr_day",
          "lr_day",
          "lr_day",
          "lr_day",
          "lr_day",
          "lr_day",
          "lr_day",
          "lr_day",
          "lr_day",
          "lr_day",
          "lr_day",
          "lr_day",
          "lr_day",
          "lr_day",
          "lr_day",
          "lr_day",
          "lr_day",
          "lr_day",
          "lr_day",
          "lr_day",
          "lr_day",
          "lr_day",
          "lr_day",
          "lr_day",
          "lr_day",
          "lr_day",
          "lr_day",
          "lr_day",
          "lr_day",
          "lr_day",
          "lr_day",
          "lr_day",
          "lr_day",
          "lr_day",
          "lr_day",
          "lr_day",
          "lr_day",
          "lr_day",
          "lr_day",
          "lr_day",
          "lr_day",
          "lr_day",
          "lr_day",
          "lr_day",
          "lr_day",
          "lr_day",
          "lr_day",
          "lr_day",
          "lr_day",
          "lr_day",
          "lr_day",
          "lr_day",
          "lr_day",
          "lr_day",
          "lr_day",
          "lr_day",
          "lr_day",
          "lr_day",
          "lr_day",
          "lr_day",
          "lr_day",
          "lr_day",
          "lr_day",
          "lr_day",
          "lr_day",
          "lr_day",
          "lr_day",
          "lr_day",
          "lr_day",
          "lr_day",
          "lr_day",
          "lr_day",
          "lr_day",
          "lr_day",
          "lr_day",
          "lr_day",
          "lr_day",
          "lr_day",
          "lr_day",
          "lr_day",
          "lr_day",
          "lr_day",
          "lr_day",
          "lr_day",
          "lr_day",
          "lr_day",
          "lr_day",
          "lr_day",
          "lr_day",
          "lr_day",
          "lr_day",
          "lr_day",
          "lr_day",
          "lr_day",
          "lr_day",
          "lr_day",
          "lr_day",
          "lr_day",
          "lr_day",
          "lr_day",
          "lr_day",
          "lr_day",
          "lr_day",
          "lr_day",
          "lr_day",
          "lr_day",
          "lr_day",
          "lr_day",
          "lr_day",
          "lr_day",
          "lr_day",
          "lr_day",
          "lr_day",
          "lr_day",
          "lr_day",
          "lr_day",
          "lr_day",
          "lr_day",
          "lr_day",
          "lr_day",
          "lr_day",
          "lr_day",
          "lr_day",
          "lr_day",
          "lr_day",
          "lr_day",
          "lr_day",
          "lr_day",
          "lr_day",
          "lr_day",
          "lr_day",
          "lr_day",
          "lr_day",
          "lr_day",
          "lr_day",
          "lr_day",
          "lr_day",
          "lr_day",
          "lr_day",
          "lr_day",
          "lr_day",
          "lr_day",
          "lr_day",
          "lr_day",
          "lr_day",
          "lr_day",
          "lr_day",
          "lr_day",
          "lr_day",
          "lr_day",
          "lr_day",
          "lr_day",
          "lr_day",
          "lr_day",
          "lr_day",
          "lr_day",
          "lr_day",
          "lr_day",
          "lr_day",
          "lr_day",
          "lr_day",
          "lr_day",
          "lr_day",
          "lr_day",
          "lr_day",
          "lr_day",
          "lr_day",
          "lr_day",
          "lr_day",
          "lr_day",
          "lr_day",
          "lr_day",
          "lr_day",
          "lr_day",
          "lr_day",
          "lr_day",
          "lr_day",
          "lr_day",
          "lr_day",
          "lr_day",
          "lr_day",
          "lr_day",
          "lr_day",
          "lr_day",
          "lr_day",
          "lr_day",
          "lr_day",
          "lr_day",
          "lr_day",
          "lr_day",
          "lr_day",
          "lr_day",
          "lr_day",
          "lr_day",
          "lr_day",
          "lr_day",
          "lr_day",
          "lr_day",
          "lr_day",
          "lr_day",
          "lr_day",
          "lr_day",
          "lr_day",
          "lr_day",
          "lr_day",
          "lr_day",
          "lr_day",
          "lr_day",
          "lr_day",
          "lr_day",
          "lr_day",
          "lr_day",
          "lr_day",
          "lr_day",
          "lr_day",
          "lr_day",
          "lr_day",
          "lr_day",
          "lr_day",
          "lr_day",
          "lr_day",
          "lr_day",
          "lr_day",
          "lr_day",
          "lr_day",
          "lr_day",
          "lr_day",
          "lr_day",
          "lr_day",
          "lr_day",
          "lr_day",
          "lr_day",
          "lr_day",
          "lr_day",
          "lr_day",
          "lr_day",
          "lr_day",
          "lr_day",
          "lr_day",
          "lr_day",
          "lr_day",
          "lr_day",
          "lr_day",
          "lr_day",
          "lr_day",
          "lr_day",
          "lr_day",
          "lr_day",
          "lr_day",
          "lr_day",
          "lr_day",
          "lr_day",
          "lr_day",
          "lr_day",
          "lr_day",
          "lr_day",
          "lr_day",
          "lr_day",
          "lr_day",
          "lr_day",
          "lr_day",
          "lr_day",
          "lr_day",
          "lr_day",
          "lr_day",
          "lr_day",
          "lr_day",
          "lr_day",
          "lr_day",
          "lr_day",
          "lr_day",
          "lr_day",
          "lr_day",
          "lr_day",
          "lr_day",
          "lr_day",
          "lr_day",
          "lr_day",
          "lr_day",
          "lr_day",
          "lr_day",
          "lr_day",
          "lr_day",
          "lr_day",
          "lr_day",
          "lr_night",
          "lr_night",
          "lr_night",
          "lr_night",
          "lr_night",
          "lr_night",
          "lr_night",
          "lr_night",
          "lr_night",
          "lr_night",
          "lr_night",
          "lr_night",
          "lr_night",
          "lr_night",
          "lr_night",
          "lr_night",
          "lr_night",
          "lr_night",
          "lr_night",
          "lr_night",
          "lr_night",
          "lr_night",
          "lr_night",
          "lr_night",
          "lr_night",
          "lr_night",
          "lr_night",
          "lr_night",
          "lr_night",
          "lr_night",
          "lr_night",
          "lr_night",
          "lr_night",
          "lr_night",
          "lr_night",
          "lr_night",
          "lr_night",
          "lr_night",
          "lr_night",
          "lr_night",
          "lr_night",
          "lr_night",
          "lr_night",
          "lr_night",
          "lr_night",
          "lr_night",
          "lr_night",
          "lr_night",
          "lr_night",
          "lr_night",
          "lr_night",
          "lr_night",
          "lr_night",
          "lr_night",
          "lr_night",
          "lr_night",
          "lr_night",
          "lr_night",
          "lr_night",
          "lr_night",
          "lr_night",
          "lr_night",
          "lr_night",
          "lr_night",
          "lr_night",
          "lr_night",
          "lr_night",
          "lr_night",
          "lr_night",
          "lr_night",
          "lr_night",
          "lr_night",
          "lr_night",
          "lr_night",
          "lr_night",
          "lr_night",
          "lr_night",
          "lr_night",
          "lr_night",
          "lr_night",
          "lr_night",
          "lr_night",
          "lr_night",
          "lr_night",
          "lr_night",
          "lr_night",
          "lr_night",
          "lr_night",
          "lr_night",
          "lr_night",
          "lr_night",
          "lr_night",
          "lr_night",
          "lr_night",
          "lr_night",
          "lr_night",
          "lr_night",
          "lr_night",
          "lr_night",
          "lr_night",
          "lr_night",
          "lr_night",
          "lr_night",
          "lr_night",
          "lr_night",
          "lr_night",
          "lr_night",
          "lr_night",
          "lr_night",
          "lr_night",
          "lr_night",
          "lr_night",
          "lr_night",
          "lr_night",
          "lr_night",
          "lr_night",
          "lr_night",
          "lr_night",
          "lr_night",
          "lr_night",
          "lr_night",
          "lr_night",
          "lr_night",
          "lr_night",
          "lr_night",
          "lr_night",
          "lr_night",
          "lr_night",
          "lr_night",
          "lr_night",
          "lr_night",
          "lr_night",
          "lr_night",
          "lr_night",
          "lr_night",
          "lr_night",
          "lr_night",
          "lr_night",
          "lr_night",
          "lr_night",
          "lr_night",
          "lr_night",
          "lr_night",
          "lr_night",
          "lr_night",
          "lr_night",
          "lr_night",
          "lr_night",
          "lr_night",
          "lr_night",
          "lr_night",
          "lr_night",
          "lr_night",
          "lr_night",
          "lr_night",
          "lr_night",
          "lr_night",
          "lr_night",
          "lr_night",
          "lr_night",
          "lr_night",
          "lr_night",
          "lr_night",
          "lr_night",
          "lr_night",
          "lr_night",
          "lr_night",
          "lr_night",
          "lr_night",
          "lr_night",
          "lr_night",
          "lr_night",
          "lr_night",
          "lr_night",
          "lr_night",
          "lr_night",
          "lr_night",
          "lr_night",
          "lr_night",
          "lr_night",
          "lr_night",
          "lr_night",
          "lr_night",
          "lr_night",
          "lr_night",
          "lr_night",
          "lr_night",
          "lr_night",
          "lr_night",
          "lr_night",
          "lr_night",
          "lr_night",
          "lr_night",
          "lr_night",
          "lr_night",
          "lr_night",
          "lr_night",
          "lr_night",
          "lr_night",
          "lr_night",
          "lr_night",
          "lr_night",
          "lr_night",
          "lr_night",
          "lr_night",
          "lr_night",
          "lr_night",
          "lr_night",
          "lr_night",
          "lr_night",
          "lr_night",
          "lr_night",
          "lr_night",
          "lr_night",
          "lr_night",
          "lr_night",
          "lr_night",
          "lr_night",
          "lr_night",
          "lr_night",
          "lr_night",
          "lr_night",
          "lr_night",
          "lr_night",
          "lr_night",
          "lr_night",
          "lr_night",
          "lr_night",
          "lr_night",
          "lr_night",
          "lr_night",
          "lr_night",
          "lr_night",
          "lr_night",
          "lr_night",
          "lr_night",
          "lr_night",
          "lr_night",
          "lr_night",
          "lr_night",
          "lr_night",
          "lr_night",
          "lr_night",
          "lr_night",
          "lr_night",
          "lr_night",
          "lr_night",
          "lr_night",
          "lr_night",
          "lr_night",
          "lr_night",
          "lr_night",
          "lr_night",
          "lr_night",
          "lr_night",
          "lr_night",
          "lr_night",
          "lr_night",
          "lr_night",
          "lr_night",
          "lr_night",
          "lr_night",
          "lr_night",
          "lr_night",
          "lr_night",
          "lr_night",
          "lr_night",
          "lr_night",
          "lr_night",
          "lr_night",
          "lr_night",
          "lr_night",
          "lr_night",
          "lr_night",
          "lr_night",
          "lr_night",
          "lr_night",
          "lr_night",
          "lr_night",
          "lr_night",
          "lr_night",
          "lr_night",
          "lr_night",
          "lr_night",
          "lr_night",
          "lr_night",
          "lr_night",
          "lr_night",
          "lr_night",
          "lr_night",
          "lr_night",
          "lr_night",
          "lr_night",
          "lr_night",
          "lr_night",
          "lr_night",
          "lr_night",
          "lr_night",
          "lr_night",
          "lr_night",
          "lr_night",
          "lr_night",
          "lr_night",
          "lr_night",
          "lr_night",
          "lr_night",
          "lr_night",
          "lr_night",
          "lr_night",
          "lr_night",
          "lr_night",
          "lr_night",
          "lr_night",
          "lr_night",
          "lr_night",
          "lr_night",
          "lr_night",
          "lr_night",
          "lr_night",
          "lr_night",
          "lr_night",
          "lr_night",
          "lr_night",
          "lr_night",
          "lr_night",
          "lr_night",
          "lr_night",
          "lr_night",
          "lr_night",
          "lr_night",
          "lr_night",
          "lr_night",
          "lr_night",
          "lr_night",
          "lr_night",
          "lr_night",
          "lr_night",
          "lr_night",
          "lr_night",
          "lr_night",
          "lr_night",
          "lr_night",
          "lr_night",
          "lr_night",
          "lr_night",
          "lr_night",
          "lr_night",
          "lr_night",
          "lr_night",
          "lr_night",
          "lr_night",
          "lr_night",
          "lr_night",
          "lr_night",
          "lr_night",
          "lr_night",
          "lr_night",
          "lr_night",
          "lr_night",
          "lr_night",
          "lr_night",
          "lr_night",
          "lr_night",
          "lr_night",
          "lr_night",
          "lr_night",
          "lr_night",
          "lr_night",
          "lr_night",
          "lr_night",
          "lr_night",
          "lr_night",
          "lr_night",
          "lr_night",
          "lr_night",
          "lr_night",
          "lr_night",
          "lr_night",
          "lr_night",
          "lr_night",
          "lr_night",
          "lr_night",
          "lr_night",
          "lr_night",
          "lr_night",
          "lr_night",
          "lr_night",
          "lr_night",
          "lr_night",
          "lr_night",
          "lr_night",
          "lr_night",
          "lr_night",
          "lr_night",
          "lr_night",
          "lr_night",
          "lr_night",
          "lr_night",
          "lr_night",
          "lr_night",
          "lr_night",
          "lr_night",
          "lr_night",
          "lr_night",
          "lr_night",
          "lr_night",
          "lr_night",
          "lr_night",
          "lr_night",
          "lr_night",
          "lr_night",
          "lr_night",
          "lr_night",
          "lr_night",
          "lr_night",
          "lr_night",
          "lr_night",
          "lr_night",
          "lr_night",
          "lr_night",
          "lr_night",
          "lr_night",
          "lr_night",
          "lr_night",
          "lr_night",
          "lr_night",
          "lr_night",
          "lr_night",
          "lr_night",
          "lr_night",
          "lr_night",
          "lr_night",
          "lr_night",
          "lr_night",
          "lr_night",
          "lr_night",
          "lr_night",
          "lr_night",
          "lr_night",
          "lr_night",
          "lr_night",
          "lr_night",
          "lr_night",
          "lr_night",
          "lr_night",
          "lr_night",
          "lr_night",
          "lr_night",
          "lr_night",
          "lr_night",
          "lr_night",
          "lr_night",
          "lr_night",
          "lr_night",
          "lr_night",
          "lr_night",
          "lr_night",
          "lr_night",
          "lr_night",
          "lr_night",
          "lr_night",
          "lr_night",
          "lr_night",
          "lr_night",
          "lr_night",
          "lr_night",
          "lr_night",
          "lr_night",
          "lr_night",
          "lr_night",
          "lr_night",
          "lr_night",
          "lr_night",
          "lr_night",
          "lr_night",
          "lr_night",
          "lr_night",
          "lr_night",
          "lr_night",
          "lr_night",
          "lr_night",
          "lr_night",
          "lr_night",
          "lr_night",
          "lr_night",
          "lr_night",
          "lr_night",
          "lr_night",
          "lr_night",
          "lr_night",
          "lr_night",
          "lr_night",
          "lr_night",
          "lr_night",
          "lr_night",
          "lr_night",
          "lr_night",
          "lr_night",
          "lr_night",
          "lr_night",
          "lr_night",
          "lr_night",
          "lr_night",
          "lr_night",
          "lr_night",
          "lr_night",
          "lr_night",
          "lr_night",
          "lr_night",
          "lr_night",
          "lr_night",
          "lr_night",
          "lr_night",
          "lr_night",
          "lr_night",
          "lr_night",
          "lr_night",
          "lr_night",
          "lr_night",
          "lr_night",
          "lr_night",
          "lr_night",
          "lr_night",
          "lr_night",
          "lr_night",
          "lr_night",
          "lr_night",
          "lr_night",
          "lr_night",
          "lr_night",
          "lr_night",
          "lr_night",
          "lr_night",
          "lr_night",
          "lr_night",
          "lr_night",
          "lr_night",
          "lr_night",
          "lr_night",
          "lr_night",
          "lr_night",
          "lr_night",
          "lr_night",
          "lr_night",
          "lr_night",
          "lr_night",
          "lr_night",
          "lr_night",
          "lr_night",
          "lr_night",
          "lr_night",
          "lr_night",
          "lr_night",
          "lr_night",
          "lr_night",
          "lr_night",
          "lr_night",
          "lr_night",
          "lr_night",
          "lr_night",
          "lr_night",
          "lr_night",
          "lr_night",
          "lr_night",
          "lr_night",
          "lr_night",
          "lr_night",
          "lr_night",
          "lr_night",
          "lr_night",
          "lr_night",
          "lr_night",
          "lr_night",
          "lr_night",
          "lr_night",
          "lr_night",
          "lr_night",
          "lr_night",
          "lr_night",
          "lr_night",
          "lr_night",
          "lr_night",
          "lr_night",
          "lr_night",
          "lr_night",
          "lr_night",
          "lr_night",
          "lr_night",
          "lr_night",
          "lr_night",
          "lr_night",
          "lr_night",
          "lr_night",
          "lr_night",
          "lr_night",
          "lr_night",
          "lr_night",
          "lr_night",
          "lr_night",
          "lr_night",
          "lr_night",
          "lr_night",
          "lr_night",
          "lr_night",
          "lr_night",
          "lr_night",
          "lr_night",
          "lr_night",
          "lr_night",
          "lr_night",
          "lr_night",
          "lr_night",
          "lr_night",
          "lr_night",
          "lr_night",
          "lr_night",
          "lr_night",
          "lr_night",
          "lr_night",
          "lr_night",
          "lr_night",
          "lr_night",
          "lr_night",
          "lr_night",
          "lr_night",
          "lr_night",
          "lr_night",
          "lr_night",
          "lr_night",
          "lr_night",
          "lr_night",
          "lr_night",
          "lr_night",
          "lr_night",
          "lr_night",
          "lr_night",
          "lr_night",
          "lr_night",
          "lr_night",
          "lr_night",
          "lr_night",
          "lr_night",
          "lr_night",
          "lr_night",
          "lr_night",
          "lr_night",
          "lr_night",
          "lr_night",
          "lr_night",
          "lr_night",
          "lr_night",
          "lr_night",
          "lr_night",
          "lr_night",
          "lr_night",
          "lr_night",
          "lr_night",
          "lr_night",
          "lr_night",
          "lr_night",
          "lr_night",
          "lr_night",
          "lr_night",
          "lr_night",
          "lr_night",
          "lr_night",
          "lr_night",
          "lr_night",
          "lr_night",
          "lr_night",
          "lr_night",
          "lr_night",
          "lr_night",
          "lr_night",
          "lr_night",
          "lr_night",
          "lr_night",
          "lr_night",
          "lr_night",
          "lr_night",
          "lr_night",
          "lr_night",
          "lr_night",
          "lr_night",
          "lr_night",
          "lr_night",
          "lr_night",
          "lr_night",
          "lr_night",
          "lr_night",
          "lr_night",
          "lr_night",
          "lr_night",
          "lr_night",
          "lr_night",
          "lr_night",
          "lr_night",
          "lr_night",
          "lr_night",
          "lr_night",
          "lr_night",
          "lr_night",
          "lr_night",
          "lr_night",
          "lr_night",
          "lr_night",
          "lr_night",
          "lr_night",
          "lr_night",
          "lr_night",
          "lr_night",
          "lr_night",
          "lr_night",
          "lr_night",
          "lr_night",
          "lr_night",
          "lr_night",
          "lr_night",
          "lr_night",
          "lr_night",
          "lr_night",
          "lr_night",
          "lr_night",
          "lr_night",
          "lr_night",
          "lr_night",
          "lr_night",
          "lr_night",
          "lr_night",
          "lr_night",
          "lr_night",
          "lr_night",
          "lr_night",
          "lr_night",
          "lr_night",
          "lr_night",
          "lr_night",
          "lr_night",
          "lr_night",
          "lr_night",
          "lr_night",
          "lr_night",
          "lr_night",
          "lr_night",
          "lr_night",
          "lr_night",
          "lr_night",
          "lr_night",
          "lr_night",
          "lr_night",
          "lr_night",
          "lr_night",
          "lr_night",
          "lr_night",
          "lr_night",
          "lr_night",
          "lr_night"
         ],
         "x0": " ",
         "xaxis": "x",
         "y": [
          32.2,
          50.3,
          42.7,
          61.6,
          48.1,
          42.7,
          48.1,
          44.4,
          32.2,
          33.3,
          63.4,
          70.2,
          27.5,
          42,
          41,
          53.8,
          40.1,
          48.5,
          61.5,
          42.3,
          41.9,
          51.1,
          39.3,
          60.3,
          49.4,
          38.9,
          28.8,
          41,
          61.8,
          49,
          52.3,
          42.3,
          36.7,
          40.2,
          42.5,
          42.5,
          55.8,
          38.2,
          37.5,
          66.3,
          49.6,
          53.6,
          53.6,
          67.5,
          51.8,
          40.2,
          31.6,
          42.8,
          41.4,
          47.9,
          44.6,
          38.1,
          61.5,
          44.9,
          37.3,
          40.3,
          48.1,
          38.8,
          46.8,
          48.8,
          41.4,
          46.6,
          40.8,
          40.2,
          44.2,
          46.3,
          34.8,
          61.5,
          44.5,
          55.9,
          43.4,
          28.1,
          44.5,
          42.8,
          37.5,
          46.2,
          64.1,
          49.4,
          47,
          41.5,
          62.4,
          58.7,
          47.3,
          52.3,
          35.8,
          52.1,
          38.7,
          39.1,
          38.7,
          38.7,
          43.5,
          45.9,
          46.5,
          39.9,
          49.1,
          41.5,
          58.4,
          41.6,
          58.4,
          67.7,
          51.1,
          32.2,
          45.9,
          45.8,
          61.5,
          49.5,
          61.2,
          53.4,
          64.4,
          40.4,
          9.3,
          46.2,
          47.7,
          48,
          44.6,
          51.1,
          40.1,
          50.1,
          45,
          42.4,
          42.4,
          42.4,
          57.7,
          37.3,
          37.3,
          47.7,
          37.3,
          40.3,
          45.2,
          62.3,
          44.7,
          63.3,
          63.3,
          63.3,
          63.3,
          40.5,
          33.2,
          50.7,
          43.9,
          52.9,
          29.5,
          45.1,
          53.6,
          44.9,
          40,
          43.5,
          63.6,
          54,
          48.3,
          48.3,
          28.2,
          38.9,
          59.9,
          56.2,
          35.7,
          35.2,
          59.5,
          66.7,
          37.5,
          49.5,
          40.2,
          54,
          46.6,
          62.3,
          63.3,
          49.1,
          43.9,
          37.3,
          41,
          45.3,
          56.4,
          50.3,
          28.6,
          55.5,
          48.3,
          40.1,
          57.2,
          58.1,
          58.2,
          55.7,
          50.1,
          48.3,
          46,
          61.1,
          56.4,
          27.5,
          44.8,
          51.8,
          44.5,
          63.8,
          37.4,
          32.6,
          39.9,
          39.9,
          54,
          61.7,
          44.1,
          44.1,
          62.3,
          61.7,
          45.1,
          44.1,
          40.4,
          45.1,
          40.4,
          44.1,
          40.4,
          40.4,
          40.4,
          39.6,
          54,
          54,
          54,
          52.9,
          54,
          52.9,
          52.9,
          39.9,
          39.9,
          61.7,
          61.7,
          55.7,
          55.7,
          36,
          45.1,
          52.9,
          44,
          44,
          60.2,
          40.1,
          47.5,
          51.7,
          64.3,
          63.4,
          52.6,
          48.5,
          22.3,
          40.4,
          41.9,
          41.4,
          45.6,
          51.7,
          44.4,
          60.1,
          48.1,
          41.8,
          50.9,
          47.5,
          47.5,
          38.8,
          48.4,
          56.2,
          36,
          41.9,
          41.9,
          53.6,
          54.4,
          60,
          44.4,
          49.8,
          40.7,
          41,
          56.6,
          54.1,
          54.1,
          60,
          50.7,
          61.5,
          57.1,
          57.1,
          61.5,
          50.7,
          53.4,
          47.4,
          39.5,
          44.4,
          35.6,
          33.3,
          37.5,
          66,
          46.7,
          34.3,
          48.3,
          66,
          44.8,
          43.6,
          51.6,
          41.8,
          35.3,
          44,
          38.1,
          45.2,
          54.4,
          53.6,
          29.5,
          45,
          41.3,
          43.5,
          45.8,
          52.1,
          31.6,
          32.5,
          55.9,
          55.6,
          53.4,
          51,
          52.4,
          61,
          36.9,
          38.2,
          36.1,
          38.2,
          26.9,
          58.6,
          61.5,
          38.2,
          52.3,
          65.8,
          65.8,
          59.3,
          44.5,
          46.8,
          39.3,
          39.4,
          48.1,
          45.6,
          37.7,
          29.5,
          52.3,
          44.9,
          58.7,
          45.6,
          40.6,
          35.1,
          45.3,
          51.6,
          41.5,
          41.5,
          37.9,
          42.8,
          48.3,
          55.3,
          50,
          53.6,
          60.9,
          42.1,
          42.1,
          26.9,
          60,
          41.3,
          51.4,
          61.6,
          45.9,
          34.2,
          38,
          56.1,
          58.9,
          47.9,
          50.4,
          54.6,
          45.7,
          49.1,
          33.3,
          44.4,
          55.1,
          40.6,
          49.5,
          49.1,
          55.6,
          61.9,
          33.3,
          40,
          60.9,
          60.9,
          57.8,
          43.3,
          43.3,
          44.9,
          44.9,
          39.9,
          41,
          41,
          39.9,
          34.5,
          50,
          51.4,
          58,
          53.6,
          52.1,
          36.7,
          51.3,
          64.8,
          51.2,
          54.2,
          53,
          37.4,
          47.8,
          50.9,
          35,
          48.3,
          38.3,
          46.4,
          46.4,
          66.7,
          51.4,
          39.2,
          56.2,
          61.1,
          40.2,
          58.5,
          45.3,
          45.9,
          49.2,
          54.5,
          55.1,
          33,
          58,
          68.6,
          56,
          42.3,
          37.2,
          32.2,
          58.3,
          58.3,
          57.4,
          39.3,
          46.2,
          57.5,
          42.5,
          36,
          32.7,
          43.2,
          42.4,
          29.4,
          53.9,
          47.5,
          34.2,
          39.7,
          55.9,
          41.5,
          47.9,
          38.6,
          61.1,
          55.7,
          27.5,
          52.1,
          39.5,
          40.5,
          49.5,
          46.6,
          40.4,
          47.5,
          52.2,
          55.5,
          44.6,
          53.2,
          62.1,
          47.3,
          37.2,
          58.4,
          36,
          45.1,
          45.1,
          43,
          33.3,
          40.1,
          54.7,
          42.7,
          55.7,
          55.7,
          55.7,
          47.2,
          58.4,
          58.4,
          54,
          45.1,
          62.3,
          45.1,
          62.3,
          39.6,
          45.1,
          62.3,
          63.3,
          54,
          39.9,
          39.9,
          44,
          43.3,
          42.2,
          43,
          39.3,
          38.2,
          45.8,
          39.3,
          57.7,
          38.2,
          50.5,
          60.3,
          36,
          36,
          41.1,
          41.1,
          41.1,
          41.1,
          49.5,
          58.4,
          39.6,
          40.4,
          40.4,
          53.4,
          45.6,
          55.7,
          37.7,
          56.4,
          51,
          33.7,
          54,
          45.2,
          37.7,
          47.4,
          52,
          51.8,
          65,
          45.6,
          37,
          33.5,
          53.8,
          33.6,
          55.7,
          56.9,
          61.4,
          66.6,
          51,
          61.8,
          47.5,
          50.3,
          39.7,
          53.3,
          41.9,
          45.8,
          32.3,
          39.5,
          63.1,
          38.7,
          42.5,
          39.9,
          50.1,
          55.7,
          55.7,
          55.7,
          49,
          41.1,
          45.1,
          45.1,
          58.4,
          39.6,
          39.6,
          48.9,
          50,
          34.4,
          44,
          55.8,
          58.3,
          48.8,
          48.8,
          48.8,
          48.8,
          37.6,
          52.5,
          43.1,
          50,
          37.4,
          47,
          55.6,
          45.6,
          40.7,
          43,
          49.1,
          40.1,
          47.1,
          54.1,
          54.1,
          54.1,
          54.1,
          54.1,
          54.1,
          43.8,
          46.3,
          41.8,
          37.6,
          37.1,
          38.7,
          51.3,
          61.2,
          48.1,
          41.5,
          46.7,
          46.7,
          49,
          49.1,
          36.4,
          46.3,
          42.9,
          42.9,
          40.7,
          60,
          41,
          50.7,
          57.1,
          43.5,
          43.5,
          57.1,
          46.3,
          42.9,
          52.6,
          57.1,
          41,
          40.7,
          54.1,
          40.2,
          52.6,
          58.7,
          58.7,
          46.3,
          46.3,
          46.3,
          61.5,
          61.5,
          30.1,
          60.4,
          51.8,
          42.3,
          42.3,
          42.3,
          52.3,
          38,
          38,
          64,
          55.7,
          40.5,
          58.4,
          40.5,
          53,
          37.5,
          36.3,
          42.9,
          42.9,
          54.8,
          44.5,
          57.6,
          41.2,
          53.8,
          44.8,
          21.6,
          44.5,
          38.7,
          43,
          37.8,
          31.4,
          46,
          39.9,
          35.1,
          50.3,
          66.8,
          41,
          57.3,
          41.3,
          46.1,
          55.3,
          38.2,
          41.2,
          43.7,
          60,
          48.1,
          42,
          49,
          50.1,
          36.2,
          37,
          65.7,
          65.6,
          44.4,
          34.2,
          48.3,
          46.5,
          53.5,
          60.5,
          41,
          33,
          33,
          50.6,
          51.7,
          48.3,
          54.1,
          39.6,
          63.3,
          56.9,
          42.3,
          56.4,
          37.7,
          48,
          33.1,
          46.6,
          36.7,
          46.6,
          46.6,
          46.6,
          46.6,
          43.1,
          41.2,
          39.4,
          41.4,
          33.2,
          49.6,
          39,
          56.4,
          39.5,
          65.1,
          61.4,
          34,
          38.9,
          45.7,
          39.5,
          56.4,
          42.9,
          30.5,
          47.2,
          41.8,
          47.5,
          37.9,
          47.9,
          47.5,
          46.8,
          50.9,
          42.7,
          44.6,
          54.4,
          56.6,
          30.4,
          61.7,
          49.8,
          38.9,
          58.9,
          41.7,
          40.8,
          45.4,
          51.3,
          50.1,
          37.7,
          46.4,
          53.2,
          34.2,
          55.9,
          48.4,
          45.5,
          66,
          58.7,
          25.3,
          42.8,
          36.2,
          50.3,
          36.2,
          36.2,
          40.7,
          37.7,
          25.3,
          26.6,
          56.9,
          60.5,
          20.8,
          32,
          33.4,
          47.1,
          32.4,
          43.5,
          55.8,
          36.2,
          36.5,
          45.4,
          32.1,
          50.4,
          38.7,
          31.6,
          17.8,
          29.4,
          56.1,
          36.5,
          43.9,
          35.9,
          29.4,
          32,
          36.1,
          36.1,
          45,
          30.1,
          31.3,
          60.5,
          39.6,
          43.9,
          43.9,
          60.7,
          40.2,
          32,
          23,
          33.3,
          34.9,
          42,
          35.9,
          32,
          55.3,
          35.5,
          30.4,
          30.4,
          40.9,
          28.7,
          37.3,
          43.8,
          34.9,
          41,
          33.1,
          32,
          33.1,
          39.4,
          27.1,
          55.3,
          32.4,
          45.3,
          34.3,
          19.9,
          36.6,
          33.3,
          31.3,
          40.5,
          57.6,
          37.3,
          41.9,
          35,
          53.6,
          53.1,
          42,
          43.9,
          27.9,
          42.7,
          31.7,
          31.9,
          31.7,
          31.7,
          33.1,
          40.9,
          37,
          33.5,
          38.5,
          35,
          47.5,
          35.8,
          47.5,
          58,
          43.2,
          25.3,
          33.8,
          37.8,
          54.2,
          37.8,
          55.3,
          45,
          57.2,
          34,
          0,
          40.5,
          42.2,
          40.7,
          37.7,
          46.1,
          28.5,
          43.4,
          37.4,
          37.3,
          37.3,
          37.3,
          51.9,
          29.5,
          29.5,
          39.8,
          29.5,
          32.8,
          38.2,
          57,
          37.7,
          57.8,
          57.8,
          57.8,
          57.8,
          27.8,
          22.2,
          45,
          35.1,
          44.5,
          19.7,
          38.6,
          45.1,
          37.1,
          30.1,
          38,
          59.2,
          46.8,
          38.5,
          43.8,
          18.4,
          31.7,
          53.3,
          48.5,
          27.3,
          28.5,
          53.7,
          61.6,
          31.6,
          37.8,
          30.3,
          44.6,
          39.8,
          55.6,
          57.8,
          35.9,
          34.4,
          31.5,
          35.2,
          32.2,
          51.3,
          44.4,
          18.4,
          49,
          41.8,
          28.5,
          44.3,
          51.5,
          52.9,
          46.3,
          43.4,
          41.8,
          35,
          56.6,
          45.6,
          20.8,
          33.9,
          42.3,
          32.4,
          52.7,
          28.9,
          26,
          30.5,
          30.5,
          45,
          51.4,
          38.2,
          38.2,
          55.6,
          51.4,
          36.6,
          38.2,
          34.8,
          36.6,
          34.8,
          38.2,
          34.8,
          34.8,
          34.8,
          30.4,
          45,
          45,
          45,
          44.6,
          45,
          44.6,
          44.6,
          30.5,
          30.5,
          51.4,
          51.4,
          48.6,
          48.6,
          28.9,
          36.6,
          44.6,
          38.1,
          38.1,
          50.3,
          28.3,
          36.5,
          45.4,
          57.3,
          53.2,
          39.9,
          42.8,
          0,
          34.8,
          37.1,
          29.9,
          39,
          45.4,
          35.8,
          53.6,
          42.1,
          34.5,
          43,
          40.9,
          40.9,
          29.9,
          42.5,
          50.5,
          29.8,
          35.2,
          31.8,
          43.9,
          44.7,
          50.9,
          35.8,
          40.6,
          35.5,
          36.1,
          49,
          47,
          47,
          50.9,
          45.3,
          55.4,
          48.6,
          48.6,
          55.4,
          45.3,
          43.2,
          39.6,
          28.3,
          37.5,
          27.8,
          24.8,
          29.7,
          60.6,
          38,
          27.9,
          43.8,
          60.6,
          34.3,
          35.7,
          43.5,
          32.9,
          26.4,
          38.1,
          32.4,
          38.3,
          44.7,
          43.9,
          21.8,
          32.2,
          31.8,
          38.1,
          38.4,
          46.9,
          22.2,
          22.7,
          45.9,
          46.7,
          47.9,
          45.6,
          43.5,
          53.6,
          30.2,
          31.9,
          26.2,
          29.6,
          16.9,
          47.2,
          54.2,
          32.7,
          43.9,
          61.3,
          61.3,
          52.3,
          39.4,
          36.9,
          31.8,
          33.4,
          39.9,
          32.5,
          29.3,
          20.2,
          43.9,
          39.5,
          47,
          35.5,
          31.1,
          26.4,
          32,
          41.6,
          34.3,
          35,
          26.6,
          33.3,
          37.3,
          44.1,
          44,
          44.2,
          53.6,
          32.3,
          32.3,
          16.9,
          53.2,
          33.4,
          45.1,
          50.3,
          40.9,
          26.5,
          28.9,
          48.8,
          48.9,
          41.3,
          44.5,
          43.8,
          38.9,
          38.5,
          20.8,
          34.6,
          48.6,
          31.1,
          37.8,
          39.4,
          46.7,
          56.8,
          20.8,
          30.6,
          53.6,
          53.6,
          48.4,
          34.6,
          34.6,
          38.6,
          38.6,
          29.6,
          36.2,
          36.2,
          29.6,
          25,
          43.2,
          44.5,
          46.8,
          45,
          44.3,
          30.8,
          44.9,
          55.3,
          43.7,
          43.6,
          41.5,
          29.9,
          40.8,
          39.6,
          22.2,
          43.8,
          29.6,
          36.3,
          36.3,
          61.6,
          41,
          27.8,
          48.5,
          56.6,
          30.3,
          52.4,
          34.3,
          39.9,
          37.1,
          49.4,
          45.6,
          24.5,
          46.8,
          58.6,
          48.1,
          34.6,
          30.2,
          20.7,
          52.7,
          52.7,
          49.8,
          32.1,
          40.5,
          45.3,
          33.3,
          28.9,
          25.6,
          35.9,
          35.2,
          21,
          47.7,
          41,
          24.5,
          33.1,
          44.5,
          34.6,
          38.9,
          32.1,
          56.6,
          46.7,
          20.8,
          38.9,
          30.1,
          31.8,
          37.8,
          39.8,
          33.4,
          39.2,
          43.7,
          49,
          38.7,
          46.7,
          55.6,
          39.9,
          30.2,
          52.3,
          28.9,
          36.6,
          36.6,
          34.1,
          25,
          35,
          45,
          36.2,
          48.6,
          48.6,
          48.6,
          35.5,
          52.3,
          52.3,
          45,
          36.6,
          55.6,
          36.6,
          55.6,
          30.4,
          36.6,
          55.6,
          57.8,
          45,
          30.5,
          30.5,
          38.1,
          36.8,
          35.9,
          36.4,
          32,
          31.4,
          35.3,
          32,
          52.4,
          31.4,
          37.1,
          54.2,
          28.9,
          28.9,
          35.6,
          35.6,
          35.6,
          35.6,
          44.2,
          52.3,
          30.4,
          34.8,
          34.8,
          44.5,
          40.6,
          50.5,
          29.5,
          47,
          45.6,
          24.8,
          42.1,
          34.7,
          29.5,
          38.5,
          40.7,
          42.3,
          58.1,
          36.2,
          31.8,
          22.1,
          43.8,
          27.8,
          48.6,
          49.4,
          53.5,
          58.6,
          41.2,
          53.8,
          37.1,
          39.9,
          31.6,
          41.4,
          32.8,
          35.3,
          25,
          33.3,
          53.1,
          31.9,
          32.1,
          31.9,
          44.6,
          48.6,
          48.6,
          48.6,
          37.4,
          35.6,
          36.6,
          36.6,
          52.3,
          30.4,
          30.4,
          37.1,
          43.2,
          27.6,
          38.1,
          46.2,
          52.2,
          42.2,
          42.2,
          42.2,
          42.2,
          31.2,
          46.5,
          32.5,
          42.4,
          28.9,
          34.2,
          45.4,
          39,
          32.8,
          34.7,
          42.6,
          34.5,
          40,
          47,
          47,
          47,
          47,
          47,
          47,
          34.9,
          40.4,
          34.5,
          31.2,
          30.8,
          30.5,
          39.2,
          53.4,
          42.1,
          35,
          38.1,
          38.1,
          42.8,
          42.6,
          23.9,
          37.2,
          37.6,
          37.6,
          35.5,
          50.9,
          36.1,
          45.3,
          48.6,
          38.1,
          38.1,
          48.6,
          37.2,
          37.6,
          44.5,
          48.6,
          36.1,
          35.5,
          47,
          31.7,
          44.5,
          48.7,
          48.7,
          37.2,
          37.2,
          37.2,
          55.4,
          55.4,
          22.5,
          54.2,
          47,
          32.4,
          32.4,
          32.4,
          43.9,
          28.7,
          28.7,
          56.5,
          49.1,
          30,
          45.7,
          30,
          44,
          30.8,
          30.9,
          36.2,
          36.2,
          43.8,
          37.3,
          48.7,
          30.9,
          44.5,
          39.4,
          12.7,
          39.4,
          26.4,
          35.3,
          28.6,
          22.1,
          36.5,
          32.2,
          27,
          42.8,
          57.2,
          36.2,
          50.6,
          33.5,
          39.7,
          46.2,
          29.6,
          30.5,
          32.1,
          53.5,
          36.2,
          32,
          40.7,
          40.4,
          27.8,
          29.9,
          61.3,
          56.6,
          32.3,
          25.9,
          41.3,
          39.2,
          45.9,
          52.7,
          36.2,
          24.5,
          24.5,
          44,
          40.9,
          37.3,
          41.9,
          30.4,
          57.8,
          50.7,
          32.4,
          49.3,
          31.2,
          38.3,
          24.6,
          41,
          28.7,
          38.8,
          38.8,
          38.8,
          38.8,
          33.4,
          33.5,
          31.2,
          31.1,
          20.1,
          39.5,
          31.7,
          45.2,
          33.7,
          55.5,
          53.5,
          22.7,
          27.1,
          38.4,
          27.9,
          50,
          36.1,
          19.1,
          41.4,
          32.2,
          41,
          30.5,
          41.9,
          38.4,
          37.8,
          45.7,
          35.7,
          37.7,
          47.8,
          50.5,
          22.8,
          54.7,
          39.6,
          29.3,
          53.1,
          34.4,
          34.3,
          36.4,
          43.8,
          45.1,
          31.2,
          40.2,
          43.4,
          24.5,
          47.1,
          43.4,
          39.7,
          60.6,
          48.7
         ],
         "y0": " ",
         "yaxis": "y"
        }
       ],
       "layout": {
        "legend": {
         "tracegroupgap": 0
        },
        "margin": {
         "t": 60
        },
        "template": {
         "data": {
          "bar": [
           {
            "error_x": {
             "color": "#2a3f5f"
            },
            "error_y": {
             "color": "#2a3f5f"
            },
            "marker": {
             "line": {
              "color": "#E5ECF6",
              "width": 0.5
             },
             "pattern": {
              "fillmode": "overlay",
              "size": 10,
              "solidity": 0.2
             }
            },
            "type": "bar"
           }
          ],
          "barpolar": [
           {
            "marker": {
             "line": {
              "color": "#E5ECF6",
              "width": 0.5
             },
             "pattern": {
              "fillmode": "overlay",
              "size": 10,
              "solidity": 0.2
             }
            },
            "type": "barpolar"
           }
          ],
          "carpet": [
           {
            "aaxis": {
             "endlinecolor": "#2a3f5f",
             "gridcolor": "white",
             "linecolor": "white",
             "minorgridcolor": "white",
             "startlinecolor": "#2a3f5f"
            },
            "baxis": {
             "endlinecolor": "#2a3f5f",
             "gridcolor": "white",
             "linecolor": "white",
             "minorgridcolor": "white",
             "startlinecolor": "#2a3f5f"
            },
            "type": "carpet"
           }
          ],
          "choropleth": [
           {
            "colorbar": {
             "outlinewidth": 0,
             "ticks": ""
            },
            "type": "choropleth"
           }
          ],
          "contour": [
           {
            "colorbar": {
             "outlinewidth": 0,
             "ticks": ""
            },
            "colorscale": [
             [
              0,
              "#0d0887"
             ],
             [
              0.1111111111111111,
              "#46039f"
             ],
             [
              0.2222222222222222,
              "#7201a8"
             ],
             [
              0.3333333333333333,
              "#9c179e"
             ],
             [
              0.4444444444444444,
              "#bd3786"
             ],
             [
              0.5555555555555556,
              "#d8576b"
             ],
             [
              0.6666666666666666,
              "#ed7953"
             ],
             [
              0.7777777777777778,
              "#fb9f3a"
             ],
             [
              0.8888888888888888,
              "#fdca26"
             ],
             [
              1,
              "#f0f921"
             ]
            ],
            "type": "contour"
           }
          ],
          "contourcarpet": [
           {
            "colorbar": {
             "outlinewidth": 0,
             "ticks": ""
            },
            "type": "contourcarpet"
           }
          ],
          "heatmap": [
           {
            "colorbar": {
             "outlinewidth": 0,
             "ticks": ""
            },
            "colorscale": [
             [
              0,
              "#0d0887"
             ],
             [
              0.1111111111111111,
              "#46039f"
             ],
             [
              0.2222222222222222,
              "#7201a8"
             ],
             [
              0.3333333333333333,
              "#9c179e"
             ],
             [
              0.4444444444444444,
              "#bd3786"
             ],
             [
              0.5555555555555556,
              "#d8576b"
             ],
             [
              0.6666666666666666,
              "#ed7953"
             ],
             [
              0.7777777777777778,
              "#fb9f3a"
             ],
             [
              0.8888888888888888,
              "#fdca26"
             ],
             [
              1,
              "#f0f921"
             ]
            ],
            "type": "heatmap"
           }
          ],
          "heatmapgl": [
           {
            "colorbar": {
             "outlinewidth": 0,
             "ticks": ""
            },
            "colorscale": [
             [
              0,
              "#0d0887"
             ],
             [
              0.1111111111111111,
              "#46039f"
             ],
             [
              0.2222222222222222,
              "#7201a8"
             ],
             [
              0.3333333333333333,
              "#9c179e"
             ],
             [
              0.4444444444444444,
              "#bd3786"
             ],
             [
              0.5555555555555556,
              "#d8576b"
             ],
             [
              0.6666666666666666,
              "#ed7953"
             ],
             [
              0.7777777777777778,
              "#fb9f3a"
             ],
             [
              0.8888888888888888,
              "#fdca26"
             ],
             [
              1,
              "#f0f921"
             ]
            ],
            "type": "heatmapgl"
           }
          ],
          "histogram": [
           {
            "marker": {
             "pattern": {
              "fillmode": "overlay",
              "size": 10,
              "solidity": 0.2
             }
            },
            "type": "histogram"
           }
          ],
          "histogram2d": [
           {
            "colorbar": {
             "outlinewidth": 0,
             "ticks": ""
            },
            "colorscale": [
             [
              0,
              "#0d0887"
             ],
             [
              0.1111111111111111,
              "#46039f"
             ],
             [
              0.2222222222222222,
              "#7201a8"
             ],
             [
              0.3333333333333333,
              "#9c179e"
             ],
             [
              0.4444444444444444,
              "#bd3786"
             ],
             [
              0.5555555555555556,
              "#d8576b"
             ],
             [
              0.6666666666666666,
              "#ed7953"
             ],
             [
              0.7777777777777778,
              "#fb9f3a"
             ],
             [
              0.8888888888888888,
              "#fdca26"
             ],
             [
              1,
              "#f0f921"
             ]
            ],
            "type": "histogram2d"
           }
          ],
          "histogram2dcontour": [
           {
            "colorbar": {
             "outlinewidth": 0,
             "ticks": ""
            },
            "colorscale": [
             [
              0,
              "#0d0887"
             ],
             [
              0.1111111111111111,
              "#46039f"
             ],
             [
              0.2222222222222222,
              "#7201a8"
             ],
             [
              0.3333333333333333,
              "#9c179e"
             ],
             [
              0.4444444444444444,
              "#bd3786"
             ],
             [
              0.5555555555555556,
              "#d8576b"
             ],
             [
              0.6666666666666666,
              "#ed7953"
             ],
             [
              0.7777777777777778,
              "#fb9f3a"
             ],
             [
              0.8888888888888888,
              "#fdca26"
             ],
             [
              1,
              "#f0f921"
             ]
            ],
            "type": "histogram2dcontour"
           }
          ],
          "mesh3d": [
           {
            "colorbar": {
             "outlinewidth": 0,
             "ticks": ""
            },
            "type": "mesh3d"
           }
          ],
          "parcoords": [
           {
            "line": {
             "colorbar": {
              "outlinewidth": 0,
              "ticks": ""
             }
            },
            "type": "parcoords"
           }
          ],
          "pie": [
           {
            "automargin": true,
            "type": "pie"
           }
          ],
          "scatter": [
           {
            "fillpattern": {
             "fillmode": "overlay",
             "size": 10,
             "solidity": 0.2
            },
            "type": "scatter"
           }
          ],
          "scatter3d": [
           {
            "line": {
             "colorbar": {
              "outlinewidth": 0,
              "ticks": ""
             }
            },
            "marker": {
             "colorbar": {
              "outlinewidth": 0,
              "ticks": ""
             }
            },
            "type": "scatter3d"
           }
          ],
          "scattercarpet": [
           {
            "marker": {
             "colorbar": {
              "outlinewidth": 0,
              "ticks": ""
             }
            },
            "type": "scattercarpet"
           }
          ],
          "scattergeo": [
           {
            "marker": {
             "colorbar": {
              "outlinewidth": 0,
              "ticks": ""
             }
            },
            "type": "scattergeo"
           }
          ],
          "scattergl": [
           {
            "marker": {
             "colorbar": {
              "outlinewidth": 0,
              "ticks": ""
             }
            },
            "type": "scattergl"
           }
          ],
          "scattermapbox": [
           {
            "marker": {
             "colorbar": {
              "outlinewidth": 0,
              "ticks": ""
             }
            },
            "type": "scattermapbox"
           }
          ],
          "scatterpolar": [
           {
            "marker": {
             "colorbar": {
              "outlinewidth": 0,
              "ticks": ""
             }
            },
            "type": "scatterpolar"
           }
          ],
          "scatterpolargl": [
           {
            "marker": {
             "colorbar": {
              "outlinewidth": 0,
              "ticks": ""
             }
            },
            "type": "scatterpolargl"
           }
          ],
          "scatterternary": [
           {
            "marker": {
             "colorbar": {
              "outlinewidth": 0,
              "ticks": ""
             }
            },
            "type": "scatterternary"
           }
          ],
          "surface": [
           {
            "colorbar": {
             "outlinewidth": 0,
             "ticks": ""
            },
            "colorscale": [
             [
              0,
              "#0d0887"
             ],
             [
              0.1111111111111111,
              "#46039f"
             ],
             [
              0.2222222222222222,
              "#7201a8"
             ],
             [
              0.3333333333333333,
              "#9c179e"
             ],
             [
              0.4444444444444444,
              "#bd3786"
             ],
             [
              0.5555555555555556,
              "#d8576b"
             ],
             [
              0.6666666666666666,
              "#ed7953"
             ],
             [
              0.7777777777777778,
              "#fb9f3a"
             ],
             [
              0.8888888888888888,
              "#fdca26"
             ],
             [
              1,
              "#f0f921"
             ]
            ],
            "type": "surface"
           }
          ],
          "table": [
           {
            "cells": {
             "fill": {
              "color": "#EBF0F8"
             },
             "line": {
              "color": "white"
             }
            },
            "header": {
             "fill": {
              "color": "#C8D4E3"
             },
             "line": {
              "color": "white"
             }
            },
            "type": "table"
           }
          ]
         },
         "layout": {
          "annotationdefaults": {
           "arrowcolor": "#2a3f5f",
           "arrowhead": 0,
           "arrowwidth": 1
          },
          "autotypenumbers": "strict",
          "coloraxis": {
           "colorbar": {
            "outlinewidth": 0,
            "ticks": ""
           }
          },
          "colorscale": {
           "diverging": [
            [
             0,
             "#8e0152"
            ],
            [
             0.1,
             "#c51b7d"
            ],
            [
             0.2,
             "#de77ae"
            ],
            [
             0.3,
             "#f1b6da"
            ],
            [
             0.4,
             "#fde0ef"
            ],
            [
             0.5,
             "#f7f7f7"
            ],
            [
             0.6,
             "#e6f5d0"
            ],
            [
             0.7,
             "#b8e186"
            ],
            [
             0.8,
             "#7fbc41"
            ],
            [
             0.9,
             "#4d9221"
            ],
            [
             1,
             "#276419"
            ]
           ],
           "sequential": [
            [
             0,
             "#0d0887"
            ],
            [
             0.1111111111111111,
             "#46039f"
            ],
            [
             0.2222222222222222,
             "#7201a8"
            ],
            [
             0.3333333333333333,
             "#9c179e"
            ],
            [
             0.4444444444444444,
             "#bd3786"
            ],
            [
             0.5555555555555556,
             "#d8576b"
            ],
            [
             0.6666666666666666,
             "#ed7953"
            ],
            [
             0.7777777777777778,
             "#fb9f3a"
            ],
            [
             0.8888888888888888,
             "#fdca26"
            ],
            [
             1,
             "#f0f921"
            ]
           ],
           "sequentialminus": [
            [
             0,
             "#0d0887"
            ],
            [
             0.1111111111111111,
             "#46039f"
            ],
            [
             0.2222222222222222,
             "#7201a8"
            ],
            [
             0.3333333333333333,
             "#9c179e"
            ],
            [
             0.4444444444444444,
             "#bd3786"
            ],
            [
             0.5555555555555556,
             "#d8576b"
            ],
            [
             0.6666666666666666,
             "#ed7953"
            ],
            [
             0.7777777777777778,
             "#fb9f3a"
            ],
            [
             0.8888888888888888,
             "#fdca26"
            ],
            [
             1,
             "#f0f921"
            ]
           ]
          },
          "colorway": [
           "#636efa",
           "#EF553B",
           "#00cc96",
           "#ab63fa",
           "#FFA15A",
           "#19d3f3",
           "#FF6692",
           "#B6E880",
           "#FF97FF",
           "#FECB52"
          ],
          "font": {
           "color": "#2a3f5f"
          },
          "geo": {
           "bgcolor": "white",
           "lakecolor": "white",
           "landcolor": "#E5ECF6",
           "showlakes": true,
           "showland": true,
           "subunitcolor": "white"
          },
          "hoverlabel": {
           "align": "left"
          },
          "hovermode": "closest",
          "mapbox": {
           "style": "light"
          },
          "paper_bgcolor": "white",
          "plot_bgcolor": "#E5ECF6",
          "polar": {
           "angularaxis": {
            "gridcolor": "white",
            "linecolor": "white",
            "ticks": ""
           },
           "bgcolor": "#E5ECF6",
           "radialaxis": {
            "gridcolor": "white",
            "linecolor": "white",
            "ticks": ""
           }
          },
          "scene": {
           "xaxis": {
            "backgroundcolor": "#E5ECF6",
            "gridcolor": "white",
            "gridwidth": 2,
            "linecolor": "white",
            "showbackground": true,
            "ticks": "",
            "zerolinecolor": "white"
           },
           "yaxis": {
            "backgroundcolor": "#E5ECF6",
            "gridcolor": "white",
            "gridwidth": 2,
            "linecolor": "white",
            "showbackground": true,
            "ticks": "",
            "zerolinecolor": "white"
           },
           "zaxis": {
            "backgroundcolor": "#E5ECF6",
            "gridcolor": "white",
            "gridwidth": 2,
            "linecolor": "white",
            "showbackground": true,
            "ticks": "",
            "zerolinecolor": "white"
           }
          },
          "shapedefaults": {
           "line": {
            "color": "#2a3f5f"
           }
          },
          "ternary": {
           "aaxis": {
            "gridcolor": "white",
            "linecolor": "white",
            "ticks": ""
           },
           "baxis": {
            "gridcolor": "white",
            "linecolor": "white",
            "ticks": ""
           },
           "bgcolor": "#E5ECF6",
           "caxis": {
            "gridcolor": "white",
            "linecolor": "white",
            "ticks": ""
           }
          },
          "title": {
           "x": 0.05
          },
          "xaxis": {
           "automargin": true,
           "gridcolor": "white",
           "linecolor": "white",
           "ticks": "",
           "title": {
            "standoff": 15
           },
           "zerolinecolor": "white",
           "zerolinewidth": 2
          },
          "yaxis": {
           "automargin": true,
           "gridcolor": "white",
           "linecolor": "white",
           "ticks": "",
           "title": {
            "standoff": 15
           },
           "zerolinecolor": "white",
           "zerolinewidth": 2
          }
         }
        },
        "title": {
         "text": "Violin Plot of Sound Levels by Time of Day"
        },
        "violinmode": "group",
        "xaxis": {
         "anchor": "y",
         "domain": [
          0,
          1
         ],
         "title": {
          "text": "Time of Day"
         }
        },
        "yaxis": {
         "anchor": "x",
         "domain": [
          0,
          1
         ],
         "title": {
          "text": "Sound Level"
         }
        }
       }
      }
     },
     "metadata": {},
     "output_type": "display_data"
    }
   ],
   "source": [
    "# Melt the DataFrame to long format\n",
    "melted_df = df.melt(value_vars=['lr_day', 'lr_night'], var_name='Time of Day', value_name='Sound Level')\n",
    "\n",
    "# Create the violin plot using Plotly\n",
    "fig = px.violin(melted_df, x='Time of Day', y='Sound Level', box=True, points='all')\n",
    "fig.update_layout(title='Violin Plot of Sound Levels by Time of Day', xaxis_title='Time of Day', yaxis_title='Sound Level')\n",
    "fig.show()\n",
    "\n",
    "# Creates a boxplot and violinport"
   ]
  },
  {
   "cell_type": "code",
   "execution_count": null,
   "metadata": {},
   "outputs": [],
   "source": []
  },
  {
   "cell_type": "code",
   "execution_count": 17,
   "metadata": {},
   "outputs": [
    {
     "data": {
      "image/png": "[encoded data removed]",
      "text/plain": [
       "<Figure size 2000x1500 with 6 Axes>"
      ]
     },
     "metadata": {},
     "output_type": "display_data"
    },
    {
     "data": {
      "text/plain": [
       "<Figure size 1200x800 with 0 Axes>"
      ]
     },
     "metadata": {},
     "output_type": "display_data"
    },
    {
     "data": {
      "image/png": "[encoded data removed]",
      "text/plain": [
       "<Figure size 640x480 with 8 Axes>"
      ]
     },
     "metadata": {},
     "output_type": "display_data"
    }
   ],
   "source": [
    "# Histograms for numerical attributes\n",
    "df[['price', 'rooms', 'size', 'distance_hospital', 'lr_day', 'lr_night', 'distance_ov']].hist(bins=50, figsize=(20,15))\n",
    "plt.show()\n",
    "\n",
    "# Box plots for examining distributions and to spot outliers\n",
    "num_attributes = ['price', 'rooms', 'size', 'distance_hospital', 'lr_day', 'lr_night', 'distance_ov']\n",
    "plt.figure(figsize=(12, 8))\n",
    "df[num_attributes].plot(kind='box', subplots=True, layout=(2,4), sharex=False, sharey=False)\n",
    "plt.show()\n"
   ]
  },
  {
   "cell_type": "code",
   "execution_count": 18,
   "metadata": {},
   "outputs": [
    {
     "name": "stderr",
     "output_type": "stream",
     "text": [
      "c:\\Users\\gigim\\anaconda3\\envs\\mlpenv\\Lib\\site-packages\\seaborn\\_oldcore.py:1119: FutureWarning:\n",
      "\n",
      "use_inf_as_na option is deprecated and will be removed in a future version. Convert inf values to NaN before operating instead.\n",
      "\n",
      "c:\\Users\\gigim\\anaconda3\\envs\\mlpenv\\Lib\\site-packages\\seaborn\\_oldcore.py:1119: FutureWarning:\n",
      "\n",
      "use_inf_as_na option is deprecated and will be removed in a future version. Convert inf values to NaN before operating instead.\n",
      "\n",
      "c:\\Users\\gigim\\anaconda3\\envs\\mlpenv\\Lib\\site-packages\\seaborn\\_oldcore.py:1119: FutureWarning:\n",
      "\n",
      "use_inf_as_na option is deprecated and will be removed in a future version. Convert inf values to NaN before operating instead.\n",
      "\n"
     ]
    },
    {
     "data": {
      "image/png": "[encoded data removed]",
      "text/plain": [
       "<Figure size 750x750 with 12 Axes>"
      ]
     },
     "metadata": {},
     "output_type": "display_data"
    },
    {
     "data": {
      "image/png": "[encoded data removed]",
      "text/plain": [
       "<Figure size 1000x800 with 2 Axes>"
      ]
     },
     "metadata": {},
     "output_type": "display_data"
    }
   ],
   "source": [
    "# Pair plot of selected variables\n",
    "sns.pairplot(df[['price', 'rooms', 'size', 'distance_hospital']])\n",
    "plt.show()\n",
    "\n",
    "# Correlation matrix heatmap\n",
    "corr_matrix = df[['price', 'rooms', 'size', 'distance_hospital']].corr()\n",
    "plt.figure(figsize=(10, 8))\n",
    "sns.heatmap(corr_matrix, annot=True, fmt=\".2f\", cmap='coolwarm')\n",
    "plt.show()"
   ]
  },
  {
   "cell_type": "code",
   "execution_count": 19,
   "metadata": {},
   "outputs": [],
   "source": [
    "df.to_clipboard()"
   ]
  },
  {
   "cell_type": "code",
   "execution_count": 20,
   "metadata": {},
   "outputs": [
    {
     "name": "stderr",
     "output_type": "stream",
     "text": [
      "c:\\Users\\gigim\\anaconda3\\envs\\mlpenv\\Lib\\site-packages\\seaborn\\_oldcore.py:1119: FutureWarning:\n",
      "\n",
      "use_inf_as_na option is deprecated and will be removed in a future version. Convert inf values to NaN before operating instead.\n",
      "\n",
      "c:\\Users\\gigim\\anaconda3\\envs\\mlpenv\\Lib\\site-packages\\seaborn\\_oldcore.py:1119: FutureWarning:\n",
      "\n",
      "use_inf_as_na option is deprecated and will be removed in a future version. Convert inf values to NaN before operating instead.\n",
      "\n",
      "c:\\Users\\gigim\\anaconda3\\envs\\mlpenv\\Lib\\site-packages\\seaborn\\_oldcore.py:1119: FutureWarning:\n",
      "\n",
      "use_inf_as_na option is deprecated and will be removed in a future version. Convert inf values to NaN before operating instead.\n",
      "\n"
     ]
    },
    {
     "data": {
      "image/png": "[encoded data removed]",
      "text/plain": [
       "<Figure size 750x750 with 12 Axes>"
      ]
     },
     "metadata": {},
     "output_type": "display_data"
    },
    {
     "data": {
      "image/png": "[encoded data removed]",
      "text/plain": [
       "<Figure size 1000x800 with 2 Axes>"
      ]
     },
     "metadata": {},
     "output_type": "display_data"
    }
   ],
   "source": [
    "# Pair plot of selected variables\n",
    "sns.pairplot(df[['price', 'lr_day', 'lr_night']])\n",
    "plt.show()\n",
    "\n",
    "# Correlation matrix heatmap\n",
    "corr_matrix = df[['price', 'lr_day', 'lr_night']].corr()\n",
    "plt.figure(figsize=(10, 8))\n",
    "sns.heatmap(corr_matrix, annot=True, fmt=\".2f\", cmap='coolwarm')\n",
    "plt.show()"
   ]
  },
  {
   "cell_type": "code",
   "execution_count": 21,
   "metadata": {},
   "outputs": [
    {
     "data": {
      "text/plain": [
       "Index(['price', 'address', 'description', 'rooms', 'size', 'latitude',\n",
       "       'longitude', 'distance_hospital', 'lr_day', 'lr_night', 'distance_ov',\n",
       "       'wbauj', 'modern', 'erstvermietung', 'zentral', 'see', 'neu', 'stöckig',\n",
       "       'traum', 'bijou', 'neubau', 'balkon', 'charmant', 'erstbezug',\n",
       "       'keine_description', '1 Zimmer', '1.5 Zimmer', '2 Zimmer', '2.5 Zimmer',\n",
       "       '3 Zimmer', '3.5 Zimmer', '4 Zimmer', '4.5 Zimmer', '5 Zimmer',\n",
       "       '5.5 Zimmer', '6 Zimmer', '6.5 Zimmer', '7 Zimmer', '7.5 Zimmer', 'y0',\n",
       "       'y1999', 'y2000', 'y2001', 'y2003', 'y2004', 'y2005', 'y2006', 'y2007',\n",
       "       'y2008', 'y2009', 'y2010', 'y2011', 'y2012', 'y2013', 'y2014', 'y2015',\n",
       "       'y2016', 'y2017', 'y2018', 'y2019', 'y2020', 'y2021', 'y2022', 'y2023',\n",
       "       'y2024'],\n",
       "      dtype='object')"
      ]
     },
     "execution_count": 21,
     "metadata": {},
     "output_type": "execute_result"
    }
   ],
   "source": [
    "df.columns"
   ]
  },
  {
   "cell_type": "code",
   "execution_count": 22,
   "metadata": {},
   "outputs": [],
   "source": [
    "### violinplots test\n",
    "df.to_clipboard()"
   ]
  },
  {
   "cell_type": "code",
   "execution_count": 23,
   "metadata": {},
   "outputs": [],
   "source": [
    "# Save the DataFrame to a pickle file\n",
    "df.to_pickle('final_dataframe.pkl')"
   ]
  },
  {
   "cell_type": "markdown",
   "metadata": {},
   "source": [
    "## Geolocatoin Analysis <a name=\"loc\"></a>"
   ]
  },
  {
   "cell_type": "code",
   "execution_count": 24,
   "metadata": {},
   "outputs": [
    {
     "data": {
      "text/html": [
       "<div>\n",
       "<style scoped>\n",
       "    .dataframe tbody tr th:only-of-type {\n",
       "        vertical-align: middle;\n",
       "    }\n",
       "\n",
       "    .dataframe tbody tr th {\n",
       "        vertical-align: top;\n",
       "    }\n",
       "\n",
       "    .dataframe thead th {\n",
       "        text-align: right;\n",
       "    }\n",
       "</style>\n",
       "<table border=\"1\" class=\"dataframe\">\n",
       "  <thead>\n",
       "    <tr style=\"text-align: right;\">\n",
       "      <th></th>\n",
       "      <th>price</th>\n",
       "      <th>address</th>\n",
       "      <th>description</th>\n",
       "      <th>rooms</th>\n",
       "      <th>size</th>\n",
       "      <th>latitude</th>\n",
       "      <th>longitude</th>\n",
       "      <th>distance_hospital</th>\n",
       "      <th>lr_day</th>\n",
       "      <th>lr_night</th>\n",
       "      <th>...</th>\n",
       "      <th>y2015</th>\n",
       "      <th>y2016</th>\n",
       "      <th>y2017</th>\n",
       "      <th>y2018</th>\n",
       "      <th>y2019</th>\n",
       "      <th>y2020</th>\n",
       "      <th>y2021</th>\n",
       "      <th>y2022</th>\n",
       "      <th>y2023</th>\n",
       "      <th>y2024</th>\n",
       "    </tr>\n",
       "  </thead>\n",
       "  <tbody>\n",
       "    <tr>\n",
       "      <th>0</th>\n",
       "      <td>4032</td>\n",
       "      <td>Käferholzstrasse 42, 8057 Zürich</td>\n",
       "      <td>Modernes Wohnen im Guggachpark</td>\n",
       "      <td>4.5</td>\n",
       "      <td>114</td>\n",
       "      <td>47.401913</td>\n",
       "      <td>8.531829</td>\n",
       "      <td>0.888102</td>\n",
       "      <td>32.2</td>\n",
       "      <td>25.3</td>\n",
       "      <td>...</td>\n",
       "      <td>0</td>\n",
       "      <td>0</td>\n",
       "      <td>0</td>\n",
       "      <td>0</td>\n",
       "      <td>0</td>\n",
       "      <td>1</td>\n",
       "      <td>0</td>\n",
       "      <td>0</td>\n",
       "      <td>0</td>\n",
       "      <td>0</td>\n",
       "    </tr>\n",
       "    <tr>\n",
       "      <th>1</th>\n",
       "      <td>3220</td>\n",
       "      <td>Grabenwies 2, 8057 Zürich</td>\n",
       "      <td>Ihre neue Traumwohnung!</td>\n",
       "      <td>2.5</td>\n",
       "      <td>90</td>\n",
       "      <td>47.401535</td>\n",
       "      <td>8.536803</td>\n",
       "      <td>1.485068</td>\n",
       "      <td>50.3</td>\n",
       "      <td>42.8</td>\n",
       "      <td>...</td>\n",
       "      <td>0</td>\n",
       "      <td>0</td>\n",
       "      <td>0</td>\n",
       "      <td>0</td>\n",
       "      <td>0</td>\n",
       "      <td>0</td>\n",
       "      <td>0</td>\n",
       "      <td>0</td>\n",
       "      <td>0</td>\n",
       "      <td>0</td>\n",
       "    </tr>\n",
       "    <tr>\n",
       "      <th>2</th>\n",
       "      <td>1720</td>\n",
       "      <td>Herrligweg 9, 8048 Zürich</td>\n",
       "      <td>Zentrale 1.5 Zimmerwohnung</td>\n",
       "      <td>1.5</td>\n",
       "      <td>24</td>\n",
       "      <td>47.389893</td>\n",
       "      <td>8.484478</td>\n",
       "      <td>2.688730</td>\n",
       "      <td>42.7</td>\n",
       "      <td>36.2</td>\n",
       "      <td>...</td>\n",
       "      <td>0</td>\n",
       "      <td>0</td>\n",
       "      <td>0</td>\n",
       "      <td>0</td>\n",
       "      <td>0</td>\n",
       "      <td>0</td>\n",
       "      <td>1</td>\n",
       "      <td>0</td>\n",
       "      <td>0</td>\n",
       "      <td>0</td>\n",
       "    </tr>\n",
       "    <tr>\n",
       "      <th>3</th>\n",
       "      <td>2600</td>\n",
       "      <td>Hagenholzstrasse 59, 8050 Zürich</td>\n",
       "      <td>One-bedroom apartment in the heart of Zurich</td>\n",
       "      <td>2.5</td>\n",
       "      <td>54</td>\n",
       "      <td>47.414658</td>\n",
       "      <td>8.555408</td>\n",
       "      <td>0.647989</td>\n",
       "      <td>61.6</td>\n",
       "      <td>50.3</td>\n",
       "      <td>...</td>\n",
       "      <td>0</td>\n",
       "      <td>0</td>\n",
       "      <td>0</td>\n",
       "      <td>0</td>\n",
       "      <td>0</td>\n",
       "      <td>0</td>\n",
       "      <td>0</td>\n",
       "      <td>0</td>\n",
       "      <td>1</td>\n",
       "      <td>0</td>\n",
       "    </tr>\n",
       "    <tr>\n",
       "      <th>4</th>\n",
       "      <td>4090</td>\n",
       "      <td>Widmerstrasse 87, 8038 Zürich</td>\n",
       "      <td>Erstvermietung - Schöner wohnen in Zürich-Süd:...</td>\n",
       "      <td>4.5</td>\n",
       "      <td>105</td>\n",
       "      <td>47.334984</td>\n",
       "      <td>8.531518</td>\n",
       "      <td>1.951291</td>\n",
       "      <td>48.1</td>\n",
       "      <td>36.2</td>\n",
       "      <td>...</td>\n",
       "      <td>0</td>\n",
       "      <td>0</td>\n",
       "      <td>0</td>\n",
       "      <td>0</td>\n",
       "      <td>0</td>\n",
       "      <td>0</td>\n",
       "      <td>0</td>\n",
       "      <td>0</td>\n",
       "      <td>0</td>\n",
       "      <td>0</td>\n",
       "    </tr>\n",
       "    <tr>\n",
       "      <th>...</th>\n",
       "      <td>...</td>\n",
       "      <td>...</td>\n",
       "      <td>...</td>\n",
       "      <td>...</td>\n",
       "      <td>...</td>\n",
       "      <td>...</td>\n",
       "      <td>...</td>\n",
       "      <td>...</td>\n",
       "      <td>...</td>\n",
       "      <td>...</td>\n",
       "      <td>...</td>\n",
       "      <td>...</td>\n",
       "      <td>...</td>\n",
       "      <td>...</td>\n",
       "      <td>...</td>\n",
       "      <td>...</td>\n",
       "      <td>...</td>\n",
       "      <td>...</td>\n",
       "      <td>...</td>\n",
       "      <td>...</td>\n",
       "      <td>...</td>\n",
       "    </tr>\n",
       "    <tr>\n",
       "      <th>752</th>\n",
       "      <td>3250</td>\n",
       "      <td>Nordstrasse 290, 8037 Zürich</td>\n",
       "      <td>Wunderschöne, frisch gemalte 4.5-Zimmerwohnung</td>\n",
       "      <td>4.5</td>\n",
       "      <td>70</td>\n",
       "      <td>47.395435</td>\n",
       "      <td>8.524005</td>\n",
       "      <td>0.427301</td>\n",
       "      <td>55.9</td>\n",
       "      <td>47.1</td>\n",
       "      <td>...</td>\n",
       "      <td>0</td>\n",
       "      <td>0</td>\n",
       "      <td>0</td>\n",
       "      <td>0</td>\n",
       "      <td>0</td>\n",
       "      <td>0</td>\n",
       "      <td>0</td>\n",
       "      <td>0</td>\n",
       "      <td>0</td>\n",
       "      <td>0</td>\n",
       "    </tr>\n",
       "    <tr>\n",
       "      <th>753</th>\n",
       "      <td>2800</td>\n",
       "      <td>Badenerstrasse 434, 8004 Zürich</td>\n",
       "      <td>Apartment in Zurich - Kreis 4</td>\n",
       "      <td>2.5</td>\n",
       "      <td>94</td>\n",
       "      <td>47.380623</td>\n",
       "      <td>8.505616</td>\n",
       "      <td>1.555261</td>\n",
       "      <td>48.4</td>\n",
       "      <td>43.4</td>\n",
       "      <td>...</td>\n",
       "      <td>0</td>\n",
       "      <td>0</td>\n",
       "      <td>0</td>\n",
       "      <td>0</td>\n",
       "      <td>0</td>\n",
       "      <td>0</td>\n",
       "      <td>0</td>\n",
       "      <td>0</td>\n",
       "      <td>0</td>\n",
       "      <td>0</td>\n",
       "    </tr>\n",
       "    <tr>\n",
       "      <th>754</th>\n",
       "      <td>1930</td>\n",
       "      <td>Rümlangstrasse 57, 8052 Zürich</td>\n",
       "      <td>Wohnen wie in den Ferien</td>\n",
       "      <td>2.5</td>\n",
       "      <td>37</td>\n",
       "      <td>47.429279</td>\n",
       "      <td>8.541497</td>\n",
       "      <td>1.872843</td>\n",
       "      <td>45.5</td>\n",
       "      <td>39.7</td>\n",
       "      <td>...</td>\n",
       "      <td>0</td>\n",
       "      <td>0</td>\n",
       "      <td>0</td>\n",
       "      <td>0</td>\n",
       "      <td>0</td>\n",
       "      <td>0</td>\n",
       "      <td>0</td>\n",
       "      <td>0</td>\n",
       "      <td>0</td>\n",
       "      <td>0</td>\n",
       "    </tr>\n",
       "    <tr>\n",
       "      <th>755</th>\n",
       "      <td>2912</td>\n",
       "      <td>Langstrasse 231, 8005 Zürich</td>\n",
       "      <td>Nachmieter gesucht für traumhafte Dachwohnung ...</td>\n",
       "      <td>3.5</td>\n",
       "      <td>55</td>\n",
       "      <td>47.383877</td>\n",
       "      <td>8.530736</td>\n",
       "      <td>0.352235</td>\n",
       "      <td>66.0</td>\n",
       "      <td>60.6</td>\n",
       "      <td>...</td>\n",
       "      <td>0</td>\n",
       "      <td>0</td>\n",
       "      <td>0</td>\n",
       "      <td>0</td>\n",
       "      <td>0</td>\n",
       "      <td>0</td>\n",
       "      <td>0</td>\n",
       "      <td>0</td>\n",
       "      <td>0</td>\n",
       "      <td>0</td>\n",
       "    </tr>\n",
       "    <tr>\n",
       "      <th>756</th>\n",
       "      <td>1790</td>\n",
       "      <td>Friesstrasse 8, 8050 Zürich</td>\n",
       "      <td>Studio in Oerlikon</td>\n",
       "      <td>1.0</td>\n",
       "      <td>15</td>\n",
       "      <td>47.414040</td>\n",
       "      <td>8.547006</td>\n",
       "      <td>0.129248</td>\n",
       "      <td>58.7</td>\n",
       "      <td>48.7</td>\n",
       "      <td>...</td>\n",
       "      <td>0</td>\n",
       "      <td>0</td>\n",
       "      <td>0</td>\n",
       "      <td>0</td>\n",
       "      <td>0</td>\n",
       "      <td>0</td>\n",
       "      <td>0</td>\n",
       "      <td>0</td>\n",
       "      <td>1</td>\n",
       "      <td>0</td>\n",
       "    </tr>\n",
       "  </tbody>\n",
       "</table>\n",
       "<p>757 rows × 65 columns</p>\n",
       "</div>"
      ],
      "text/plain": [
       "     price                           address  \\\n",
       "0     4032  Käferholzstrasse 42, 8057 Zürich   \n",
       "1     3220         Grabenwies 2, 8057 Zürich   \n",
       "2     1720         Herrligweg 9, 8048 Zürich   \n",
       "3     2600  Hagenholzstrasse 59, 8050 Zürich   \n",
       "4     4090     Widmerstrasse 87, 8038 Zürich   \n",
       "..     ...                               ...   \n",
       "752   3250      Nordstrasse 290, 8037 Zürich   \n",
       "753   2800   Badenerstrasse 434, 8004 Zürich   \n",
       "754   1930    Rümlangstrasse 57, 8052 Zürich   \n",
       "755   2912      Langstrasse 231, 8005 Zürich   \n",
       "756   1790       Friesstrasse 8, 8050 Zürich   \n",
       "\n",
       "                                           description  rooms size   latitude  \\\n",
       "0                       Modernes Wohnen im Guggachpark    4.5  114  47.401913   \n",
       "1                              Ihre neue Traumwohnung!    2.5   90  47.401535   \n",
       "2                           Zentrale 1.5 Zimmerwohnung    1.5   24  47.389893   \n",
       "3         One-bedroom apartment in the heart of Zurich    2.5   54  47.414658   \n",
       "4    Erstvermietung - Schöner wohnen in Zürich-Süd:...    4.5  105  47.334984   \n",
       "..                                                 ...    ...  ...        ...   \n",
       "752     Wunderschöne, frisch gemalte 4.5-Zimmerwohnung    4.5   70  47.395435   \n",
       "753                      Apartment in Zurich - Kreis 4    2.5   94  47.380623   \n",
       "754                           Wohnen wie in den Ferien    2.5   37  47.429279   \n",
       "755  Nachmieter gesucht für traumhafte Dachwohnung ...    3.5   55  47.383877   \n",
       "756                                 Studio in Oerlikon    1.0   15  47.414040   \n",
       "\n",
       "     longitude  distance_hospital  lr_day  lr_night  ...  y2015  y2016  y2017  \\\n",
       "0     8.531829           0.888102    32.2      25.3  ...      0      0      0   \n",
       "1     8.536803           1.485068    50.3      42.8  ...      0      0      0   \n",
       "2     8.484478           2.688730    42.7      36.2  ...      0      0      0   \n",
       "3     8.555408           0.647989    61.6      50.3  ...      0      0      0   \n",
       "4     8.531518           1.951291    48.1      36.2  ...      0      0      0   \n",
       "..         ...                ...     ...       ...  ...    ...    ...    ...   \n",
       "752   8.524005           0.427301    55.9      47.1  ...      0      0      0   \n",
       "753   8.505616           1.555261    48.4      43.4  ...      0      0      0   \n",
       "754   8.541497           1.872843    45.5      39.7  ...      0      0      0   \n",
       "755   8.530736           0.352235    66.0      60.6  ...      0      0      0   \n",
       "756   8.547006           0.129248    58.7      48.7  ...      0      0      0   \n",
       "\n",
       "     y2018  y2019  y2020  y2021  y2022  y2023  y2024  \n",
       "0        0      0      1      0      0      0      0  \n",
       "1        0      0      0      0      0      0      0  \n",
       "2        0      0      0      1      0      0      0  \n",
       "3        0      0      0      0      0      1      0  \n",
       "4        0      0      0      0      0      0      0  \n",
       "..     ...    ...    ...    ...    ...    ...    ...  \n",
       "752      0      0      0      0      0      0      0  \n",
       "753      0      0      0      0      0      0      0  \n",
       "754      0      0      0      0      0      0      0  \n",
       "755      0      0      0      0      0      0      0  \n",
       "756      0      0      0      0      0      1      0  \n",
       "\n",
       "[757 rows x 65 columns]"
      ]
     },
     "execution_count": 24,
     "metadata": {},
     "output_type": "execute_result"
    }
   ],
   "source": [
    "df"
   ]
  },
  {
   "cell_type": "code",
   "execution_count": 2,
   "metadata": {},
   "outputs": [
    {
     "ename": "NameError",
     "evalue": "name 'df' is not defined",
     "output_type": "error",
     "traceback": [
      "\u001b[1;31m---------------------------------------------------------------------------\u001b[0m",
      "\u001b[1;31mNameError\u001b[0m                                 Traceback (most recent call last)",
      "Cell \u001b[1;32mIn[2], line 8\u001b[0m\n\u001b[0;32m      4\u001b[0m \u001b[38;5;28;01mimport\u001b[39;00m \u001b[38;5;21;01mcontextily\u001b[39;00m \u001b[38;5;28;01mas\u001b[39;00m \u001b[38;5;21;01mctx\u001b[39;00m \u001b[38;5;66;03m#conda install contextily // Didnt work i used 'pip install contextily' instead\u001b[39;00m\n\u001b[0;32m      7\u001b[0m \u001b[38;5;66;03m# Convert DataFrame to GeoDataFrame\u001b[39;00m\n\u001b[1;32m----> 8\u001b[0m gdf \u001b[38;5;241m=\u001b[39m gpd\u001b[38;5;241m.\u001b[39mGeoDataFrame(\u001b[43mdf\u001b[49m, geometry\u001b[38;5;241m=\u001b[39mgpd\u001b[38;5;241m.\u001b[39mpoints_from_xy(df\u001b[38;5;241m.\u001b[39mlongitude, df\u001b[38;5;241m.\u001b[39mlatitude))\n\u001b[0;32m     10\u001b[0m \u001b[38;5;66;03m# Set the coordinate reference system to WGS84 (EPSG:4326)\u001b[39;00m\n\u001b[0;32m     11\u001b[0m gdf\u001b[38;5;241m.\u001b[39mset_crs(epsg\u001b[38;5;241m=\u001b[39m\u001b[38;5;241m4326\u001b[39m, inplace\u001b[38;5;241m=\u001b[39m\u001b[38;5;28;01mTrue\u001b[39;00m)\n",
      "\u001b[1;31mNameError\u001b[0m: name 'df' is not defined"
     ]
    }
   ],
   "source": [
    "import pandas as pd\n",
    "import geopandas as gpd\n",
    "import matplotlib.pyplot as plt\n",
    "import contextily as ctx #conda install contextily // Didnt work i used 'pip install contextily' instead\n",
    "\n",
    "\n",
    "# Convert DataFrame to GeoDataFrame\n",
    "gdf = gpd.GeoDataFrame(df, geometry=gpd.points_from_xy(df.longitude, df.latitude))\n",
    "\n",
    "# Set the coordinate reference system to WGS84 (EPSG:4326)\n",
    "gdf.set_crs(epsg=4326, inplace=True)\n",
    "\n",
    "# Plot the GeoDataFrame\n",
    "fig, ax = plt.subplots(figsize=(10, 10))\n",
    "gdf.plot(ax=ax, column='wbauj', legend=True, legend_kwds={'label': \"Build Year\"})\n",
    "\n",
    "# Add basemap from contextily\n",
    "ctx.add_basemap(ax, crs=gdf.crs.to_string(), source=ctx.providers.Stamen.TonerLite)\n",
    "\n",
    "# Show plot\n",
    "plt.show()\n"
   ]
  },
  {
   "cell_type": "markdown",
   "metadata": {},
   "source": [
    "## Descision tree regressor"
   ]
  },
  {
   "cell_type": "code",
   "execution_count": 20,
   "metadata": {},
   "outputs": [],
   "source": [
    "import numpy as np\n",
    "import pandas as pd\n",
    "# conda install scikit-learn Version=1.4.2\n",
    "from sklearn.tree import DecisionTreeRegressor # had to sign out for it to work\n",
    "from sklearn.model_selection import train_test_split\n",
    "from sklearn.metrics import mean_squared_error, r2_score\n"
   ]
  },
  {
   "cell_type": "code",
   "execution_count": 42,
   "metadata": {},
   "outputs": [
    {
     "name": "stdout",
     "output_type": "stream",
     "text": [
      "Mean Squared Error: 1980264.1194956542\n",
      "R^2 Score: 0.09296211189640236\n"
     ]
    }
   ],
   "source": [
    "\n",
    "# Load the Boston housing dataset\n",
    "\n",
    "data = df.copy()\n",
    "\n",
    "columns_x = ['size',\n",
    "       'distance_hospital',            'lr_day',          'lr_night',\n",
    "             'distance_ov',             'wbauj',            'modern',\n",
    "          'erstvermietung',           'zentral',               'see',\n",
    "                     'neu',           'stöckig',             'traum',\n",
    "                   'bijou',            'neubau',            'balkon',\n",
    "                'charmant',         'erstbezug',          '1 Zimmer',\n",
    "              '1.5 Zimmer',          '2 Zimmer',        '2.5 Zimmer',\n",
    "                '3 Zimmer',        '3.5 Zimmer',          '4 Zimmer',\n",
    "              '4.5 Zimmer',          '5 Zimmer',        '5.5 Zimmer',\n",
    "                '6 Zimmer',        '6.5 Zimmer',          '7 Zimmer',\n",
    "              '7.5 Zimmer',                   'y0', 'y1999', 'y2000', 'y2001',\n",
    "       'y2003', 'y2004', 'y2005', 'y2006', 'y2008', 'y2009', 'y2010', 'y2011',\n",
    "       'y2012', 'y2013', 'y2014', 'y2015', 'y2016', 'y2017', 'y2018', 'y2019',\n",
    "       'y2020', 'y2021', 'y2022', 'y2023', 'y2024']\n",
    "X = pd.DataFrame(data[columns_x], columns=columns_x)\n",
    "y = pd.Series(data['price'])\n",
    "\n",
    "# Split the dataset into training and testing sets\n",
    "X_train, X_test, y_train, y_test = train_test_split(X, y, test_size=0.2, random_state=42)\n",
    "\n",
    "# Initialize the Decision Tree Regressor\n",
    "tree_reg = DecisionTreeRegressor(max_depth=6, random_state=42) #the lower the max depth the better the r² score 3 or 4 i although mean squared error gets better over time\n",
    "\n",
    "# Train the model\n",
    "tree_reg.fit(X_train, y_train)\n",
    "\n",
    "# Predict using the model\n",
    "y_pred = tree_reg.predict(X_test)\n",
    "\n",
    "# Evaluate the model\n",
    "mse = mean_squared_error(y_test, y_pred)\n",
    "r2 = r2_score(y_test, y_pred)\n",
    "\n",
    "print(\"Mean Squared Error:\", mse)\n",
    "print(\"R^2 Score:\", r2)"
   ]
  },
  {
   "cell_type": "code",
   "execution_count": 45,
   "metadata": {},
   "outputs": [
    {
     "name": "stdout",
     "output_type": "stream",
     "text": [
      "Mean Squared Error: 1980264.1194956542\n",
      "R^2 Score: 0.09296211189640236\n"
     ]
    },
    {
     "data": {
      "text/html": [
       "<div>\n",
       "<style scoped>\n",
       "    .dataframe tbody tr th:only-of-type {\n",
       "        vertical-align: middle;\n",
       "    }\n",
       "\n",
       "    .dataframe tbody tr th {\n",
       "        vertical-align: top;\n",
       "    }\n",
       "\n",
       "    .dataframe thead th {\n",
       "        text-align: right;\n",
       "    }\n",
       "</style>\n",
       "<table border=\"1\" class=\"dataframe\">\n",
       "  <thead>\n",
       "    <tr style=\"text-align: right;\">\n",
       "      <th></th>\n",
       "      <th>size</th>\n",
       "      <th>distance_hospital</th>\n",
       "      <th>lr_day</th>\n",
       "      <th>lr_night</th>\n",
       "      <th>distance_ov</th>\n",
       "      <th>wbauj</th>\n",
       "      <th>modern</th>\n",
       "      <th>erstvermietung</th>\n",
       "      <th>zentral</th>\n",
       "      <th>see</th>\n",
       "      <th>...</th>\n",
       "      <th>y2017</th>\n",
       "      <th>y2018</th>\n",
       "      <th>y2019</th>\n",
       "      <th>y2020</th>\n",
       "      <th>y2021</th>\n",
       "      <th>y2022</th>\n",
       "      <th>y2023</th>\n",
       "      <th>y2024</th>\n",
       "      <th>predicted_price</th>\n",
       "      <th>actual_price</th>\n",
       "    </tr>\n",
       "  </thead>\n",
       "  <tbody>\n",
       "    <tr>\n",
       "      <th>396</th>\n",
       "      <td>87</td>\n",
       "      <td>0.443022</td>\n",
       "      <td>47.8</td>\n",
       "      <td>40.8</td>\n",
       "      <td>0.165207</td>\n",
       "      <td>1999</td>\n",
       "      <td>0</td>\n",
       "      <td>0</td>\n",
       "      <td>0</td>\n",
       "      <td>0</td>\n",
       "      <td>...</td>\n",
       "      <td>0</td>\n",
       "      <td>0</td>\n",
       "      <td>0</td>\n",
       "      <td>0</td>\n",
       "      <td>0</td>\n",
       "      <td>0</td>\n",
       "      <td>0</td>\n",
       "      <td>0</td>\n",
       "      <td>3191.936709</td>\n",
       "      <td>2920</td>\n",
       "    </tr>\n",
       "    <tr>\n",
       "      <th>248</th>\n",
       "      <td>52</td>\n",
       "      <td>0.541877</td>\n",
       "      <td>47.5</td>\n",
       "      <td>40.9</td>\n",
       "      <td>0.091858</td>\n",
       "      <td>2020</td>\n",
       "      <td>0</td>\n",
       "      <td>0</td>\n",
       "      <td>0</td>\n",
       "      <td>0</td>\n",
       "      <td>...</td>\n",
       "      <td>0</td>\n",
       "      <td>0</td>\n",
       "      <td>0</td>\n",
       "      <td>1</td>\n",
       "      <td>0</td>\n",
       "      <td>0</td>\n",
       "      <td>0</td>\n",
       "      <td>0</td>\n",
       "      <td>2729.395833</td>\n",
       "      <td>2890</td>\n",
       "    </tr>\n",
       "    <tr>\n",
       "      <th>215</th>\n",
       "      <td>20</td>\n",
       "      <td>0.606784</td>\n",
       "      <td>52.9</td>\n",
       "      <td>44.6</td>\n",
       "      <td>0.185044</td>\n",
       "      <td>0</td>\n",
       "      <td>0</td>\n",
       "      <td>0</td>\n",
       "      <td>0</td>\n",
       "      <td>0</td>\n",
       "      <td>...</td>\n",
       "      <td>0</td>\n",
       "      <td>0</td>\n",
       "      <td>0</td>\n",
       "      <td>0</td>\n",
       "      <td>0</td>\n",
       "      <td>0</td>\n",
       "      <td>0</td>\n",
       "      <td>0</td>\n",
       "      <td>2587.885714</td>\n",
       "      <td>2377</td>\n",
       "    </tr>\n",
       "    <tr>\n",
       "      <th>353</th>\n",
       "      <td>50</td>\n",
       "      <td>0.171110</td>\n",
       "      <td>34.2</td>\n",
       "      <td>26.5</td>\n",
       "      <td>0.260753</td>\n",
       "      <td>1999</td>\n",
       "      <td>0</td>\n",
       "      <td>0</td>\n",
       "      <td>0</td>\n",
       "      <td>0</td>\n",
       "      <td>...</td>\n",
       "      <td>0</td>\n",
       "      <td>0</td>\n",
       "      <td>0</td>\n",
       "      <td>0</td>\n",
       "      <td>0</td>\n",
       "      <td>0</td>\n",
       "      <td>0</td>\n",
       "      <td>0</td>\n",
       "      <td>2729.395833</td>\n",
       "      <td>2500</td>\n",
       "    </tr>\n",
       "    <tr>\n",
       "      <th>548</th>\n",
       "      <td>29</td>\n",
       "      <td>0.875294</td>\n",
       "      <td>55.7</td>\n",
       "      <td>48.6</td>\n",
       "      <td>0.208322</td>\n",
       "      <td>0</td>\n",
       "      <td>0</td>\n",
       "      <td>0</td>\n",
       "      <td>0</td>\n",
       "      <td>0</td>\n",
       "      <td>...</td>\n",
       "      <td>0</td>\n",
       "      <td>0</td>\n",
       "      <td>0</td>\n",
       "      <td>0</td>\n",
       "      <td>0</td>\n",
       "      <td>0</td>\n",
       "      <td>0</td>\n",
       "      <td>0</td>\n",
       "      <td>2587.885714</td>\n",
       "      <td>1950</td>\n",
       "    </tr>\n",
       "    <tr>\n",
       "      <th>...</th>\n",
       "      <td>...</td>\n",
       "      <td>...</td>\n",
       "      <td>...</td>\n",
       "      <td>...</td>\n",
       "      <td>...</td>\n",
       "      <td>...</td>\n",
       "      <td>...</td>\n",
       "      <td>...</td>\n",
       "      <td>...</td>\n",
       "      <td>...</td>\n",
       "      <td>...</td>\n",
       "      <td>...</td>\n",
       "      <td>...</td>\n",
       "      <td>...</td>\n",
       "      <td>...</td>\n",
       "      <td>...</td>\n",
       "      <td>...</td>\n",
       "      <td>...</td>\n",
       "      <td>...</td>\n",
       "      <td>...</td>\n",
       "      <td>...</td>\n",
       "    </tr>\n",
       "    <tr>\n",
       "      <th>556</th>\n",
       "      <td>34</td>\n",
       "      <td>0.221534</td>\n",
       "      <td>39.6</td>\n",
       "      <td>30.4</td>\n",
       "      <td>0.123700</td>\n",
       "      <td>0</td>\n",
       "      <td>0</td>\n",
       "      <td>0</td>\n",
       "      <td>0</td>\n",
       "      <td>0</td>\n",
       "      <td>...</td>\n",
       "      <td>0</td>\n",
       "      <td>0</td>\n",
       "      <td>0</td>\n",
       "      <td>0</td>\n",
       "      <td>0</td>\n",
       "      <td>0</td>\n",
       "      <td>0</td>\n",
       "      <td>0</td>\n",
       "      <td>2587.885714</td>\n",
       "      <td>3311</td>\n",
       "    </tr>\n",
       "    <tr>\n",
       "      <th>265</th>\n",
       "      <td>20</td>\n",
       "      <td>1.788458</td>\n",
       "      <td>60.0</td>\n",
       "      <td>50.9</td>\n",
       "      <td>0.076453</td>\n",
       "      <td>0</td>\n",
       "      <td>0</td>\n",
       "      <td>0</td>\n",
       "      <td>0</td>\n",
       "      <td>0</td>\n",
       "      <td>...</td>\n",
       "      <td>0</td>\n",
       "      <td>0</td>\n",
       "      <td>0</td>\n",
       "      <td>0</td>\n",
       "      <td>0</td>\n",
       "      <td>0</td>\n",
       "      <td>0</td>\n",
       "      <td>0</td>\n",
       "      <td>1436.666667</td>\n",
       "      <td>1980</td>\n",
       "    </tr>\n",
       "    <tr>\n",
       "      <th>473</th>\n",
       "      <td>26</td>\n",
       "      <td>1.131843</td>\n",
       "      <td>58.4</td>\n",
       "      <td>52.3</td>\n",
       "      <td>0.156051</td>\n",
       "      <td>1999</td>\n",
       "      <td>0</td>\n",
       "      <td>0</td>\n",
       "      <td>0</td>\n",
       "      <td>0</td>\n",
       "      <td>...</td>\n",
       "      <td>0</td>\n",
       "      <td>0</td>\n",
       "      <td>0</td>\n",
       "      <td>0</td>\n",
       "      <td>0</td>\n",
       "      <td>0</td>\n",
       "      <td>0</td>\n",
       "      <td>0</td>\n",
       "      <td>2065.642857</td>\n",
       "      <td>3207</td>\n",
       "    </tr>\n",
       "    <tr>\n",
       "      <th>464</th>\n",
       "      <td>227</td>\n",
       "      <td>3.806936</td>\n",
       "      <td>33.3</td>\n",
       "      <td>25.0</td>\n",
       "      <td>0.266409</td>\n",
       "      <td>1999</td>\n",
       "      <td>0</td>\n",
       "      <td>0</td>\n",
       "      <td>0</td>\n",
       "      <td>0</td>\n",
       "      <td>...</td>\n",
       "      <td>0</td>\n",
       "      <td>0</td>\n",
       "      <td>0</td>\n",
       "      <td>0</td>\n",
       "      <td>0</td>\n",
       "      <td>0</td>\n",
       "      <td>0</td>\n",
       "      <td>0</td>\n",
       "      <td>5300.000000</td>\n",
       "      <td>5500</td>\n",
       "    </tr>\n",
       "    <tr>\n",
       "      <th>340</th>\n",
       "      <td>51</td>\n",
       "      <td>0.256609</td>\n",
       "      <td>48.3</td>\n",
       "      <td>37.3</td>\n",
       "      <td>0.171799</td>\n",
       "      <td>1999</td>\n",
       "      <td>0</td>\n",
       "      <td>0</td>\n",
       "      <td>1</td>\n",
       "      <td>0</td>\n",
       "      <td>...</td>\n",
       "      <td>0</td>\n",
       "      <td>0</td>\n",
       "      <td>0</td>\n",
       "      <td>0</td>\n",
       "      <td>0</td>\n",
       "      <td>0</td>\n",
       "      <td>0</td>\n",
       "      <td>0</td>\n",
       "      <td>2729.395833</td>\n",
       "      <td>1543</td>\n",
       "    </tr>\n",
       "  </tbody>\n",
       "</table>\n",
       "<p>127 rows × 59 columns</p>\n",
       "</div>"
      ],
      "text/plain": [
       "    size  distance_hospital  lr_day  lr_night  distance_ov  wbauj  modern  \\\n",
       "396   87           0.443022    47.8      40.8     0.165207   1999       0   \n",
       "248   52           0.541877    47.5      40.9     0.091858   2020       0   \n",
       "215   20           0.606784    52.9      44.6     0.185044      0       0   \n",
       "353   50           0.171110    34.2      26.5     0.260753   1999       0   \n",
       "548   29           0.875294    55.7      48.6     0.208322      0       0   \n",
       "..   ...                ...     ...       ...          ...    ...     ...   \n",
       "556   34           0.221534    39.6      30.4     0.123700      0       0   \n",
       "265   20           1.788458    60.0      50.9     0.076453      0       0   \n",
       "473   26           1.131843    58.4      52.3     0.156051   1999       0   \n",
       "464  227           3.806936    33.3      25.0     0.266409   1999       0   \n",
       "340   51           0.256609    48.3      37.3     0.171799   1999       0   \n",
       "\n",
       "     erstvermietung  zentral  see  ...  y2017  y2018  y2019  y2020  y2021  \\\n",
       "396               0        0    0  ...      0      0      0      0      0   \n",
       "248               0        0    0  ...      0      0      0      1      0   \n",
       "215               0        0    0  ...      0      0      0      0      0   \n",
       "353               0        0    0  ...      0      0      0      0      0   \n",
       "548               0        0    0  ...      0      0      0      0      0   \n",
       "..              ...      ...  ...  ...    ...    ...    ...    ...    ...   \n",
       "556               0        0    0  ...      0      0      0      0      0   \n",
       "265               0        0    0  ...      0      0      0      0      0   \n",
       "473               0        0    0  ...      0      0      0      0      0   \n",
       "464               0        0    0  ...      0      0      0      0      0   \n",
       "340               0        1    0  ...      0      0      0      0      0   \n",
       "\n",
       "     y2022  y2023  y2024  predicted_price  actual_price  \n",
       "396      0      0      0      3191.936709          2920  \n",
       "248      0      0      0      2729.395833          2890  \n",
       "215      0      0      0      2587.885714          2377  \n",
       "353      0      0      0      2729.395833          2500  \n",
       "548      0      0      0      2587.885714          1950  \n",
       "..     ...    ...    ...              ...           ...  \n",
       "556      0      0      0      2587.885714          3311  \n",
       "265      0      0      0      1436.666667          1980  \n",
       "473      0      0      0      2065.642857          3207  \n",
       "464      0      0      0      5300.000000          5500  \n",
       "340      0      0      0      2729.395833          1543  \n",
       "\n",
       "[127 rows x 59 columns]"
      ]
     },
     "execution_count": 45,
     "metadata": {},
     "output_type": "execute_result"
    }
   ],
   "source": [
    "import pandas as pd\n",
    "from sklearn.model_selection import train_test_split\n",
    "from sklearn.tree import DecisionTreeRegressor\n",
    "from sklearn.metrics import mean_squared_error, r2_score\n",
    "\n",
    "# Assuming 'df' is your original DataFrame and it's already been loaded with the data\n",
    "data = df.copy()\n",
    "\n",
    "# Define columns and target\n",
    "columns_x = [\n",
    "    'size', 'distance_hospital', 'lr_day', 'lr_night', 'distance_ov', 'wbauj',\n",
    "    'modern', 'erstvermietung', 'zentral', 'see', 'neu', 'stöckig', 'traum',\n",
    "    'bijou', 'neubau', 'balkon', 'charmant', 'erstbezug', '1 Zimmer',\n",
    "    '1.5 Zimmer', '2 Zimmer', '2.5 Zimmer', '3 Zimmer', '3.5 Zimmer', '4 Zimmer',\n",
    "    '4.5 Zimmer', '5 Zimmer', '5.5 Zimmer', '6 Zimmer', '6.5 Zimmer', '7 Zimmer',\n",
    "    '7.5 Zimmer', 'y0', 'y1999', 'y2000', 'y2001', 'y2003', 'y2004', 'y2005', 'y2006', \n",
    "    'y2008', 'y2009', 'y2010', 'y2011', 'y2012', 'y2013', 'y2014', 'y2015', 'y2016', \n",
    "    'y2017', 'y2018', 'y2019', 'y2020', 'y2021', 'y2022', 'y2023', 'y2024'\n",
    "]\n",
    "X = data[columns_x]\n",
    "y = data['price']\n",
    "\n",
    "# Split the dataset\n",
    "X_train, X_test, y_train, y_test = train_test_split(X, y, test_size=0.2, random_state=42)\n",
    "\n",
    "# Train the Decision Tree Regressor\n",
    "tree_reg = DecisionTreeRegressor(max_depth=6, random_state=42)\n",
    "tree_reg.fit(X_train, y_train)\n",
    "\n",
    "# Predict and evaluate\n",
    "y_pred = tree_reg.predict(X_test)\n",
    "mse = mean_squared_error(y_test, y_pred)\n",
    "r2 = r2_score(y_test, y_pred)\n",
    "\n",
    "# Add predictions back to the test DataFrame\n",
    "X_test['predicted_price'] = y_pred\n",
    "\n",
    "# Optionally, create a comprehensive DataFrame with original index\n",
    "results_df = X_test.join(data['price'], how='left')\n",
    "results_df.rename(columns={'price': 'actual_price'}, inplace=True)\n",
    "\n",
    "# Display the results\n",
    "print(\"Mean Squared Error:\", mse)\n",
    "print(\"R^2 Score:\", r2)\n",
    "results_df  # Show the first few rows of the results DataFrame\n"
   ]
  },
  {
   "cell_type": "code",
   "execution_count": 46,
   "metadata": {},
   "outputs": [],
   "source": [
    "results_df['delta'] = results_df['actual_price'] - results_df['predicted_price']\n",
    "# Sort the DataFrame by the delta column\n",
    "sorted_df = results_df.sort_values(by='delta', ascending=False)  # or `ascending=True` for ascending order"
   ]
  },
  {
   "cell_type": "code",
   "execution_count": 47,
   "metadata": {},
   "outputs": [
    {
     "data": {
      "text/html": [
       "<div>\n",
       "<style scoped>\n",
       "    .dataframe tbody tr th:only-of-type {\n",
       "        vertical-align: middle;\n",
       "    }\n",
       "\n",
       "    .dataframe tbody tr th {\n",
       "        vertical-align: top;\n",
       "    }\n",
       "\n",
       "    .dataframe thead th {\n",
       "        text-align: right;\n",
       "    }\n",
       "</style>\n",
       "<table border=\"1\" class=\"dataframe\">\n",
       "  <thead>\n",
       "    <tr style=\"text-align: right;\">\n",
       "      <th></th>\n",
       "      <th>size</th>\n",
       "      <th>distance_hospital</th>\n",
       "      <th>lr_day</th>\n",
       "      <th>lr_night</th>\n",
       "      <th>distance_ov</th>\n",
       "      <th>wbauj</th>\n",
       "      <th>modern</th>\n",
       "      <th>erstvermietung</th>\n",
       "      <th>zentral</th>\n",
       "      <th>see</th>\n",
       "      <th>...</th>\n",
       "      <th>y2018</th>\n",
       "      <th>y2019</th>\n",
       "      <th>y2020</th>\n",
       "      <th>y2021</th>\n",
       "      <th>y2022</th>\n",
       "      <th>y2023</th>\n",
       "      <th>y2024</th>\n",
       "      <th>predicted_price</th>\n",
       "      <th>actual_price</th>\n",
       "      <th>delta</th>\n",
       "    </tr>\n",
       "  </thead>\n",
       "  <tbody>\n",
       "    <tr>\n",
       "      <th>571</th>\n",
       "      <td>100</td>\n",
       "      <td>0.669732</td>\n",
       "      <td>37.4</td>\n",
       "      <td>28.9</td>\n",
       "      <td>0.144386</td>\n",
       "      <td>1999</td>\n",
       "      <td>0</td>\n",
       "      <td>0</td>\n",
       "      <td>0</td>\n",
       "      <td>1</td>\n",
       "      <td>...</td>\n",
       "      <td>0</td>\n",
       "      <td>0</td>\n",
       "      <td>0</td>\n",
       "      <td>0</td>\n",
       "      <td>0</td>\n",
       "      <td>0</td>\n",
       "      <td>0</td>\n",
       "      <td>3817.500</td>\n",
       "      <td>8990</td>\n",
       "      <td>5172.500</td>\n",
       "    </tr>\n",
       "    <tr>\n",
       "      <th>559</th>\n",
       "      <td>160</td>\n",
       "      <td>0.026021</td>\n",
       "      <td>34.4</td>\n",
       "      <td>27.6</td>\n",
       "      <td>0.127199</td>\n",
       "      <td>2015</td>\n",
       "      <td>0</td>\n",
       "      <td>0</td>\n",
       "      <td>0</td>\n",
       "      <td>0</td>\n",
       "      <td>...</td>\n",
       "      <td>0</td>\n",
       "      <td>0</td>\n",
       "      <td>0</td>\n",
       "      <td>0</td>\n",
       "      <td>0</td>\n",
       "      <td>0</td>\n",
       "      <td>0</td>\n",
       "      <td>5055.000</td>\n",
       "      <td>9450</td>\n",
       "      <td>4395.000</td>\n",
       "    </tr>\n",
       "    <tr>\n",
       "      <th>535</th>\n",
       "      <td>150</td>\n",
       "      <td>0.362236</td>\n",
       "      <td>50.3</td>\n",
       "      <td>39.9</td>\n",
       "      <td>0.209900</td>\n",
       "      <td>2022</td>\n",
       "      <td>0</td>\n",
       "      <td>0</td>\n",
       "      <td>0</td>\n",
       "      <td>0</td>\n",
       "      <td>...</td>\n",
       "      <td>0</td>\n",
       "      <td>0</td>\n",
       "      <td>0</td>\n",
       "      <td>0</td>\n",
       "      <td>1</td>\n",
       "      <td>0</td>\n",
       "      <td>0</td>\n",
       "      <td>6097.000</td>\n",
       "      <td>9800</td>\n",
       "      <td>3703.000</td>\n",
       "    </tr>\n",
       "    <tr>\n",
       "      <th>290</th>\n",
       "      <td>160</td>\n",
       "      <td>0.561518</td>\n",
       "      <td>38.1</td>\n",
       "      <td>32.4</td>\n",
       "      <td>0.286033</td>\n",
       "      <td>0</td>\n",
       "      <td>0</td>\n",
       "      <td>0</td>\n",
       "      <td>0</td>\n",
       "      <td>0</td>\n",
       "      <td>...</td>\n",
       "      <td>0</td>\n",
       "      <td>0</td>\n",
       "      <td>0</td>\n",
       "      <td>0</td>\n",
       "      <td>0</td>\n",
       "      <td>0</td>\n",
       "      <td>0</td>\n",
       "      <td>4683.000</td>\n",
       "      <td>7500</td>\n",
       "      <td>2817.000</td>\n",
       "    </tr>\n",
       "    <tr>\n",
       "      <th>41</th>\n",
       "      <td>109</td>\n",
       "      <td>2.134961</td>\n",
       "      <td>53.6</td>\n",
       "      <td>43.9</td>\n",
       "      <td>0.041342</td>\n",
       "      <td>1999</td>\n",
       "      <td>0</td>\n",
       "      <td>1</td>\n",
       "      <td>0</td>\n",
       "      <td>0</td>\n",
       "      <td>...</td>\n",
       "      <td>0</td>\n",
       "      <td>0</td>\n",
       "      <td>0</td>\n",
       "      <td>0</td>\n",
       "      <td>0</td>\n",
       "      <td>0</td>\n",
       "      <td>0</td>\n",
       "      <td>3993.875</td>\n",
       "      <td>5990</td>\n",
       "      <td>1996.125</td>\n",
       "    </tr>\n",
       "    <tr>\n",
       "      <th>...</th>\n",
       "      <td>...</td>\n",
       "      <td>...</td>\n",
       "      <td>...</td>\n",
       "      <td>...</td>\n",
       "      <td>...</td>\n",
       "      <td>...</td>\n",
       "      <td>...</td>\n",
       "      <td>...</td>\n",
       "      <td>...</td>\n",
       "      <td>...</td>\n",
       "      <td>...</td>\n",
       "      <td>...</td>\n",
       "      <td>...</td>\n",
       "      <td>...</td>\n",
       "      <td>...</td>\n",
       "      <td>...</td>\n",
       "      <td>...</td>\n",
       "      <td>...</td>\n",
       "      <td>...</td>\n",
       "      <td>...</td>\n",
       "      <td>...</td>\n",
       "    </tr>\n",
       "    <tr>\n",
       "      <th>412</th>\n",
       "      <td>87</td>\n",
       "      <td>0.403926</td>\n",
       "      <td>49.2</td>\n",
       "      <td>37.1</td>\n",
       "      <td>0.113873</td>\n",
       "      <td>2014</td>\n",
       "      <td>0</td>\n",
       "      <td>0</td>\n",
       "      <td>0</td>\n",
       "      <td>0</td>\n",
       "      <td>...</td>\n",
       "      <td>0</td>\n",
       "      <td>0</td>\n",
       "      <td>0</td>\n",
       "      <td>0</td>\n",
       "      <td>0</td>\n",
       "      <td>0</td>\n",
       "      <td>0</td>\n",
       "      <td>6332.000</td>\n",
       "      <td>3180</td>\n",
       "      <td>-3152.000</td>\n",
       "    </tr>\n",
       "    <tr>\n",
       "      <th>268</th>\n",
       "      <td>70</td>\n",
       "      <td>0.160503</td>\n",
       "      <td>57.1</td>\n",
       "      <td>48.6</td>\n",
       "      <td>0.124083</td>\n",
       "      <td>2009</td>\n",
       "      <td>0</td>\n",
       "      <td>0</td>\n",
       "      <td>0</td>\n",
       "      <td>0</td>\n",
       "      <td>...</td>\n",
       "      <td>0</td>\n",
       "      <td>0</td>\n",
       "      <td>0</td>\n",
       "      <td>0</td>\n",
       "      <td>0</td>\n",
       "      <td>0</td>\n",
       "      <td>0</td>\n",
       "      <td>6900.000</td>\n",
       "      <td>3400</td>\n",
       "      <td>-3500.000</td>\n",
       "    </tr>\n",
       "    <tr>\n",
       "      <th>497</th>\n",
       "      <td>70</td>\n",
       "      <td>0.178613</td>\n",
       "      <td>60.3</td>\n",
       "      <td>54.2</td>\n",
       "      <td>0.081564</td>\n",
       "      <td>1999</td>\n",
       "      <td>0</td>\n",
       "      <td>0</td>\n",
       "      <td>0</td>\n",
       "      <td>0</td>\n",
       "      <td>...</td>\n",
       "      <td>0</td>\n",
       "      <td>0</td>\n",
       "      <td>0</td>\n",
       "      <td>0</td>\n",
       "      <td>0</td>\n",
       "      <td>0</td>\n",
       "      <td>0</td>\n",
       "      <td>6900.000</td>\n",
       "      <td>2836</td>\n",
       "      <td>-4064.000</td>\n",
       "    </tr>\n",
       "    <tr>\n",
       "      <th>176</th>\n",
       "      <td>70</td>\n",
       "      <td>0.420454</td>\n",
       "      <td>57.2</td>\n",
       "      <td>44.3</td>\n",
       "      <td>0.095066</td>\n",
       "      <td>1999</td>\n",
       "      <td>0</td>\n",
       "      <td>0</td>\n",
       "      <td>0</td>\n",
       "      <td>0</td>\n",
       "      <td>...</td>\n",
       "      <td>0</td>\n",
       "      <td>0</td>\n",
       "      <td>0</td>\n",
       "      <td>0</td>\n",
       "      <td>0</td>\n",
       "      <td>0</td>\n",
       "      <td>0</td>\n",
       "      <td>6900.000</td>\n",
       "      <td>2570</td>\n",
       "      <td>-4330.000</td>\n",
       "    </tr>\n",
       "    <tr>\n",
       "      <th>6</th>\n",
       "      <td>180</td>\n",
       "      <td>2.429298</td>\n",
       "      <td>48.1</td>\n",
       "      <td>40.7</td>\n",
       "      <td>0.150502</td>\n",
       "      <td>2010</td>\n",
       "      <td>0</td>\n",
       "      <td>0</td>\n",
       "      <td>0</td>\n",
       "      <td>0</td>\n",
       "      <td>...</td>\n",
       "      <td>0</td>\n",
       "      <td>0</td>\n",
       "      <td>0</td>\n",
       "      <td>0</td>\n",
       "      <td>0</td>\n",
       "      <td>0</td>\n",
       "      <td>0</td>\n",
       "      <td>12653.000</td>\n",
       "      <td>4835</td>\n",
       "      <td>-7818.000</td>\n",
       "    </tr>\n",
       "  </tbody>\n",
       "</table>\n",
       "<p>127 rows × 60 columns</p>\n",
       "</div>"
      ],
      "text/plain": [
       "    size  distance_hospital  lr_day  lr_night  distance_ov  wbauj  modern  \\\n",
       "571  100           0.669732    37.4      28.9     0.144386   1999       0   \n",
       "559  160           0.026021    34.4      27.6     0.127199   2015       0   \n",
       "535  150           0.362236    50.3      39.9     0.209900   2022       0   \n",
       "290  160           0.561518    38.1      32.4     0.286033      0       0   \n",
       "41   109           2.134961    53.6      43.9     0.041342   1999       0   \n",
       "..   ...                ...     ...       ...          ...    ...     ...   \n",
       "412   87           0.403926    49.2      37.1     0.113873   2014       0   \n",
       "268   70           0.160503    57.1      48.6     0.124083   2009       0   \n",
       "497   70           0.178613    60.3      54.2     0.081564   1999       0   \n",
       "176   70           0.420454    57.2      44.3     0.095066   1999       0   \n",
       "6    180           2.429298    48.1      40.7     0.150502   2010       0   \n",
       "\n",
       "     erstvermietung  zentral  see  ...  y2018  y2019  y2020  y2021  y2022  \\\n",
       "571               0        0    1  ...      0      0      0      0      0   \n",
       "559               0        0    0  ...      0      0      0      0      0   \n",
       "535               0        0    0  ...      0      0      0      0      1   \n",
       "290               0        0    0  ...      0      0      0      0      0   \n",
       "41                1        0    0  ...      0      0      0      0      0   \n",
       "..              ...      ...  ...  ...    ...    ...    ...    ...    ...   \n",
       "412               0        0    0  ...      0      0      0      0      0   \n",
       "268               0        0    0  ...      0      0      0      0      0   \n",
       "497               0        0    0  ...      0      0      0      0      0   \n",
       "176               0        0    0  ...      0      0      0      0      0   \n",
       "6                 0        0    0  ...      0      0      0      0      0   \n",
       "\n",
       "     y2023  y2024  predicted_price  actual_price     delta  \n",
       "571      0      0         3817.500          8990  5172.500  \n",
       "559      0      0         5055.000          9450  4395.000  \n",
       "535      0      0         6097.000          9800  3703.000  \n",
       "290      0      0         4683.000          7500  2817.000  \n",
       "41       0      0         3993.875          5990  1996.125  \n",
       "..     ...    ...              ...           ...       ...  \n",
       "412      0      0         6332.000          3180 -3152.000  \n",
       "268      0      0         6900.000          3400 -3500.000  \n",
       "497      0      0         6900.000          2836 -4064.000  \n",
       "176      0      0         6900.000          2570 -4330.000  \n",
       "6        0      0        12653.000          4835 -7818.000  \n",
       "\n",
       "[127 rows x 60 columns]"
      ]
     },
     "execution_count": 47,
     "metadata": {},
     "output_type": "execute_result"
    }
   ],
   "source": [
    "sorted_df"
   ]
  },
  {
   "cell_type": "code",
   "execution_count": null,
   "metadata": {},
   "outputs": [],
   "source": []
  }
 ],
 "metadata": {
  "kernelspec": {
   "display_name": "mlpenv",
   "language": "python",
   "name": "python3"
  },
  "language_info": {
   "codemirror_mode": {
    "name": "ipython",
    "version": 3
   },
   "file_extension": ".py",
   "mimetype": "text/x-python",
   "name": "python",
   "nbconvert_exporter": "python",
   "pygments_lexer": "ipython3",
   "version": "3.11.5"
  }
 },
 "nbformat": 4,
 "nbformat_minor": 2
}
