{
 "cells": [
  {
   "cell_type": "code",
   "execution_count": 2,
   "metadata": {},
   "outputs": [],
   "source": [
    "import pandas as pd\n",
    "import numpy as np\n",
    "import geopandas as gpd\n",
    "from shapely.geometry import Point, Polygon\n",
    "\n",
    "from scipy.spatial import cKDTree\n",
    "import haversine as hs  # pip install haversine"
   ]
  },
  {
   "cell_type": "markdown",
   "metadata": {},
   "source": [
    "#see what kind of data is located in the file wohnungsregister and see if i can do a match on the address or if the "
   ]
  },
  {
   "cell_type": "code",
   "execution_count": 4,
   "metadata": {},
   "outputs": [],
   "source": [
    "gdf_register = gpd.read_file(r'C:\\Users\\gigim\\Documents\\GitHub\\mlp\\gedodata_backup\\\\data_Wohnungsregister.gpkg')"
   ]
  },
  {
   "cell_type": "code",
   "execution_count": 7,
   "metadata": {},
   "outputs": [],
   "source": [
    "#convert geoDataFrame to DF\n",
    "def todf(gdf):\n",
    "    # Transform to WGS 84 CRS\n",
    "    gdf = gdf.to_crs(epsg=4326)\n",
    "    # First ensure that your geometries are points\n",
    "    assert all(gdf.geometry.geom_type == 'Point'), \"All geometries must be Points.\"\n",
    "\n",
    "    # Create longitude and latitude columns from the geometry\n",
    "    gdf['longitude'] = gdf.geometry.x\n",
    "    gdf['latitude'] = gdf.geometry.y\n",
    "\n",
    "    # Now convert your GeoDataFrame to a DataFrame\n",
    "    df = pd.DataFrame(gdf.drop(columns='geometry'))\n",
    "    return df\n",
    "\n",
    "df_register = todf(gdf_register)"
   ]
  },
  {
   "cell_type": "code",
   "execution_count": 36,
   "metadata": {},
   "outputs": [],
   "source": [
    "def merge_address(df):\n",
    "    # Use the apply function to create a new 'address' column\n",
    "    df['address'] = df.apply(\n",
    "        lambda row: f\"{row['strname']} {row['deinr']}, {row['dplz4']} {row['dplzname']}\",\n",
    "        axis=1\n",
    "    )\n",
    "    return df\n",
    "\n",
    "# Example usage\n",
    "df_register_1 = merge_address(df_register)"
   ]
  },
  {
   "cell_type": "code",
   "execution_count": 46,
   "metadata": {},
   "outputs": [],
   "source": [
    "# read csv file of addresses with long and lat\n",
    "df_24 = pd.read_csv('immoscout24_geocoded.csv', delimiter='|')"
   ]
  },
  {
   "cell_type": "code",
   "execution_count": 47,
   "metadata": {},
   "outputs": [],
   "source": [
    "# Replace 'str.' with 'strasse' in the 'address' column\n",
    "df_24['address_x'] = df_24['address_x'].str.replace('str\\.', 'strasse', regex=True)\n"
   ]
  },
  {
   "cell_type": "code",
   "execution_count": 26,
   "metadata": {},
   "outputs": [
    {
     "data": {
      "text/plain": [
       "Index(['egid', 'ewid', 'edid', 'whgnr', 'wstwk', 'wstwklang', 'wbez', 'wmehrg',\n",
       "       'wmehrglang', 'wbauj', 'wabbj', 'wstat', 'wstatlang', 'warea', 'wazim',\n",
       "       'wkche', 'wkchelang', 'dkode', 'dkodn', 'deinr', 'strname', 'dplz4',\n",
       "       'dplzname', 'dexpdat', 'objectid', 'longitude', 'latitude', 'addresse'],\n",
       "      dtype='object')"
      ]
     },
     "execution_count": 26,
     "metadata": {},
     "output_type": "execute_result"
    }
   ],
   "source": [
    "df_register_1.columns"
   ]
  },
  {
   "cell_type": "code",
   "execution_count": 41,
   "metadata": {},
   "outputs": [],
   "source": [
    "# Columns to drop\n",
    "columns_to_drop = ['egid', 'ewid', 'edid', 'whgnr', 'wstwk', 'wstwklang', 'wbez', 'wmehrg',\n",
    "       'wmehrglang', 'wstat', 'wstatlang', 'warea', 'wabbj', 'wazim',\n",
    "       'wkche', 'wkchelang', 'dkode', 'dkodn', 'deinr', 'strname', 'dplz4',\n",
    "       'dplzname', 'dexpdat', 'objectid', 'longitude', 'latitude', 'addresse']\n",
    "\n",
    "# Dropping the columns\n",
    "df_register_2 = df_register_1.drop(columns=columns_to_drop)"
   ]
  },
  {
   "cell_type": "code",
   "execution_count": 50,
   "metadata": {},
   "outputs": [],
   "source": [
    "df_register_2.to_csv('geodata/df_register.csv')"
   ]
  },
  {
   "cell_type": "code",
   "execution_count": 48,
   "metadata": {},
   "outputs": [],
   "source": [
    "# Merge df1 and df2 on the 'address' of df1 and 'address_x' of df2\n",
    "merged_df = pd.merge(df_24, df_register_2, left_on='address_x', right_on='address', how='left')"
   ]
  },
  {
   "cell_type": "code",
   "execution_count": 49,
   "metadata": {},
   "outputs": [],
   "source": [
    "merged_df.to_clipboard()"
   ]
  },
  {
   "cell_type": "code",
   "execution_count": 53,
   "metadata": {},
   "outputs": [
    {
     "data": {
      "text/html": [
       "<div>\n",
       "<style scoped>\n",
       "    .dataframe tbody tr th:only-of-type {\n",
       "        vertical-align: middle;\n",
       "    }\n",
       "\n",
       "    .dataframe tbody tr th {\n",
       "        vertical-align: top;\n",
       "    }\n",
       "\n",
       "    .dataframe thead th {\n",
       "        text-align: right;\n",
       "    }\n",
       "</style>\n",
       "<table border=\"1\" class=\"dataframe\">\n",
       "  <thead>\n",
       "    <tr style=\"text-align: right;\">\n",
       "      <th></th>\n",
       "      <th>wbauj</th>\n",
       "      <th>address</th>\n",
       "    </tr>\n",
       "  </thead>\n",
       "  <tbody>\n",
       "    <tr>\n",
       "      <th>0</th>\n",
       "      <td>1999.0</td>\n",
       "      <td>Hofstrasse 64, 8032 Zürich</td>\n",
       "    </tr>\n",
       "    <tr>\n",
       "      <th>1</th>\n",
       "      <td>1999.0</td>\n",
       "      <td>Hofstrasse 64, 8032 Zürich</td>\n",
       "    </tr>\n",
       "    <tr>\n",
       "      <th>2</th>\n",
       "      <td>1999.0</td>\n",
       "      <td>Hofstrasse 64, 8032 Zürich</td>\n",
       "    </tr>\n",
       "    <tr>\n",
       "      <th>3</th>\n",
       "      <td>1999.0</td>\n",
       "      <td>Hofstrasse 64, 8032 Zürich</td>\n",
       "    </tr>\n",
       "    <tr>\n",
       "      <th>4</th>\n",
       "      <td>1999.0</td>\n",
       "      <td>Hofstrasse 64, 8032 Zürich</td>\n",
       "    </tr>\n",
       "    <tr>\n",
       "      <th>...</th>\n",
       "      <td>...</td>\n",
       "      <td>...</td>\n",
       "    </tr>\n",
       "    <tr>\n",
       "      <th>267546</th>\n",
       "      <td>2015.0</td>\n",
       "      <td>Brandschenkestrasse 64, 8002 Zürich</td>\n",
       "    </tr>\n",
       "    <tr>\n",
       "      <th>267547</th>\n",
       "      <td>2015.0</td>\n",
       "      <td>Brandschenkestrasse 64, 8002 Zürich</td>\n",
       "    </tr>\n",
       "    <tr>\n",
       "      <th>267548</th>\n",
       "      <td>2015.0</td>\n",
       "      <td>Brandschenkestrasse 66, 8002 Zürich</td>\n",
       "    </tr>\n",
       "    <tr>\n",
       "      <th>267549</th>\n",
       "      <td>2015.0</td>\n",
       "      <td>Brandschenkestrasse 66, 8002 Zürich</td>\n",
       "    </tr>\n",
       "    <tr>\n",
       "      <th>267550</th>\n",
       "      <td>2015.0</td>\n",
       "      <td>Brandschenkestrasse 66, 8002 Zürich</td>\n",
       "    </tr>\n",
       "  </tbody>\n",
       "</table>\n",
       "<p>267551 rows × 2 columns</p>\n",
       "</div>"
      ],
      "text/plain": [
       "         wbauj                              address\n",
       "0       1999.0           Hofstrasse 64, 8032 Zürich\n",
       "1       1999.0           Hofstrasse 64, 8032 Zürich\n",
       "2       1999.0           Hofstrasse 64, 8032 Zürich\n",
       "3       1999.0           Hofstrasse 64, 8032 Zürich\n",
       "4       1999.0           Hofstrasse 64, 8032 Zürich\n",
       "...        ...                                  ...\n",
       "267546  2015.0  Brandschenkestrasse 64, 8002 Zürich\n",
       "267547  2015.0  Brandschenkestrasse 64, 8002 Zürich\n",
       "267548  2015.0  Brandschenkestrasse 66, 8002 Zürich\n",
       "267549  2015.0  Brandschenkestrasse 66, 8002 Zürich\n",
       "267550  2015.0  Brandschenkestrasse 66, 8002 Zürich\n",
       "\n",
       "[267551 rows x 2 columns]"
      ]
     },
     "execution_count": 53,
     "metadata": {},
     "output_type": "execute_result"
    }
   ],
   "source": [
    "df_register_3 = pd.read_csv('geodata/df_register.csv')\n",
    "df_register_3"
   ]
  }
 ],
 "metadata": {
  "kernelspec": {
   "display_name": "mlpenv",
   "language": "python",
   "name": "python3"
  },
  "language_info": {
   "codemirror_mode": {
    "name": "ipython",
    "version": 3
   },
   "file_extension": ".py",
   "mimetype": "text/x-python",
   "name": "python",
   "nbconvert_exporter": "python",
   "pygments_lexer": "ipython3",
   "version": "3.11.5"
  }
 },
 "nbformat": 4,
 "nbformat_minor": 2
}
