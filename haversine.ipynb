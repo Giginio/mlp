{
 "cells": [
  {
   "cell_type": "code",
   "execution_count": 5,
   "metadata": {},
   "outputs": [],
   "source": [
    "import pandas as pd\n",
    "import numpy as np\n",
    "import geopandas as gpd\n",
    "from shapely.geometry import Point, Polygon\n",
    "\n",
    "from scipy.spatial import cKDTree\n",
    "import haversine as hs  # pip install haversine\n",
    "\n"
   ]
  },
  {
   "cell_type": "markdown",
   "metadata": {},
   "source": [
    "# Nearest distance with haversine function"
   ]
  },
  {
   "cell_type": "code",
   "execution_count": 4,
   "metadata": {},
   "outputs": [],
   "source": [
    "# import hospital data as geodataframe\n",
    "gdf_spital = gpd.read_file(r'C:\\Users\\gigim\\Documents\\GitHub\\mlp\\geodata\\\\data_spital.gpkg')\n",
    "gdf_laerm = gpd.read_file(r'C:\\Users\\gigim\\Documents\\GitHub\\mlp\\geodata\\\\data_strassenlaerm.gpkg')\n",
    "gdf_ov = gpd.read_file(r'C:\\Users\\gigim\\Documents\\GitHub\\mlp\\geodata\\\\Haltestellen_des_offentlichen_Verkehrs_-OGD.gpkg')\n",
    "\n",
    "# read csv file of addresses with long and lat\n",
    "df_24 = pd.read_csv('immoscout24_geocoded.csv', delimiter='|')\n",
    "\n"
   ]
  },
  {
   "cell_type": "code",
   "execution_count": 12,
   "metadata": {},
   "outputs": [],
   "source": [
    "gdf_ov = gpd.read_file(r'C:\\Users\\gigim\\Documents\\GitHub\\mlp\\geodata\\\\Haltestellen_des_offentlichen_Verkehrs_-OGD.gpkg')"
   ]
  },
  {
   "cell_type": "code",
   "execution_count": 7,
   "metadata": {},
   "outputs": [
    {
     "name": "stdout",
     "output_type": "stream",
     "text": [
      "(641, 31)\n",
      "(637, 31)\n"
     ]
    }
   ],
   "source": [
    "\n",
    "# remove nan values in geodaraframe\n",
    "print(df_24.shape)\n",
    "# Filter out rows where 'geometry' is NaN\n",
    "df_24.dropna(subset=['longitude'], inplace=True)\n",
    "print(df_24.shape)\n",
    "\n"
   ]
  },
  {
   "cell_type": "code",
   "execution_count": 13,
   "metadata": {},
   "outputs": [],
   "source": [
    "#convert geoDataFrame to DF\n",
    "def todf(gdf):\n",
    "    # Transform to WGS 84 CRS\n",
    "    gdf = gdf.to_crs(epsg=4326)\n",
    "    # First ensure that your geometries are points\n",
    "    assert all(gdf.geometry.geom_type == 'Point'), \"All geometries must be Points.\"\n",
    "\n",
    "    # Create longitude and latitude columns from the geometry\n",
    "    gdf['longitude'] = gdf.geometry.x\n",
    "    gdf['latitude'] = gdf.geometry.y\n",
    "\n",
    "    # Now convert your GeoDataFrame to a DataFrame\n",
    "    df = pd.DataFrame(gdf.drop(columns='geometry'))\n",
    "\n",
    "df_spital = todf(gdf_spital)\n",
    "df_laerm = todf(gdf_laerm)\n",
    "df_ov = todf(gdf_ov)\n"
   ]
  },
  {
   "cell_type": "code",
   "execution_count": null,
   "metadata": {},
   "outputs": [],
   "source": []
  },
  {
   "cell_type": "code",
   "execution_count": null,
   "metadata": {},
   "outputs": [],
   "source": [
    "# Calculate distance using haversine (Quelle: https://towardsdatascience.com/calculating-distance-between-two-geolocations-in-python-26ad3afe287b, https://pypi.org/project/haversine/)\n",
    "\n",
    "def distance(df_add, df_24 = df_24):\n",
    "\n",
    "    for index, row in df_24.iterrows():\n",
    "        loc1 = (row['latitude'], row['longitude'])\n",
    "        print(loc1)\n",
    "        min_distance = float('inf')\n",
    "        for index2, row2 in df_add.iterrows():\n",
    "            loc2 = (row2['latitude'], row2['longitude'])\n",
    "            print(loc2)\n",
    "            distance = hs.haversine(loc1,loc2)\n",
    "            if distance < min_distance:\n",
    "                df_24.at[index, 'distance_hosp'] = distance\n",
    "                min_distance = distance\n",
    "    return df_24\n",
    "\n",
    "    "
   ]
  },
  {
   "cell_type": "code",
   "execution_count": null,
   "metadata": {},
   "outputs": [],
   "source": [
    "# with kd tree by chat gpt\n",
    "\n",
    "def calculate_distance(df_add, df_24):\n",
    "    # Convert DataFrame columns to numpy arrays for KD-Tree\n",
    "    tree = cKDTree(df_add[['latitude', 'longitude']].to_numpy())\n",
    "    distances, indices = tree.query(df_24[['latitude', 'longitude']].to_numpy(), k=1)\n",
    "\n",
    "    # Convert distances from degrees (output by KD-Tree) to kilometers using haversine\n",
    "    df_24['distance_hosp'] = [haversine(df_24[['latitude', 'longitude']].iloc[i], df_add[['latitude', 'longitude']].iloc[indices[i]]) for i in range(len(indices))]\n",
    "\n",
    "    return df_24"
   ]
  }
 ],
 "metadata": {
  "kernelspec": {
   "display_name": "mlpenv",
   "language": "python",
   "name": "python3"
  },
  "language_info": {
   "codemirror_mode": {
    "name": "ipython",
    "version": 3
   },
   "file_extension": ".py",
   "mimetype": "text/x-python",
   "name": "python",
   "nbconvert_exporter": "python",
   "pygments_lexer": "ipython3",
   "version": "3.11.5"
  }
 },
 "nbformat": 4,
 "nbformat_minor": 2
}
